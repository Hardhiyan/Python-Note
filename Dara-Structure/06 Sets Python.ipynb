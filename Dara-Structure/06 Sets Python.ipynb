{
 "cells": [
  {
   "cell_type": "code",
   "execution_count": 1,
   "id": "0e2fafab",
   "metadata": {},
   "outputs": [
    {
     "name": "stdout",
     "output_type": "stream",
     "text": [
      "{'Wahid', 'Huda', 'Basith', 'Lendis'}\n",
      "{'apel', 'mangga'}\n",
      "{('A', 'B'), True, 'hewan', 'manusia', 5}\n"
     ]
    }
   ],
   "source": [
    "# menggunakan kurung kurawal\n",
    "himpunan_siswa = {'Huda', 'Lendis', 'Wahid', 'Basith'}\n",
    "print(himpunan_siswa)\n",
    "\n",
    "# mengkonversi list ke dalam set\n",
    "himpunan_buah = set(['mangga', 'apel'])\n",
    "print(himpunan_buah)\n",
    "\n",
    "# set dengan tipe data yang berbeda-beda\n",
    "set_campuran = {'manusia', 'hewan', 5, True, ('A', 'B')}\n",
    "print(set_campuran)"
   ]
  },
  {
   "cell_type": "code",
   "execution_count": 3,
   "id": "8a429d1c",
   "metadata": {},
   "outputs": [
    {
     "name": "stdout",
     "output_type": "stream",
     "text": [
      "{'Wahid', 'Basith', 'Huda', 'Lendis'}\n"
     ]
    }
   ],
   "source": [
    "#Bukti bahwa Sets tidak berurut\n",
    "\n",
    "himpunan_siswa = {'Huda', 'Lendis', 'Wahid', 'Basith'}\n",
    "print(himpunan_siswa)"
   ]
  },
  {
   "cell_type": "code",
   "execution_count": 1,
   "id": "fda5a77c",
   "metadata": {},
   "outputs": [
    {
     "ename": "TypeError",
     "evalue": "'set' object is not subscriptable",
     "output_type": "error",
     "traceback": [
      "\u001b[1;31m---------------------------------------------------------------------------\u001b[0m",
      "\u001b[1;31mTypeError\u001b[0m                                 Traceback (most recent call last)",
      "Input \u001b[1;32mIn [1]\u001b[0m, in \u001b[0;36m<cell line: 2>\u001b[1;34m()\u001b[0m\n\u001b[0;32m      1\u001b[0m set_ku \u001b[38;5;241m=\u001b[39m {\u001b[38;5;124m'\u001b[39m\u001b[38;5;124ma\u001b[39m\u001b[38;5;124m'\u001b[39m}\n\u001b[1;32m----> 2\u001b[0m \u001b[38;5;28mprint\u001b[39m(\u001b[43mset_ku\u001b[49m\u001b[43m[\u001b[49m\u001b[38;5;241;43m0\u001b[39;49m\u001b[43m]\u001b[49m)\n",
      "\u001b[1;31mTypeError\u001b[0m: 'set' object is not subscriptable"
     ]
    }
   ],
   "source": [
    "set_ku = {'a'}\n",
    "print(set_ku[0])"
   ]
  },
  {
   "cell_type": "code",
   "execution_count": 3,
   "id": "18f81212",
   "metadata": {},
   "outputs": [
    {
     "name": "stdout",
     "output_type": "stream",
     "text": [
      "{True, 2, 3, 'mangga', 'lemon', 'alpukat'}\n",
      "{0, (7, 8, 9), (1, 2, 3), (4, 5, 6)}\n"
     ]
    }
   ],
   "source": [
    "# anggota set harus dari tipe data yang immutable\n",
    "set_buah = { 'mangga', 'lemon', 'alpukat', True, 1, 2, 3 }\n",
    "\n",
    "# kita bisa menjadikan tuple sebagai anggota\n",
    "# karena ia bersifat immutable\n",
    "papan_ketik = {\n",
    "  (1, 2, 3),\n",
    "  (4, 5, 6),\n",
    "  (7, 8, 9),\n",
    "  (0)\n",
    "}\n",
    "\n",
    "print(set_buah)\n",
    "print(papan_ketik)"
   ]
  },
  {
   "cell_type": "code",
   "execution_count": 5,
   "id": "7244238a",
   "metadata": {},
   "outputs": [
    {
     "ename": "TypeError",
     "evalue": "unhashable type: 'list'",
     "output_type": "error",
     "traceback": [
      "\u001b[1;31m---------------------------------------------------------------------------\u001b[0m",
      "\u001b[1;31mTypeError\u001b[0m                                 Traceback (most recent call last)",
      "Input \u001b[1;32mIn [5]\u001b[0m, in \u001b[0;36m<cell line: 1>\u001b[1;34m()\u001b[0m\n\u001b[1;32m----> 1\u001b[0m x \u001b[38;5;241m=\u001b[39m { \u001b[38;5;241m35\u001b[39m, \u001b[38;5;241m100\u001b[39m, [\u001b[38;5;124m'\u001b[39m\u001b[38;5;124ma\u001b[39m\u001b[38;5;124m'\u001b[39m, \u001b[38;5;124m'\u001b[39m\u001b[38;5;124mb\u001b[39m\u001b[38;5;124m'\u001b[39m] }\n",
      "\u001b[1;31mTypeError\u001b[0m: unhashable type: 'list'"
     ]
    }
   ],
   "source": [
    "x = { 35, 100, ['a', 'b'] }"
   ]
  },
  {
   "cell_type": "code",
   "execution_count": 6,
   "id": "9edaad03",
   "metadata": {},
   "outputs": [
    {
     "name": "stdout",
     "output_type": "stream",
     "text": [
      "['pagi', 'ini', 'adalah', 'pagi', 'yang', 'sangat', 'cerah']\n"
     ]
    }
   ],
   "source": [
    "list_kata = [\n",
    "  'pagi', 'ini', 'adalah', 'pagi', 'yang',\n",
    "  'sangat', 'cerah'\n",
    "]\n",
    "\n",
    "print(list_kata)"
   ]
  },
  {
   "cell_type": "code",
   "execution_count": 7,
   "id": "0c0e1c16",
   "metadata": {},
   "outputs": [
    {
     "name": "stdout",
     "output_type": "stream",
     "text": [
      "{'sangat', 'yang', 'cerah', 'ini', 'adalah', 'pagi'}\n"
     ]
    }
   ],
   "source": [
    "kata_unik = {\n",
    "  'pagi', 'ini', 'adalah', 'pagi', 'yang',\n",
    "  'sangat', 'cerah'\n",
    "}\n",
    "\n",
    "# atau bisa langsung konversi list_kata menjadi set\n",
    "# supaya lebih ringkas:\n",
    "# kata_unik = set(list_kata)\n",
    "\n",
    "print(kata_unik)"
   ]
  },
  {
   "cell_type": "code",
   "execution_count": 8,
   "id": "47bf87d0",
   "metadata": {},
   "outputs": [
    {
     "name": "stdout",
     "output_type": "stream",
     "text": [
      "{'a', 'c', 'b'}\n",
      "{'i', 'e', 'g', 'f', 'a', 'c', 'b', 'h', 'd'}\n"
     ]
    }
   ],
   "source": [
    "himpunan_abjad = {'a', 'b', 'c'}\n",
    "print(himpunan_abjad)\n",
    "\n",
    "# menambah satu-satu\n",
    "himpunan_abjad.add('d')\n",
    "himpunan_abjad.add('e')\n",
    "\n",
    "# menambah lebih dari satu anggota sekaligus\n",
    "himpunan_abjad.update({ 'f', 'g' })\n",
    "# bisa juga pakai list\n",
    "himpunan_abjad.update(['h', 'i'])\n",
    "\n",
    "print(himpunan_abjad)"
   ]
  },
  {
   "cell_type": "code",
   "execution_count": 17,
   "id": "8320c0d7",
   "metadata": {},
   "outputs": [
    {
     "name": "stdout",
     "output_type": "stream",
     "text": [
      "{'maya', False, True, 'budi', 100, ('a', 'b')}\n"
     ]
    }
   ],
   "source": [
    "himpunan = {'maya', 'budi', 100, ('a', 'b'), False, True}\n",
    "print(himpunan)"
   ]
  },
  {
   "cell_type": "code",
   "execution_count": 18,
   "id": "48cd1bfe",
   "metadata": {},
   "outputs": [
    {
     "name": "stdout",
     "output_type": "stream",
     "text": [
      "{'maya', False, True, 'budi', ('a', 'b')}\n"
     ]
    }
   ],
   "source": [
    "# akan error jika nilai 100 tidak ada di dalam set\n",
    "himpunan.remove(100)\n",
    "print(himpunan)"
   ]
  },
  {
   "cell_type": "code",
   "execution_count": 19,
   "id": "dbf4265b",
   "metadata": {},
   "outputs": [
    {
     "ename": "KeyError",
     "evalue": "100",
     "output_type": "error",
     "traceback": [
      "\u001b[1;31m---------------------------------------------------------------------------\u001b[0m",
      "\u001b[1;31mKeyError\u001b[0m                                  Traceback (most recent call last)",
      "Input \u001b[1;32mIn [19]\u001b[0m, in \u001b[0;36m<cell line: 2>\u001b[1;34m()\u001b[0m\n\u001b[0;32m      1\u001b[0m \u001b[38;5;66;03m# akan error jika nilai 100 tidak ada di dalam set\u001b[39;00m\n\u001b[1;32m----> 2\u001b[0m \u001b[43mhimpunan\u001b[49m\u001b[38;5;241;43m.\u001b[39;49m\u001b[43mremove\u001b[49m\u001b[43m(\u001b[49m\u001b[38;5;241;43m100\u001b[39;49m\u001b[43m)\u001b[49m\n\u001b[0;32m      3\u001b[0m \u001b[38;5;28mprint\u001b[39m(himpunan)\n",
      "\u001b[1;31mKeyError\u001b[0m: 100"
     ]
    }
   ],
   "source": [
    "# akan error jika nilai 100 tidak ada di dalam set\n",
    "himpunan.remove(100)\n",
    "print(himpunan)"
   ]
  },
  {
   "cell_type": "code",
   "execution_count": 20,
   "id": "2c5a3959",
   "metadata": {},
   "outputs": [
    {
     "name": "stdout",
     "output_type": "stream",
     "text": [
      "{'maya', False, True, 'budi'}\n"
     ]
    }
   ],
   "source": [
    "# tidak akan error jika ('a', 'b') tidak ada di dalam set\n",
    "himpunan.discard(('a', 'b'))\n",
    "print(himpunan)"
   ]
  },
  {
   "cell_type": "code",
   "execution_count": 21,
   "id": "2625ead4",
   "metadata": {},
   "outputs": [
    {
     "name": "stdout",
     "output_type": "stream",
     "text": [
      "nilaiYangDihapus = maya\n",
      "{False, True, 'budi'}\n"
     ]
    }
   ],
   "source": [
    "# remove nilai yang ada di sebelah kiri\n",
    "nilaiYangDihapus = himpunan.pop()\n",
    "print('nilaiYangDihapus =', nilaiYangDihapus)\n",
    "print(himpunan)"
   ]
  },
  {
   "cell_type": "code",
   "execution_count": 22,
   "id": "f2767836",
   "metadata": {},
   "outputs": [
    {
     "name": "stdout",
     "output_type": "stream",
     "text": [
      "set()\n"
     ]
    }
   ],
   "source": [
    "# hapus semua nilai\n",
    "himpunan.clear()\n",
    "#print(himpunan)"
   ]
  },
  {
   "cell_type": "code",
   "execution_count": 24,
   "id": "c8b56b57",
   "metadata": {},
   "outputs": [
    {
     "name": "stdout",
     "output_type": "stream",
     "text": [
      "{'budi', 'andi', 'sari', 'ratna'}\n",
      "{'putri', 'andi', 'ratna', 'agus'}\n"
     ]
    }
   ],
   "source": [
    "#Keanggotaan pada Python\n",
    "\n",
    "grup_smp = {'andi', 'budi', 'ratna', 'sari'}\n",
    "\n",
    "grup_sma = {'putri', 'ratna', 'andi', 'agus'}\n",
    "\n",
    "print(grup_smp)\n",
    "print(grup_sma)"
   ]
  },
  {
   "cell_type": "code",
   "execution_count": 26,
   "id": "73f037af",
   "metadata": {},
   "outputs": [
    {
     "name": "stdout",
     "output_type": "stream",
     "text": [
      "{'putri', 'budi', 'sari', 'ratna', 'andi', 'agus'}\n"
     ]
    }
   ],
   "source": [
    "# cara 1\n",
    "print(grup_smp | grup_sma)"
   ]
  },
  {
   "cell_type": "code",
   "execution_count": 27,
   "id": "49531b54",
   "metadata": {},
   "outputs": [
    {
     "ename": "SyntaxError",
     "evalue": "unexpected EOF while parsing (786293202.py, line 2)",
     "output_type": "error",
     "traceback": [
      "\u001b[1;36m  Input \u001b[1;32mIn [27]\u001b[1;36m\u001b[0m\n\u001b[1;33m    print(grup_smp.union(grup_sma)\u001b[0m\n\u001b[1;37m                                  ^\u001b[0m\n\u001b[1;31mSyntaxError\u001b[0m\u001b[1;31m:\u001b[0m unexpected EOF while parsing\n"
     ]
    }
   ],
   "source": [
    "# cara 2\n",
    "print(grup_smp.union(grup_sma)"
   ]
  },
  {
   "cell_type": "code",
   "execution_count": 29,
   "id": "947e20e0",
   "metadata": {},
   "outputs": [
    {
     "name": "stdout",
     "output_type": "stream",
     "text": [
      "{1, 2, 3, 4, 5}\n",
      "{4, 5, 6, 7, 8}\n"
     ]
    }
   ],
   "source": [
    "# Membuat set A and B \n",
    "A = {1, 2, 3, 4, 5} \n",
    "B = {4, 5, 6, 7, 8}\n",
    "\n",
    "print(A)\n",
    "print(B)"
   ]
  },
  {
   "cell_type": "code",
   "execution_count": 30,
   "id": "ae2d3d9c",
   "metadata": {},
   "outputs": [
    {
     "name": "stdout",
     "output_type": "stream",
     "text": [
      "{1, 2, 3, 4, 5, 6, 7, 8}\n"
     ]
    }
   ],
   "source": [
    "# Gabungan menggunakan operator | palang\n",
    "# output: {1, 2, 3, 4, 5, 6, 7, 8} \n",
    "print(A | B) "
   ]
  },
  {
   "cell_type": "code",
   "execution_count": 31,
   "id": "51fbf6cf",
   "metadata": {},
   "outputs": [
    {
     "name": "stdout",
     "output_type": "stream",
     "text": [
      "{1, 2, 3, 4, 5}\n",
      "{4, 5, 6, 7, 8}\n"
     ]
    }
   ],
   "source": [
    "# Membuat set A and B \n",
    "C = {1, 2, 3, 4, 5} \n",
    "D = {4, 5, 6, 7, 8}\n",
    "\n",
    "print(C)\n",
    "print(D)"
   ]
  },
  {
   "cell_type": "code",
   "execution_count": 32,
   "id": "2b48a9d0",
   "metadata": {},
   "outputs": [
    {
     "data": {
      "text/plain": [
       "{1, 2, 3, 4, 5, 6, 7, 8}"
      ]
     },
     "execution_count": 32,
     "metadata": {},
     "output_type": "execute_result"
    }
   ],
   "source": [
    "# Menggunakan fungsi union() \n",
    "# output: {1, 2, 3, 4, 5, 6, 7, 8} \n",
    "C.union(D) "
   ]
  },
  {
   "cell_type": "code",
   "execution_count": 34,
   "id": "f6512e93",
   "metadata": {},
   "outputs": [
    {
     "name": "stdout",
     "output_type": "stream",
     "text": [
      "{'andi', 'ratna'}\n"
     ]
    }
   ],
   "source": [
    "print(grup_smp & grup_sma) # cara 1"
   ]
  },
  {
   "cell_type": "code",
   "execution_count": 35,
   "id": "697e1320",
   "metadata": {},
   "outputs": [
    {
     "name": "stdout",
     "output_type": "stream",
     "text": [
      "{'andi', 'ratna'}\n"
     ]
    }
   ],
   "source": [
    "print(grup_smp.intersection(grup_sma)) # cara 2"
   ]
  },
  {
   "cell_type": "code",
   "execution_count": 37,
   "id": "b4321eb8",
   "metadata": {},
   "outputs": [
    {
     "name": "stdout",
     "output_type": "stream",
     "text": [
      "{1, 2, 3, 4, 5}\n",
      "{4, 5, 6, 7, 8}\n"
     ]
    }
   ],
   "source": [
    "# Membuat set A and B \n",
    "A = {1, 2, 3, 4, 5} \n",
    "B = {4, 5, 6, 7, 8} \n",
    "\n",
    "print(A)\n",
    "print(B)"
   ]
  },
  {
   "cell_type": "code",
   "execution_count": 38,
   "id": "4a595de5",
   "metadata": {},
   "outputs": [
    {
     "name": "stdout",
     "output_type": "stream",
     "text": [
      "{4, 5}\n"
     ]
    }
   ],
   "source": [
    "# Irisan menggunakan operator & \n",
    "# output: {4,5} \n",
    "print(A & B) "
   ]
  },
  {
   "cell_type": "code",
   "execution_count": 39,
   "id": "6c6d3fc4",
   "metadata": {},
   "outputs": [
    {
     "data": {
      "text/plain": [
       "{4, 5}"
      ]
     },
     "execution_count": 39,
     "metadata": {},
     "output_type": "execute_result"
    }
   ],
   "source": [
    "# Menggunakan fungsi intersection() \n",
    "# output: {4,5} \n",
    "A.intersection(B) "
   ]
  },
  {
   "cell_type": "code",
   "execution_count": 40,
   "id": "2fae51d4",
   "metadata": {},
   "outputs": [
    {
     "name": "stdout",
     "output_type": "stream",
     "text": [
      "\n",
      "anggota grup smp yang bukan anggota grup sma\n",
      "{'budi', 'sari'}\n",
      "{'budi', 'sari'}\n"
     ]
    }
   ],
   "source": [
    "# difference\n",
    "print('\\nanggota grup smp yang bukan anggota grup sma')\n",
    "print(grup_smp - grup_sma)\n",
    "print(grup_smp.difference(grup_sma))"
   ]
  },
  {
   "cell_type": "code",
   "execution_count": 41,
   "id": "0a0eba55",
   "metadata": {},
   "outputs": [
    {
     "name": "stdout",
     "output_type": "stream",
     "text": [
      "\n",
      "dibalik, anggota grup sma yang bukan anggota grup smp:\n",
      "{'putri', 'agus'}\n",
      "{'putri', 'agus'}\n"
     ]
    }
   ],
   "source": [
    "print('\\ndibalik, anggota grup sma yang bukan anggota grup smp:')\n",
    "print(grup_sma - grup_smp)\n",
    "print(grup_sma.difference(grup_smp))"
   ]
  },
  {
   "cell_type": "code",
   "execution_count": 47,
   "id": "2bd2bc7e",
   "metadata": {},
   "outputs": [
    {
     "name": "stdout",
     "output_type": "stream",
     "text": [
      "\n",
      "anggota yang hanya ikut satu grup saja:\n",
      "{'putri', 'budi', 'sari', 'agus'}\n"
     ]
    }
   ],
   "source": [
    "# symmetric_difference\n",
    "print('\\nanggota yang hanya ikut satu grup saja:')\n",
    "print(grup_sma.symmetric_difference(grup_smp))"
   ]
  },
  {
   "cell_type": "code",
   "execution_count": null,
   "id": "a08e3212",
   "metadata": {},
   "outputs": [],
   "source": []
  },
  {
   "cell_type": "code",
   "execution_count": 42,
   "id": "60909ea5",
   "metadata": {},
   "outputs": [
    {
     "name": "stdout",
     "output_type": "stream",
     "text": [
      "{1, 2, 3, 4, 5}\n",
      "{4, 5, 6, 7, 8}\n"
     ]
    }
   ],
   "source": [
    "# membuat A and B \n",
    "A = {1, 2, 3, 4, 5} \n",
    "B = {4, 5, 6, 7, 8} \n",
    "\n",
    "print(A)\n",
    "print(B)"
   ]
  },
  {
   "cell_type": "code",
   "execution_count": 43,
   "id": "2078a1a8",
   "metadata": {},
   "outputs": [
    {
     "name": "stdout",
     "output_type": "stream",
     "text": [
      "{1, 2, 3}\n"
     ]
    }
   ],
   "source": [
    "# Menggunakan operator - pada A \n",
    "# Output: {1, 2, 3} \n",
    "print(A - B) "
   ]
  },
  {
   "cell_type": "code",
   "execution_count": 44,
   "id": "3c053bfc",
   "metadata": {},
   "outputs": [
    {
     "data": {
      "text/plain": [
       "{1, 2, 3}"
      ]
     },
     "execution_count": 44,
     "metadata": {},
     "output_type": "execute_result"
    }
   ],
   "source": [
    "# Output: {1, 2, 3} \n",
    "A.difference(B) "
   ]
  },
  {
   "cell_type": "code",
   "execution_count": 45,
   "id": "70cfd53d",
   "metadata": {},
   "outputs": [
    {
     "name": "stdout",
     "output_type": "stream",
     "text": [
      "{8, 6, 7}\n"
     ]
    }
   ],
   "source": [
    "# Menggunakan operator - pada B \n",
    "# Output: {8, 6, 7} \n",
    "print(B - A) "
   ]
  },
  {
   "cell_type": "code",
   "execution_count": 46,
   "id": "dc7027a0",
   "metadata": {},
   "outputs": [
    {
     "data": {
      "text/plain": [
       "{6, 7, 8}"
      ]
     },
     "execution_count": 46,
     "metadata": {},
     "output_type": "execute_result"
    }
   ],
   "source": [
    "# Output: {8, 6, 7} \n",
    "B.difference(A)\n",
    "\n",
    "#Kok jadi acak ya?"
   ]
  },
  {
   "cell_type": "code",
   "execution_count": 49,
   "id": "1267314b",
   "metadata": {},
   "outputs": [
    {
     "name": "stdout",
     "output_type": "stream",
     "text": [
      "{1, 2, 3, 4, 5}\n",
      "{4, 5, 6, 7, 8}\n"
     ]
    }
   ],
   "source": [
    "# membuat A and B \n",
    "A = {1, 2, 3, 4, 5} \n",
    "B = {4, 5, 6, 7, 8} \n",
    "\n",
    "print(A)\n",
    "print(B)"
   ]
  },
  {
   "cell_type": "code",
   "execution_count": 50,
   "id": "bb512bf9",
   "metadata": {},
   "outputs": [
    {
     "name": "stdout",
     "output_type": "stream",
     "text": [
      "{1, 2, 3, 6, 7, 8}\n"
     ]
    }
   ],
   "source": [
    "# Menggunakan operator ^ pada A \n",
    "# Output: {1, 2, 3, 6, 7, 8} \n",
    "print(A ^ B) "
   ]
  },
  {
   "cell_type": "code",
   "execution_count": 51,
   "id": "86b8b786",
   "metadata": {},
   "outputs": [
    {
     "data": {
      "text/plain": [
       "{1, 2, 3, 6, 7, 8}"
      ]
     },
     "execution_count": 51,
     "metadata": {},
     "output_type": "execute_result"
    }
   ],
   "source": [
    "# Output: {1, 2, 3, 6, 7, 8} \n",
    "A.symmetric_difference(B) "
   ]
  },
  {
   "cell_type": "code",
   "execution_count": 52,
   "id": "45341026",
   "metadata": {},
   "outputs": [
    {
     "name": "stdout",
     "output_type": "stream",
     "text": [
      "{1, 2, 3, 6, 7, 8}\n"
     ]
    }
   ],
   "source": [
    "# Menggunakan operator ^ pada B \n",
    "# Output: {1, 2, 3, 6, 7, 8} \n",
    "print(B ^ A) "
   ]
  },
  {
   "cell_type": "code",
   "execution_count": 53,
   "id": "c802edf2",
   "metadata": {},
   "outputs": [
    {
     "data": {
      "text/plain": [
       "{1, 2, 3, 6, 7, 8}"
      ]
     },
     "execution_count": 53,
     "metadata": {},
     "output_type": "execute_result"
    }
   ],
   "source": [
    "# Output: {1, 2, 3, 6, 7, 8} \n",
    "B.symmetric_difference(A) "
   ]
  },
  {
   "cell_type": "code",
   "execution_count": null,
   "id": "d899b001",
   "metadata": {},
   "outputs": [],
   "source": []
  }
 ],
 "metadata": {
  "kernelspec": {
   "display_name": "Python 3 (ipykernel)",
   "language": "python",
   "name": "python3"
  },
  "language_info": {
   "codemirror_mode": {
    "name": "ipython",
    "version": 3
   },
   "file_extension": ".py",
   "mimetype": "text/x-python",
   "name": "python",
   "nbconvert_exporter": "python",
   "pygments_lexer": "ipython3",
   "version": "3.9.12"
  }
 },
 "nbformat": 4,
 "nbformat_minor": 5
}
