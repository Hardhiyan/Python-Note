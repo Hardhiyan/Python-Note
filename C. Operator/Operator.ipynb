{
 "cells": [
  {
   "cell_type": "markdown",
   "metadata": {},
   "source": [
    "Operator di dalam Python adalah simbol khusus yang berfungsi untuk menjalankan suatu operasi tertentu, baik operasi aritmatika maupun operasi logika. Sedangkan nilai yang dioperasikan oleh operator dinamakan sebagai operan"
   ]
  },
  {
   "cell_type": "markdown",
   "metadata": {},
   "source": [
    "Operator aritmatika\n",
    "\n",
    "Operator komparasi atau perbandingan\n",
    "\n",
    "Operator penugasan\n",
    "\n",
    "Operator logika\n",
    "\n",
    "Operator keanggotaan (membership)\n",
    "\n",
    "Operator identitas\n",
    "\n",
    "Operator bitwise"
   ]
  },
  {
   "cell_type": "markdown",
   "metadata": {},
   "source": [
    "1. Operator aritmatika/matematika adalah operator yang kita gunakan untuk menghitung operasi matematika, mulai dari penjumlahan, pengurangan, perkalian, perpangkatan, dan lain sebagainya."
   ]
  },
  {
   "cell_type": "code",
   "execution_count": 1,
   "metadata": {},
   "outputs": [
    {
     "name": "stdout",
     "output_type": "stream",
     "text": [
      "10 + 3 = 13\n",
      "10 - 3 = 7\n",
      "10 * 3 = 30\n",
      "10 / 3 = 3.3333333333333335\n",
      "10 % 3 = 1\n",
      "10 ** 3 = 1000\n",
      "10 // 3 = 3\n"
     ]
    }
   ],
   "source": [
    "a, b = 10, 3\n",
    "\n",
    "print(a, '+', b, '=', a + b)        # Penjumlahan\n",
    "print(a, '-', b, '=', a - b)        # Pengurangan\n",
    "print(a, '*', b, '=', a * b)        # Perkalian\n",
    "print(a, '/', b, '=', a / b)        # Pembagian\n",
    "print(a, '%', b, '=', a % b)        # Sisa bagi / Modulus\n",
    "print(a, '**', b, '=', a ** b)      # Pangkat\n",
    "print(a, '//', b, '=', a //b)       # Pembagian bulat"
   ]
  },
  {
   "cell_type": "markdown",
   "metadata": {},
   "source": [
    "2. Operator komparasi atau perbandingan adalah operator yang bertugas untuk membandingkan antar dua operan. Apakah operan 1 lebih besar dari pada operan 2, atau apakah keduanya sama? Dsb."
   ]
  },
  {
   "cell_type": "code",
   "execution_count": 2,
   "metadata": {},
   "outputs": [
    {
     "name": "stdout",
     "output_type": "stream",
     "text": [
      "5 > 10 = False\n",
      "5 < 10 = True\n",
      "5 == 10 = False\n",
      "5 != 10 = True\n",
      "5 >= 10 = False\n",
      "5 <= 10 = True\n"
     ]
    }
   ],
   "source": [
    "# buat variabel a dan b dengan teknik sequence ordering\n",
    "a, b = 5, 10\n",
    "\n",
    "print(a, '>', b, '=', a > b)        # Lebih besar dari\n",
    "print(a, '<', b, '=', a < b)        # Lebih kecil dari\n",
    "print(a, '==', b, '=', a == b)      # Sama dengan\n",
    "print(a, '!=', b, '=', a != b)      # Tidak sama dengan\n",
    "print(a, '>=', b, '=', a >= b)      # Lebih besar sama dengan\n",
    "print(a, '<=', b, '=', a <= b)      # Lebih kecil sama dengan"
   ]
  },
  {
   "cell_type": "markdown",
   "metadata": {},
   "source": [
    "3. Operator penugasan adalah operator yang digunakan untuk memberikan sebuah tugas terhadap suatu variabel. Atau dalam bahasa yang lebih manusiawi: operator penugasan adalah operator yang berfungsi untuk memberikan nilai ke dalam sebuah variabel.\n",
    "\n",
    "Sebenarnya operator penugasan ini hanya ada 1 saja, yaitu operator =.\n",
    "\n",
    "tetapi, ada banyak variant shortcut yang memudahkan kita untuk melakukan operasi aritmatika atau operasi bitwise bersamaan dengan operasi penugasan."
   ]
  },
  {
   "cell_type": "code",
   "execution_count": 3,
   "metadata": {},
   "outputs": [
    {
     "name": "stdout",
     "output_type": "stream",
     "text": [
      "a = 10 ->  10\n",
      "a += 5 ->  15\n",
      "a -= 3 ->  12\n",
      "a *= 6 ->  72\n",
      "a /= 8 ->  9.0\n",
      "a %= 9 ->  0\n",
      "a //= 6 ->  0\n",
      "a **= 1 ->  0\n",
      "a &= 2 ->  0\n",
      "a |= 3 ->  3\n",
      "a ^= 4 ->  7\n",
      "a >>= 4 ->  0\n",
      "a <<= 4 ->  0\n"
     ]
    }
   ],
   "source": [
    "# penugasan pertama\n",
    "a = 10\n",
    "print('a = 10 -> ', a)      # Sama dengan\n",
    "\n",
    "a += 5\n",
    "print('a += 5 -> ', a)      # Tambah sama dengan\n",
    "\n",
    "a -= 3\n",
    "print('a -= 3 -> ', a)      # Kurang sama dengan\n",
    "\n",
    "a *= 6\n",
    "print('a *= 6 -> ', a)      # Kali sama dengan\n",
    "\n",
    "a /= 8\n",
    "print('a /= 8 -> ', a)      # Bagi sama dengan\n",
    "\n",
    "# karena a jadi float, kita ubah lagi menjadi integer\n",
    "a = int(a)\n",
    "\n",
    "a %= 9\n",
    "print('a %= 9 -> ', a)      # Sisa bagi sama dengan\n",
    "\n",
    "a //= 6\n",
    "print('a //= 6 -> ', a)     # Pembagian bulat sama dengan\n",
    "\n",
    "a **= 1\n",
    "print('a **= 1 -> ', a)     # Pangkat sama dengan\n",
    "\n",
    "\n",
    "a &= 2\n",
    "print('a &= 2 -> ', a)      # Bitwise AND sama dengan\n",
    "\n",
    "a |= 3\n",
    "print('a |= 3 -> ', a)      # Bitwise OR sama dengan\n",
    "\n",
    "a ^= 4\n",
    "print('a ^= 4 -> ', a)      # Bitwise XOR sama dengan\n",
    "\n",
    "a >>= 4\n",
    "print('a >>= 4 -> ', a)     # Bitwise SHIFT RIGHT sama dengan\n",
    "\n",
    "a <<= 2\n",
    "print('a <<= 4 -> ', a)     # Bitwise SHIFT LEFT sama dengan"
   ]
  },
  {
   "cell_type": "markdown",
   "metadata": {},
   "source": [
    "4. Operator logika adalah operator yang sangat penting. Operator ini sangat berkaitan erat dengan operator perbandingan. Dan kedua-duanya juga mengembalikan nilai dengan tipe data yang sama yaitu boolean."
   ]
  },
  {
   "cell_type": "code",
   "execution_count": 4,
   "metadata": {},
   "outputs": [
    {
     "name": "stdout",
     "output_type": "stream",
     "text": [
      "True\n",
      "True\n",
      "----\n",
      "False\n",
      "True\n",
      "----\n",
      "True\n",
      "False\n"
     ]
    }
   ],
   "source": [
    "print(True and True)            # And\n",
    "print(1 + 2 == 3 and True)      # And\n",
    "print('----')\n",
    "print(False or 1 > 5)           # Or\n",
    "print(False or 5 > 2)           # Or\n",
    "print('----')\n",
    "print(not(1 > 5))               # Not\n",
    "print(not(1 < 5))               # Not"
   ]
  },
  {
   "cell_type": "markdown",
   "metadata": {},
   "source": [
    "5. Operator keanggotaan pada Python adalah bahasa pemrograman yang terbilang unik, ia memiliki operator khusus atau juga sering dinamakan sebagai operator spesial. Dinamakan spesial karena memang operator ini hanya ada di Python dan tidak ada di bahasa pemrograman lainnya.\n",
    "\n",
    "Di antara operator spesial tersebut adalah operator keanggotaan. Atau di dalam bahasa inggris ia dinamakan membership operator."
   ]
  },
  {
   "cell_type": "markdown",
   "metadata": {},
   "source": [
    "Operator keanggotaan dalam python hanya memiliki dua varian, yaitu in dan not in"
   ]
  },
  {
   "cell_type": "code",
   "execution_count": 5,
   "metadata": {},
   "outputs": [
    {
     "name": "stdout",
     "output_type": "stream",
     "text": [
      "Apakah 'c' ada di variabel perusahaan? True\n",
      "Apakah 'z' tidak ada di variabel perusahaan? False\n",
      "Apakah 'Madura' ada di variabel list_pulau? False\n",
      "Apakah 'Madura' tidak ada di variabel list_pulau? True\n",
      "Apakah atribut 'nama' ada di variabel mahasiswa? True\n"
     ]
    }
   ],
   "source": [
    "perusahaan = 'Microsoft'\n",
    "list_pulau = ['Jawa', 'Sumatra', 'Sulawesi']\n",
    "\n",
    "mahasiswa = {\n",
    "  'nama': 'Lendis Fabri',\n",
    "  'asal': 'Lamongan'\n",
    "}\n",
    "\n",
    "print(\n",
    "  \"Apakah 'c' ada di variabel perusahaan?\",                     # Operator In\n",
    "  'c' in perusahaan\n",
    ")\n",
    "print(\n",
    "  \"Apakah 'z' tidak ada di variabel perusahaan?\",               # Operator Not In\n",
    "  'c' not in perusahaan\n",
    ")\n",
    "print(\n",
    "  \"Apakah 'Madura' ada di variabel list_pulau?\",                # Operator In\n",
    "  'Madura' in perusahaan\n",
    ")\n",
    "print(\n",
    "  \"Apakah 'Madura' tidak ada di variabel list_pulau?\",          # Operator Not In\n",
    "  'Madura' not in perusahaan\n",
    ")\n",
    "print(\n",
    "  \"Apakah atribut 'nama' ada di variabel mahasiswa?\",           # Operator In\n",
    "  'nama' in mahasiswa\n",
    ")"
   ]
  },
  {
   "cell_type": "markdown",
   "metadata": {},
   "source": [
    "6. Operator identitas\n",
    "\n",
    "Selain operator keanggotaan, python juga masih memiliki operator spesial lainnya: yaitu operator identitas. Operator ini didefinisikan dengan is dan is not.\n",
    "\n",
    "Tugasnya adalah untuk mengetahui apakah dua buah variabel memiliki nilai yang sama dan posisi yang sama di dalam memori. Karena tidak semua nilai yang sama memiliki tempat / posisi yang sama di dalam memori."
   ]
  },
  {
   "cell_type": "code",
   "execution_count": 6,
   "metadata": {},
   "outputs": [
    {
     "name": "stdout",
     "output_type": "stream",
     "text": [
      "a is b: True\n",
      "a is not b: False\n",
      "list_a is list_b: False\n",
      "list_a == list_b: True\n",
      "nama_a is nama_b: True\n",
      "nama_a is not nama_b: False\n"
     ]
    }
   ],
   "source": [
    "a = 5\n",
    "b = 5\n",
    "list_a = [1, 2, 3]\n",
    "list_b = [1, 2, 3]\n",
    "nama_a = 'budi'\n",
    "nama_b = 'budi'\n",
    "\n",
    "# output True\n",
    "print('a is b:', a is b)                # Identitas is \n",
    "# output False\n",
    "print('a is not b:', a is not b)        # Identitas is not\n",
    "\n",
    "# output False\n",
    "print('list_a is list_b:', list_a is list_b)    #Identitas is  (list_a dan list_b adalah list) dan itu adalah False\n",
    "# output True\n",
    "print('list_a == list_b:', list_a == list_b)    #Identitas ==  (list_a dan list_b adalah list) dan itu adalah True\n",
    "\n",
    "# output True\n",
    "print('nama_a is nama_b:', nama_a is nama_b)            # Identitas is nama_a dan nama_b adalah True\n",
    "# output False\n",
    "\n",
    "print('nama_a is not nama_b:', nama_a is not nama_b)    # Identitas is not nama_a dan nama_b adalah False"
   ]
  },
  {
   "cell_type": "markdown",
   "metadata": {},
   "source": [
    "Dari 3 pasang variabel yang kita tes, masing-masing memiliki nilai yang sama.\n",
    "\n",
    "Variabel a dan b sama-sama memiliki nilai 5. Dan ketika kita periksa, mereka equal dan identical. Alias interpreter python menaruh nilai dari kedua variabel tersebut pada lokasi yang sama dalam memory.\n",
    "\n",
    "Pada pasangan kedua, variabel list_a dan list_b juga memiliki nilai yang sama. Setelah kita tes, ternyata mereka berdua tidak identical meskipun nilai mereka berdua equal. Artinya, interpreter python menaruh nilai dari 2 variabel tersebut pada tempat yang berbeda pada memory.\n",
    "\n",
    "Untuk pasangan yang terakhir, variabel nama_a dan nama_b yang bertipe data string, mereka berdua memiliki nilai yang equal dan juga identical.\n",
    "\n",
    "Untuk mengetahui id atau lokasi penyimpanan suatu nilai pada python, kita bisa memanggil fungsi id()."
   ]
  },
  {
   "cell_type": "markdown",
   "metadata": {},
   "source": [
    "7. Operator bitwise adalah operator yang berhubungan dengan angka-angka biner.\n",
    "\n",
    "Angka-angka biner adalah angka 0 dan 1. Dan pada hakikatnya hanya ini lah angka yang dipahami oleh mesin.\n",
    "\n",
    "Sebelum kita mulai, kita bisa mengetahui nilai biner dari suatu angka desimal dengan melakukan perintah format() dengan parameter kedua berupa string '08b'"
   ]
  },
  {
   "cell_type": "code",
   "execution_count": 14,
   "metadata": {},
   "outputs": [
    {
     "name": "stdout",
     "output_type": "stream",
     "text": [
      "00000000\n",
      "00000001\n",
      "00000010\n",
      "00100101\n"
     ]
    }
   ],
   "source": [
    "# biner dari angka 0\n",
    "print(format(0, '08b'))\n",
    "\n",
    "# biner dari angka 1\n",
    "print(format(1, '08b'))\n",
    "\n",
    "# biner dari angka 2\n",
    "print(format(2, '08b'))\n",
    "\n",
    "# biner dari angka 37\n",
    "print(format(37, '08b'))"
   ]
  },
  {
   "cell_type": "code",
   "execution_count": 15,
   "metadata": {},
   "outputs": [
    {
     "name": "stdout",
     "output_type": "stream",
     "text": [
      "a = 1 = 00000001\n",
      "b = 64 = 01000000 \n",
      "\n",
      "[and]\n",
      "a & b = 0\n",
      "00000001 & 01000000 = 00000000 \n",
      "\n",
      "[or]\n",
      "a | b = 65\n",
      "00000001 | 01000000 = 01000001 \n",
      "\n",
      "[xor]\n",
      "a ^ b = 65\n",
      "00000001 ^ 01000000 = 01000001 \n",
      "\n",
      "[not]\n",
      "~a ~b = -2 -65\n",
      "~00000001 ~01000000 = -0000010 -1000001 \n",
      "\n",
      "[shift right]\n",
      "a >> b = 0\n",
      "00000001 >> 01000000 = 00000000 \n",
      "\n",
      "[shift left]\n",
      "b << a = 128\n",
      "01000000 << 00000001 = 10000000 \n",
      "\n"
     ]
    }
   ],
   "source": [
    "a = 1\n",
    "b = 64\n",
    "\n",
    "print('a =', a, '=', format(a, '08b'))\n",
    "print('b =', b, '=', format(b, '08b'), '\\n')\n",
    "\n",
    "print('[and]')\n",
    "print('a & b =', a & b)\n",
    "print(format(a, '08b'), '&', format(b, '08b'), '=', format(a & b, '08b'), '\\n') #bitwise AND (a & b)\n",
    "\n",
    "print('[or]')\n",
    "print('a | b =', a | b)\n",
    "print(format(a, '08b'), '|', format(b, '08b'), '=', format(a | b, '08b'), '\\n') #Bitwise OR (a | b)\n",
    "\n",
    "print('[xor]')\n",
    "print('a ^ b =', a ^ b)\n",
    "print(format(a, '08b'), '^', format(b, '08b'), '=', format(a ^ b, '08b'), '\\n') #Bitwise XOR (a ^ b)\n",
    "\n",
    "print('[not]')\n",
    "print('~a ~b =', ~a, ~b)\n",
    "print('~' + format(a, '08b'), '~' + format(b, '08b'), '=', format(~a, '08b'), format(~b, '08b'), '\\n') #Bitwise NOT (~a) and (~b)\n",
    "\n",
    "print('[shift right]')\n",
    "print('a >> b =', a >> b)\n",
    "print(format(a, '08b'), '>>', format(b, '08b'), '=', format(a >> b, '08b'), '\\n') #Bitwise SHIFT RIGHT (a >> b)\n",
    "\n",
    "print('[shift left]')\n",
    "print('b << a =', b << a)\n",
    "print(format(b, '08b'), '<<', format(a, '08b'), '=', format(b << a, '08b'), '\\n') #Bitwise SHIFT LEFT (b << a)"
   ]
  }
 ],
 "metadata": {
  "kernelspec": {
   "display_name": "Python 3.10.4 64-bit",
   "language": "python",
   "name": "python3"
  },
  "language_info": {
   "codemirror_mode": {
    "name": "ipython",
    "version": 3
   },
   "file_extension": ".py",
   "mimetype": "text/x-python",
   "name": "python",
   "nbconvert_exporter": "python",
   "pygments_lexer": "ipython3",
   "version": "3.10.4"
  },
  "orig_nbformat": 4,
  "vscode": {
   "interpreter": {
    "hash": "48ec332f34da26a12a31a27950beb3623cfc914f965794f492d93a6b4d71cf89"
   }
  }
 },
 "nbformat": 4,
 "nbformat_minor": 2
}
