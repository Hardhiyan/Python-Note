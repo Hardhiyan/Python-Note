{
 "cells": [
  {
   "cell_type": "code",
   "execution_count": 5,
   "id": "b58cd48d",
   "metadata": {},
   "outputs": [
    {
     "name": "stdout",
     "output_type": "stream",
     "text": [
      "{'judul': 'Belajar Dictionary Pada Python 3', 'tanggal': '01 Februari 2021', 'kategori': ['Python', 'Python Dasar'], 'page_views': 10, 'published': True, 'share_count': {'facebook': 0, 'twitter': 2}}\n"
     ]
    }
   ],
   "source": [
    "pertemuan_hari_ini = {\n",
    "  \"judul\": \"Belajar Dictionary Pada Python 3\",\n",
    "  \"tanggal\": \"01 Februari 2021\",\n",
    "  \"kategori\": [\"Python\", \"Python Dasar\"],\n",
    "  \"page_views\": 10,\n",
    "  \"published\": True,\n",
    "  \"share_count\": {\"facebook\": 0,\"twitter\": 2}\n",
    "}\n",
    "\n",
    "print(pertemuan_hari_ini)"
   ]
  },
  {
   "cell_type": "code",
   "execution_count": 6,
   "id": "a7027fa3",
   "metadata": {},
   "outputs": [
    {
     "name": "stdout",
     "output_type": "stream",
     "text": [
      "Menu Masakan Enak Tradisional\n"
     ]
    }
   ],
   "source": [
    "#Key pada Dictionary bersifat UNIQUE\n",
    "#Key yang sama dan dimasukan terakhir kali akan menimpa key sebelumnya\n",
    "\n",
    "artikel = {\n",
    "  \"judul\": \"Menu Masakan Enak\",\n",
    "  \"judul\": \"Menu Masakan Enak Tradisional\"\n",
    "}\n",
    "\n",
    "print(artikel.get(\"judul\"))"
   ]
  },
  {
   "cell_type": "code",
   "execution_count": 9,
   "id": "8ae8b855",
   "metadata": {},
   "outputs": [
    {
     "name": "stdout",
     "output_type": "stream",
     "text": [
      "{'judul': 'Daun Yang Jatuh Tidak Pernah Membenci Angin', 'penulis': 'Tere Liye'}\n"
     ]
    }
   ],
   "source": [
    "# cara pertama\n",
    "buku = {\n",
    "  \"judul\": \"Daun Yang Jatuh Tidak Pernah Membenci Angin\",\n",
    "  \"penulis\": \"Tere Liye\"\n",
    "}\n",
    "\n",
    "print(buku)"
   ]
  },
  {
   "cell_type": "code",
   "execution_count": 11,
   "id": "29012e8f",
   "metadata": {},
   "outputs": [
    {
     "name": "stdout",
     "output_type": "stream",
     "text": [
      "{'judul': 'Daun Yang Jatuh Tidak Pernah Membenci Angin', 'penulis': 'Tere Liye'}\n"
     ]
    }
   ],
   "source": [
    "# cara kedua\n",
    "buku2 = dict(\n",
    "  judul=\"Daun Yang Jatuh Tidak Pernah Membenci Angin\",\n",
    "  penulis=\"Tere Liye\"\n",
    ")\n",
    "\n",
    "print(buku)"
   ]
  },
  {
   "cell_type": "code",
   "execution_count": 19,
   "id": "4c82ac09",
   "metadata": {},
   "outputs": [],
   "source": [
    "pertemuan_hari_ini = {\n",
    "  \"judul\": \"Belajar Dictionary Pada Python 3\",\n",
    "  \"tanggal\": \"01 Februari 2021\",\n",
    "  \"kategori\": [\"Python\", \"Python Dasar\"],\n",
    "  \"page_views\": 10,\n",
    "  \"published\": True,\n",
    "  \"share_count\": {\"facebook\": 0,\"twitter\": 2}\n",
    "}\n",
    "\n",
    "#Terdapat berbagai tipe data seperti String, Integer bahkan Boolean dan List"
   ]
  },
  {
   "cell_type": "code",
   "execution_count": 37,
   "id": "89f49231",
   "metadata": {},
   "outputs": [
    {
     "name": "stdout",
     "output_type": "stream",
     "text": [
      "Judul: Belajar Dictionary Pada Python 3\n",
      "Tanggal: 01 Februari 2021\n",
      "Facebook share: 0\n",
      "Twitter share: 2\n"
     ]
    }
   ],
   "source": [
    "print('Judul:', pertemuan_hari_ini.get('judul'))\n",
    "# atau\n",
    "print('Tanggal:', pertemuan_hari_ini['tanggal'])\n",
    "\n",
    "# bisa menggunakan fungsi berantai untuk dictionary bertingkat\n",
    "print('Facebook share:', pertemuan_hari_ini.get('share_count').get('facebook'))\n",
    "\n",
    "# bisa juga dengan kurung siku dua-duanya\n",
    "print('Twitter share:', pertemuan_hari_ini['share_count']['twitter'])\n"
   ]
  },
  {
   "cell_type": "code",
   "execution_count": 34,
   "id": "b52c9f95",
   "metadata": {},
   "outputs": [
    {
     "ename": "KeyError",
     "evalue": "'instagram'",
     "output_type": "error",
     "traceback": [
      "\u001b[1;31m---------------------------------------------------------------------------\u001b[0m",
      "\u001b[1;31mKeyError\u001b[0m                                  Traceback (most recent call last)",
      "Input \u001b[1;32mIn [34]\u001b[0m, in \u001b[0;36m<cell line: 4>\u001b[1;34m()\u001b[0m\n\u001b[0;32m      1\u001b[0m share_count \u001b[38;5;241m=\u001b[39m pertemuan_hari_ini\u001b[38;5;241m.\u001b[39mget(\u001b[38;5;124m'\u001b[39m\u001b[38;5;124mshare_count\u001b[39m\u001b[38;5;124m'\u001b[39m)\n\u001b[0;32m      3\u001b[0m \u001b[38;5;66;03m# ini error\u001b[39;00m\n\u001b[1;32m----> 4\u001b[0m \u001b[38;5;28mprint\u001b[39m(\u001b[38;5;124m'\u001b[39m\u001b[38;5;124mInstagram share:\u001b[39m\u001b[38;5;124m'\u001b[39m, \u001b[43mshare_count\u001b[49m\u001b[43m[\u001b[49m\u001b[38;5;124;43m'\u001b[39;49m\u001b[38;5;124;43minstagram\u001b[39;49m\u001b[38;5;124;43m'\u001b[39;49m\u001b[43m]\u001b[49m)\n\u001b[0;32m      5\u001b[0m \u001b[38;5;66;03m# sedangkan ini tidak error\u001b[39;00m\n\u001b[0;32m      6\u001b[0m \u001b[38;5;28mprint\u001b[39m(\u001b[38;5;124m'\u001b[39m\u001b[38;5;124mInstagram share:\u001b[39m\u001b[38;5;124m'\u001b[39m, share_count\u001b[38;5;241m.\u001b[39mget(\u001b[38;5;124m'\u001b[39m\u001b[38;5;124minstagram\u001b[39m\u001b[38;5;124m'\u001b[39m, \u001b[38;5;241m0\u001b[39m))\n",
      "\u001b[1;31mKeyError\u001b[0m: 'instagram'"
     ]
    }
   ],
   "source": [
    "share_count = pertemuan_hari_ini.get('share_count')\n",
    "\n",
    "# ini error\n",
    "print('Instagram share:', share_count['instagram'])\n",
    "# sedangkan ini tidak error\n",
    "print('Instagram share:', share_count.get('instagram', 0))"
   ]
  },
  {
   "cell_type": "code",
   "execution_count": 38,
   "id": "03e0745b",
   "metadata": {},
   "outputs": [
    {
     "name": "stdout",
     "output_type": "stream",
     "text": [
      "Instagram share: 0\n"
     ]
    }
   ],
   "source": [
    "share_count = pertemuan_hari_ini.get('share_count')\n",
    "\n",
    "# ini error\n",
    "#print('Instagram share:', share_count['instagram'])\n",
    "# sedangkan ini tidak error\n",
    "print('Instagram share:', share_count.get('instagram', 0))"
   ]
  },
  {
   "cell_type": "code",
   "execution_count": 40,
   "id": "aba01861",
   "metadata": {},
   "outputs": [
    {
     "name": "stdout",
     "output_type": "stream",
     "text": [
      "judul -> Hafalan Sholat Delisa\n",
      "penulis -> Tere Liye\n"
     ]
    }
   ],
   "source": [
    "#Kita juga bisa menampilkan semua isi dari sebuah dictionary dengan memanfaatkan perulangan.\n",
    "\n",
    "buku = {\n",
    "  'judul': 'Hafalan Sholat Delisa',\n",
    "  'penulis': 'Tere Liye'\n",
    "}\n",
    "\n",
    "for key in buku:\n",
    "  print(key, '->', buku[key])"
   ]
  },
  {
   "cell_type": "code",
   "execution_count": 41,
   "id": "b5070b33",
   "metadata": {},
   "outputs": [
    {
     "name": "stdout",
     "output_type": "stream",
     "text": [
      "judul -> Hafalan Sholat Delisa\n",
      "penulis -> Tere Liye\n"
     ]
    }
   ],
   "source": [
    "for nama_atribut, nilai in buku.items():\n",
    "  print(nama_atribut, '->', nilai)"
   ]
  },
  {
   "cell_type": "code",
   "execution_count": 43,
   "id": "fd1ac282",
   "metadata": {},
   "outputs": [
    {
     "name": "stdout",
     "output_type": "stream",
     "text": [
      "Nama awal: Lendis Fabri\n",
      "Setelah diubah: Jathy Hardhiyan\n"
     ]
    }
   ],
   "source": [
    "mahasiswa = {\n",
    "  'nama': 'Lendis Fabri',\n",
    "  'asal': 'Indonesia'\n",
    "}\n",
    "\n",
    "# mengubah data\n",
    "print('Nama awal:', mahasiswa.get('nama'))\n",
    "\n",
    "#Proses berubahnya data\n",
    "mahasiswa['nama'] = 'Jathy Hardhiyan'\n",
    "print('Setelah diubah:', mahasiswa.get('nama'))"
   ]
  },
  {
   "cell_type": "code",
   "execution_count": 45,
   "id": "0af0be22",
   "metadata": {},
   "outputs": [
    {
     "name": "stdout",
     "output_type": "stream",
     "text": [
      "{'nama': 'Jathy Hardhiyan', 'asal': 'Indonesia', 'Jenis Kelamin': 'Pria'}\n"
     ]
    }
   ],
   "source": [
    "#Menambahkan Data Di dictionary\n",
    "\n",
    "mahasiswa['Jenis Kelamin']='Pria'\n",
    "print(mahasiswa)"
   ]
  },
  {
   "cell_type": "code",
   "execution_count": 50,
   "id": "2eb494d0",
   "metadata": {},
   "outputs": [
    {
     "name": "stdout",
     "output_type": "stream",
     "text": [
      "Setelah di tambahkan data baru: Pria\n"
     ]
    }
   ],
   "source": [
    "#Menambahkan Data Di dictionary\n",
    "\n",
    "mahasiswa['Jenis Kelamin']='Pria'\n",
    "print('Setelah di tambahkan data baru:', mahasiswa.get('Jenis Kelamin'))"
   ]
  },
  {
   "cell_type": "code",
   "execution_count": 51,
   "id": "f7fe4396",
   "metadata": {},
   "outputs": [
    {
     "name": "stdout",
     "output_type": "stream",
     "text": [
      "{'nama': 'Jathy Hardhiyan', 'asal': 'Indonesia', 'Jenis Kelamin': 'Pria'}\n"
     ]
    }
   ],
   "source": [
    "#Menambahkan Data Di dictionary\n",
    "\n",
    "mahasiswa['Jenis Kelamin']='Pria'\n",
    "print(mahasiswa)"
   ]
  },
  {
   "cell_type": "code",
   "execution_count": 54,
   "id": "d41fbf7f",
   "metadata": {},
   "outputs": [
    {
     "name": "stdout",
     "output_type": "stream",
     "text": [
      "Hobi: None\n",
      "Hobi dari Jathy Hardhiyan adalah Memandang Langit\n"
     ]
    }
   ],
   "source": [
    "mahasiswa = {\n",
    "  'nama': 'Jathy Hardhiyan',\n",
    "  'asal': 'Indonesia',\n",
    "}\n",
    "\n",
    "# output None\n",
    "print('Hobi:', mahasiswa.get('hobi'))\n",
    "# tambah data\n",
    "mahasiswa['hobi'] = 'Memandang Langit'\n",
    "# print ulang\n",
    "print('Hobi dari {} adalah {}'.format(\n",
    "  mahasiswa.get('nama'),\n",
    "  mahasiswa.get('hobi')\n",
    "))"
   ]
  },
  {
   "cell_type": "code",
   "execution_count": 59,
   "id": "d8dd4da2",
   "metadata": {},
   "outputs": [
    {
     "data": {
      "text/plain": [
       "'Indonesia'"
      ]
     },
     "execution_count": 59,
     "metadata": {},
     "output_type": "execute_result"
    }
   ],
   "source": [
    "mahasiswa = {\n",
    "  'nama': 'Wahid Abdullah',\n",
    "  'usia': 18,\n",
    "  'asal': 'Indonesia'\n",
    "}\n",
    "\n",
    "del mahasiswa['nama']\n",
    "mahasiswa.pop('usia')\n",
    "mahasiswa.pop('asal')"
   ]
  },
  {
   "cell_type": "code",
   "execution_count": 61,
   "id": "dd19d8a4",
   "metadata": {},
   "outputs": [
    {
     "name": "stdout",
     "output_type": "stream",
     "text": [
      "isi pesan: None\n"
     ]
    }
   ],
   "source": [
    "pesan_singkat = {\n",
    "  \"isi\": \"ISI PESAN INI HANYA BISA DIBACA SEKALI SAJA!! 😱\"\n",
    "}\n",
    "\n",
    "isi_pesan = pesan_singkat.pop('isi')\n",
    "\n",
    "# akses langsung dari dictionary\n",
    "# ouput: None\n",
    "print('isi pesan:', pesan_singkat.get('isi'))"
   ]
  },
  {
   "cell_type": "code",
   "execution_count": 62,
   "id": "e71d705f",
   "metadata": {},
   "outputs": [
    {
     "name": "stdout",
     "output_type": "stream",
     "text": [
      "isi pesan: ISI PESAN INI HANYA BISA DIBACA SEKALI SAJA!! 😱\n"
     ]
    }
   ],
   "source": [
    "# akses dari hasil kembalian yang telah disimpan\n",
    "print('isi pesan:', isi_pesan)"
   ]
  },
  {
   "cell_type": "code",
   "execution_count": 55,
   "id": "39d436c6",
   "metadata": {},
   "outputs": [
    {
     "name": "stdout",
     "output_type": "stream",
     "text": [
      "{'nama': 'Jathy Hardhiyan', 'asal': 'Indonesia', 'hobi': 'Memandang Langit'}\n"
     ]
    }
   ],
   "source": [
    "print(mahasiswa)"
   ]
  },
  {
   "cell_type": "code",
   "execution_count": 58,
   "id": "33e6ae90",
   "metadata": {},
   "outputs": [
    {
     "name": "stdout",
     "output_type": "stream",
     "text": [
      "{'name': 'Joe', 'age': 10, 'city': 'Paris'}\n"
     ]
    }
   ],
   "source": [
    "dict = {\"name\": \"Joe\",\n",
    "         \"age\": 10, \n",
    "        \"city\": \"Paris\"}\n",
    "\n",
    "print(dict)"
   ]
  },
  {
   "cell_type": "code",
   "execution_count": 64,
   "id": "5513f4a6",
   "metadata": {},
   "outputs": [
    {
     "name": "stdout",
     "output_type": "stream",
     "text": [
      "{'name': 'Joe', 'age': 10, 'city': 'Paris', 'new_key': 'new_value'}\n"
     ]
    }
   ],
   "source": [
    "dict[\"new_key\"] = \"new_value\"\n",
    "\n",
    "print(dict)"
   ]
  },
  {
   "cell_type": "code",
   "execution_count": 65,
   "id": "d4bdb6a8",
   "metadata": {},
   "outputs": [
    {
     "name": "stdout",
     "output_type": "stream",
     "text": [
      "{'name': 'Joe', 'age': 10, 'city': 'Paris'}\n"
     ]
    }
   ],
   "source": [
    "#Fungsi Del \n",
    "del dict[\"new_key\"]\n",
    "\n",
    "print(dict)"
   ]
  },
  {
   "cell_type": "code",
   "execution_count": 76,
   "id": "01d0e13c",
   "metadata": {},
   "outputs": [
    {
     "name": "stdout",
     "output_type": "stream",
     "text": [
      "Apakah variabel siswa memiliki key nama?\n",
      "True\n",
      "\n",
      "Apakah variabel siswa TIDAK memiliki key usia?\n",
      "True\n"
     ]
    }
   ],
   "source": [
    "#Menggunakan Operator 'Keanggotaan in & not in'\n",
    "\n",
    "siswa = {'nama': 'Jathy'}\n",
    "\n",
    "print('Apakah variabel siswa memiliki key nama?')\n",
    "print('nama' in siswa)\n",
    "\n",
    "print('\\nApakah variabel siswa TIDAK memiliki key usia?')\n",
    "print('usia' not in siswa)"
   ]
  },
  {
   "cell_type": "code",
   "execution_count": 77,
   "id": "9443e82d",
   "metadata": {},
   "outputs": [
    {
     "name": "stdout",
     "output_type": "stream",
     "text": [
      "Jumlah atribut variabel sekolah adalah: 3\n"
     ]
    }
   ],
   "source": [
    "#Menghitung Jumlah 'Key' pada Dictionary menggunakan Method Len\n",
    "\n",
    "sekolah = {\n",
    "  'nama': 'Sekolah Dasar Negeri Surabaya 1',\n",
    "  'jenjang': 'Sekolah Dasar',\n",
    "  'akreditasi': 'A'\n",
    "}\n",
    "\n",
    "print(\n",
    "  \"Jumlah atribut variabel sekolah adalah:\",\n",
    "  len(sekolah)\n",
    ")"
   ]
  },
  {
   "cell_type": "code",
   "execution_count": null,
   "id": "489195ce",
   "metadata": {},
   "outputs": [],
   "source": []
  }
 ],
 "metadata": {
  "kernelspec": {
   "display_name": "Python 3 (ipykernel)",
   "language": "python",
   "name": "python3"
  },
  "language_info": {
   "codemirror_mode": {
    "name": "ipython",
    "version": 3
   },
   "file_extension": ".py",
   "mimetype": "text/x-python",
   "name": "python",
   "nbconvert_exporter": "python",
   "pygments_lexer": "ipython3",
   "version": "3.9.12"
  }
 },
 "nbformat": 4,
 "nbformat_minor": 5
}
