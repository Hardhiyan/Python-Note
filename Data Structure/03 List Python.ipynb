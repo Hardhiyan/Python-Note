{
 "cells": [
  {
   "cell_type": "code",
   "execution_count": 1,
   "id": "505ec245",
   "metadata": {},
   "outputs": [
    {
     "name": "stdout",
     "output_type": "stream",
     "text": [
      "list_kosong: []\n",
      "list_buah: ['Pisang', 'Nanas', 'Melon', 'Durian']\n",
      "list_nilai: [80, 70, 90, 60]\n",
      "list_jawaban: [150, 33.33, 'Presiden Sukarno', False]\n"
     ]
    }
   ],
   "source": [
    "# list kosong\n",
    "list_kosong = []\n",
    "\n",
    "# list yang berisi kumpulan string\n",
    "list_buah = ['Pisang', 'Nanas', 'Melon', 'Durian']\n",
    "\n",
    "# list yang berisi kumpulan integer\n",
    "list_nilai = [80, 70, 90, 60]\n",
    "\n",
    "# list campuran berbagai tipe data\n",
    "list_jawaban = [150, 33.33, 'Presiden Sukarno', False]\n",
    "\n",
    "print('list_kosong:', list_kosong)\n",
    "print('list_buah:', list_buah)\n",
    "print('list_nilai:', list_nilai)\n",
    "print('list_jawaban:', list_jawaban)"
   ]
  },
  {
   "cell_type": "code",
   "execution_count": 2,
   "id": "00dc8ccc",
   "metadata": {},
   "outputs": [
    {
     "name": "stdout",
     "output_type": "stream",
     "text": [
      "['Pisang']\n",
      "['Pisang', 'Nanas']\n",
      "['Nanas', 'Melon']\n",
      "['Pisang', 'Nanas', 'Melon']\n",
      "[]\n",
      "[]\n",
      "['Nanas', 'Melon']\n"
     ]
    }
   ],
   "source": [
    "list_buah = ['Pisang', 'Nanas', 'Melon', 'Durian']\n",
    "\n",
    "print(list_buah[0:1])\n",
    "print(list_buah[0:2])\n",
    "print(list_buah[1:3])\n",
    "print(list_buah[0:-1])\n",
    "print(list_buah[-1:-3])\n",
    "print(list_buah[-1:3])\n",
    "print(list_buah[-3:-1])"
   ]
  },
  {
   "cell_type": "code",
   "execution_count": 3,
   "id": "b60cbb5d",
   "metadata": {},
   "outputs": [
    {
     "name": "stdout",
     "output_type": "stream",
     "text": [
      "['Pisang', 'Nanas', 'Melon', 'Durian']\n",
      "['Jeruk', 'Nanas', 'Melon', 'Durian']\n",
      "['Jeruk', 'Nanas', 'Melon', 'Mangga']\n"
     ]
    }
   ],
   "source": [
    "list_buah = ['Pisang', 'Nanas', 'Melon', 'Durian']\n",
    "\n",
    "print(list_buah)\n",
    "\n",
    "# ubah data pertama\n",
    "list_buah[0] = 'Jeruk'\n",
    "\n",
    "print(list_buah)\n",
    "\n",
    "# ubah data terakhir\n",
    "list_buah[-1] = 'Mangga'\n",
    "\n",
    "print(list_buah)\n"
   ]
  },
  {
   "cell_type": "code",
   "execution_count": 4,
   "id": "0081baad",
   "metadata": {
    "scrolled": true
   },
   "outputs": [
    {
     "name": "stdout",
     "output_type": "stream",
     "text": [
      "['Jeruk', 'Naga', 'Pepaya', 'Mangga']\n"
     ]
    }
   ],
   "source": [
    "list_buah = ['Jeruk', 'Naga', 'Pepaya', 'Mangga']\n",
    "print(list_buah)"
   ]
  },
  {
   "cell_type": "code",
   "execution_count": 5,
   "id": "6897e4f4",
   "metadata": {},
   "outputs": [
    {
     "name": "stdout",
     "output_type": "stream",
     "text": [
      "['Jeruk', 'Naga', 'Pepaya', 'Mangga', 'Sirsak']\n"
     ]
    }
   ],
   "source": [
    "list_buah.append('Sirsak')\n",
    "print(list_buah)"
   ]
  },
  {
   "cell_type": "code",
   "execution_count": 6,
   "id": "b1787d15",
   "metadata": {},
   "outputs": [
    {
     "name": "stdout",
     "output_type": "stream",
     "text": [
      "['Jeruk', 'Naga', 'Pepaya', 'Mangga', 'Sirsak']\n"
     ]
    }
   ],
   "source": [
    "print(list_buah)"
   ]
  },
  {
   "cell_type": "code",
   "execution_count": 9,
   "id": "171dd3ac",
   "metadata": {},
   "outputs": [
    {
     "data": {
      "text/plain": [
       "5"
      ]
     },
     "execution_count": 9,
     "metadata": {},
     "output_type": "execute_result"
    }
   ],
   "source": [
    "len(list_buah)"
   ]
  },
  {
   "cell_type": "code",
   "execution_count": 10,
   "id": "1ffd1b2f",
   "metadata": {},
   "outputs": [
    {
     "data": {
      "text/plain": [
       "'Sirsak'"
      ]
     },
     "execution_count": 10,
     "metadata": {},
     "output_type": "execute_result"
    }
   ],
   "source": [
    "max(list_buah)"
   ]
  },
  {
   "cell_type": "code",
   "execution_count": 12,
   "id": "2a475e12",
   "metadata": {},
   "outputs": [
    {
     "data": {
      "text/plain": [
       "'Jeruk'"
      ]
     },
     "execution_count": 12,
     "metadata": {},
     "output_type": "execute_result"
    }
   ],
   "source": [
    "min(list_buah)"
   ]
  },
  {
   "cell_type": "code",
   "execution_count": 13,
   "id": "c9cde33a",
   "metadata": {},
   "outputs": [
    {
     "data": {
      "text/plain": [
       "list"
      ]
     },
     "execution_count": 13,
     "metadata": {},
     "output_type": "execute_result"
    }
   ],
   "source": [
    "type(list_buah)"
   ]
  },
  {
   "cell_type": "code",
   "execution_count": 14,
   "id": "8a747470",
   "metadata": {},
   "outputs": [
    {
     "name": "stdout",
     "output_type": "stream",
     "text": [
      "['Jambu', 'Jeruk', 'Naga', 'Pepaya', 'Mangga', 'Sirsak']\n"
     ]
    }
   ],
   "source": [
    "list_buah.insert(0, 'Jambu')\n",
    "print(list_buah)"
   ]
  },
  {
   "cell_type": "code",
   "execution_count": 15,
   "id": "bf80fd7a",
   "metadata": {},
   "outputs": [
    {
     "name": "stdout",
     "output_type": "stream",
     "text": [
      "['Jambu', 'Tomat', 'Jeruk', 'Naga', 'Pepaya', 'Mangga', 'Sirsak']\n"
     ]
    }
   ],
   "source": [
    "list_buah.insert(1, 'Tomat')\n",
    "print(list_buah)"
   ]
  },
  {
   "cell_type": "code",
   "execution_count": 16,
   "id": "0915fb03",
   "metadata": {},
   "outputs": [
    {
     "name": "stdout",
     "output_type": "stream",
     "text": [
      "['Jambu', 'Tomat', 'Manggis', 'Jeruk', 'Naga', 'Pepaya', 'Mangga', 'Sirsak']\n"
     ]
    }
   ],
   "source": [
    "# tambah data di index mana pun dalam list\n",
    "list_buah.insert(2, 'Manggis')\n",
    "print(list_buah)"
   ]
  },
  {
   "cell_type": "code",
   "execution_count": 17,
   "id": "c3c02362",
   "metadata": {},
   "outputs": [
    {
     "name": "stdout",
     "output_type": "stream",
     "text": [
      "[1, 2, 3, 4, 5]\n",
      "angka yang terhapus: 5\n",
      "[1, 2, 3, 4]\n"
     ]
    }
   ],
   "source": [
    "list_angka = [1, 2, 3, 4, 5]\n",
    "print(list_angka)\n",
    "\n",
    "# hapus satu angka di belakang\n",
    "angka_yang_terhapus = list_angka.pop()\n",
    "\n",
    "print('angka yang terhapus:', angka_yang_terhapus)\n",
    "print(list_angka)"
   ]
  },
  {
   "cell_type": "code",
   "execution_count": 18,
   "id": "27f7b13f",
   "metadata": {},
   "outputs": [
    {
     "name": "stdout",
     "output_type": "stream",
     "text": [
      "['Mangga', 'Jambu', 'Jeruk', 'Jambu']\n",
      "['Mangga', 'Jeruk', 'Jambu']\n"
     ]
    }
   ],
   "source": [
    "list_buah = ['Mangga', 'Jambu', 'Jeruk', 'Jambu']\n",
    "print(list_buah)\n",
    "\n",
    "# hapus item pertama dengan nilai 'Jambu'\n",
    "list_buah.remove('Jambu')\n",
    "\n",
    "print(list_buah)"
   ]
  },
  {
   "cell_type": "code",
   "execution_count": 23,
   "id": "f039afed",
   "metadata": {},
   "outputs": [
    {
     "name": "stdout",
     "output_type": "stream",
     "text": [
      "['Mangga', 'Jambu', 'Jeruk', 'Jambu']\n",
      "['Mangga', 'Jeruk', 'Jambu']\n",
      "['Jambu']\n"
     ]
    }
   ],
   "source": [
    "list_buah = ['Mangga', 'Jambu', 'Jeruk', 'Jambu']\n",
    "print(list_buah)\n",
    "\n",
    "del list_buah[1]\n",
    "print(list_buah)\n",
    "\n",
    "del list_buah[0:2]\n",
    "print(list_buah)"
   ]
  },
  {
   "cell_type": "code",
   "execution_count": 24,
   "id": "f4a8ff3d",
   "metadata": {},
   "outputs": [
    {
     "name": "stdout",
     "output_type": "stream",
     "text": [
      "[1, 2, 3, 'a', True, 'b', False]\n"
     ]
    }
   ],
   "source": [
    "a = [1, 2, 3]\n",
    "b = ['a']\n",
    "c = [True, 'b', False]\n",
    "\n",
    "listBaru = a + b + c\n",
    "\n",
    "#Mengurutkan Dataprint(listBaru)"
   ]
  },
  {
   "cell_type": "code",
   "execution_count": null,
   "id": "1a23db4f",
   "metadata": {},
   "outputs": [],
   "source": [
    "#Mengurutkan Data\n",
    "\n",
    "list_buah = ['Mangga', 'Jeruk', 'Zaitun', 'Apel', 'Durian']\n",
    "print(list_buah)\n",
    "\n",
    "# urutkan secara ascending\n",
    "list_buah.sort()\n",
    "print(list_buah)\n",
    "\n",
    "# membalikkan posisi item list (tidak harus berurut)\n",
    "list_buah.reverse()\n",
    "print(list_buah)"
   ]
  }
 ],
 "metadata": {
  "kernelspec": {
   "display_name": "Python 3 (ipykernel)",
   "language": "python",
   "name": "python3"
  },
  "language_info": {
   "codemirror_mode": {
    "name": "ipython",
    "version": 3
   },
   "file_extension": ".py",
   "mimetype": "text/x-python",
   "name": "python",
   "nbconvert_exporter": "python",
   "pygments_lexer": "ipython3",
   "version": "3.9.12"
  }
 },
 "nbformat": 4,
 "nbformat_minor": 5
}
