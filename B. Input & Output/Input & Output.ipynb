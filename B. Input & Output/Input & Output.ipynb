{
 "cells": [
  {
   "cell_type": "markdown",
   "metadata": {},
   "source": [
    "Input –atau inputan– (dalam konteks pemrograman) merupakan sebuah data, informasi, atau nilai apa pun yang dikirimkan oleh user kepada komputer untuk diproses lebih lanjut. \n",
    "\n",
    "Terkadang Setiap variabel yang kita buat memiliki nilai sesuai dengan yang kita inginkan, tapi tidak seperti yang user inginkan.\n",
    "\n",
    "Maksudnya, bagaimana jika saat kita melakukan Input, Angka yang diinginkan bisa kita ubah atau kita masukkan sesuka kita tanpa terikat dengan variabel yang sudah kita tentukan sebelumnya?"
   ]
  },
  {
   "cell_type": "code",
   "execution_count": 2,
   "metadata": {},
   "outputs": [
    {
     "name": "stdout",
     "output_type": "stream",
     "text": [
      "luas =  50\n"
     ]
    }
   ],
   "source": [
    "#panjang dan lebar telah ditentukan nilainya terlebih dahulu\n",
    "\n",
    "panjang = 10\n",
    "lebar = 5\n",
    "luas = panjang * lebar\n",
    "\n",
    "print(\"luas = \", luas)"
   ]
  },
  {
   "cell_type": "markdown",
   "metadata": {},
   "source": [
    "Lalu bagaimana kalau misal kita ingin menghitung luas persegi panjang selain 10 dan 5?\n",
    "\n",
    "Solusinya adalah\n",
    "\n",
    "Membuat Input Pada Python dari awal"
   ]
  },
  {
   "cell_type": "markdown",
   "metadata": {},
   "source": [
    "Di dalam bahasa pemrograman python, kita bisa membuat sebuah inputan dengan cara memanggil fungsi bawaan python yang bernama fungsi input().\n",
    "\n",
    "Fungsi input() menerima satu buah parameter string, yang mana parameter tersebut akan ditampilkan di layar sebelum user memasukkan sebuah data."
   ]
  },
  {
   "cell_type": "code",
   "execution_count": 3,
   "metadata": {},
   "outputs": [
    {
     "name": "stdout",
     "output_type": "stream",
     "text": [
      "Halo, Jathy .. selamat datang!\n"
     ]
    }
   ],
   "source": [
    "nama = input('Masukkan nama anda: ')        #Input berguna untuk memasukkan data dari sebelum dijalankan\n",
    "\n",
    "print('Halo,', nama, '.. selamat datang!')"
   ]
  },
  {
   "cell_type": "markdown",
   "metadata": {},
   "source": [
    "user bisa memasukkan nilai atau data apa pun. Bisa berupa angka, tanggal lahir, bahkan emoji.\n",
    "\n",
    "Lalu apa tipe data nilai kembalian dari fungsi input()?\n",
    "\n",
    "Tipe data kembaliannya adalah string!"
   ]
  },
  {
   "cell_type": "code",
   "execution_count": 4,
   "metadata": {},
   "outputs": [
    {
     "name": "stdout",
     "output_type": "stream",
     "text": [
      "Variabel nama bertipe data: <class 'str'>\n"
     ]
    }
   ],
   "source": [
    "nama = input('Masukkan nama anda: ')\n",
    "\n",
    "print('Variabel nama bertipe data:', type(nama))"
   ]
  },
  {
   "cell_type": "code",
   "execution_count": 5,
   "metadata": {},
   "outputs": [
    {
     "name": "stdout",
     "output_type": "stream",
     "text": [
      "Kalkulator luas persegi panjang\n",
      "\n"
     ]
    },
    {
     "ename": "TypeError",
     "evalue": "can't multiply sequence by non-int of type 'str'",
     "output_type": "error",
     "traceback": [
      "\u001b[1;31m---------------------------------------------------------------------------\u001b[0m",
      "\u001b[1;31mTypeError\u001b[0m                                 Traceback (most recent call last)",
      "\u001b[1;32mUntitled-1.ipynb Cell 8'\u001b[0m in \u001b[0;36m<cell line: 5>\u001b[1;34m()\u001b[0m\n\u001b[0;32m      <a href='vscode-notebook-cell:Untitled-1.ipynb?jupyter-notebook#ch0000009untitled?line=1'>2</a>\u001b[0m panjang \u001b[39m=\u001b[39m \u001b[39minput\u001b[39m(\u001b[39m'\u001b[39m\u001b[39mMasukkan panjang: \u001b[39m\u001b[39m'\u001b[39m)\n\u001b[0;32m      <a href='vscode-notebook-cell:Untitled-1.ipynb?jupyter-notebook#ch0000009untitled?line=2'>3</a>\u001b[0m lebar \u001b[39m=\u001b[39m \u001b[39minput\u001b[39m(\u001b[39m'\u001b[39m\u001b[39mMasukkan lebar: \u001b[39m\u001b[39m'\u001b[39m)\n\u001b[1;32m----> <a href='vscode-notebook-cell:Untitled-1.ipynb?jupyter-notebook#ch0000009untitled?line=4'>5</a>\u001b[0m \u001b[39mprint\u001b[39m(\u001b[39m'\u001b[39m\u001b[39mLuas =\u001b[39m\u001b[39m'\u001b[39m, panjang \u001b[39m*\u001b[39;49m lebar)\n",
      "\u001b[1;31mTypeError\u001b[0m: can't multiply sequence by non-int of type 'str'"
     ]
    }
   ],
   "source": [
    "print('Kalkulator luas persegi panjang\\n')\n",
    "panjang = input('Masukkan panjang: ')\n",
    "lebar = input('Masukkan lebar: ')\n",
    "\n",
    "print('Luas =', panjang * lebar)"
   ]
  },
  {
   "cell_type": "markdown",
   "metadata": {},
   "source": [
    "Kenapa error? karena kita berusaha mengalikan dua buah nilai yang bertipe data string.\n",
    "\n",
    "Lalu bagaimana solusinya jika kita ingin mengalikan dua buah bilangan hasil dari input user?\n",
    "\n",
    "Caranya adalah dengan mengkonversi tipe data!\n",
    "\n",
    "Kita bisa mengkonversi tipe data string menjadi integer menggunakan fungsi int()."
   ]
  },
  {
   "cell_type": "code",
   "execution_count": 6,
   "metadata": {},
   "outputs": [
    {
     "data": {
      "text/plain": [
       "int"
      ]
     },
     "execution_count": 6,
     "metadata": {},
     "output_type": "execute_result"
    }
   ],
   "source": [
    "type(10)                #Dari integer\n",
    "type('10')              #diubah lagi menjadi string\n",
    "type(int('10'))         #lalu dikonversi lagi menjadi integer"
   ]
  },
  {
   "cell_type": "code",
   "execution_count": 7,
   "metadata": {},
   "outputs": [
    {
     "name": "stdout",
     "output_type": "stream",
     "text": [
      "Kalkulator luas persegi panjang\n",
      "\n",
      "Luas = 8100\n"
     ]
    }
   ],
   "source": [
    "#coba kita terapkan di Program Calculator tadi\n",
    "\n",
    "print('Kalkulator luas persegi panjang\\n')\n",
    "panjang = input('Masukkan panjang: ')\n",
    "lebar = input('Masukkan lebar: ')\n",
    "\n",
    "print('Luas =', int(panjang) * int(lebar))"
   ]
  },
  {
   "cell_type": "markdown",
   "metadata": {},
   "source": [
    "Kalau misal kita ingin tipe datanya adalah float?\n",
    "Caranya gampang, kita tinggal ganti saja fungsi int() menjadi float(), \n",
    "maka tipe data hasil input user yang awalnya adalah string akan berubah menjadi float.\n",
    "\n",
    "Untuk melakukan Konversi2, lanjut ke Notebook Tipe Data Casting"
   ]
  },
  {
   "cell_type": "code",
   "execution_count": 8,
   "metadata": {},
   "outputs": [
    {
     "name": "stdout",
     "output_type": "stream",
     "text": [
      "Kalkulator luas persegi panjang\n",
      "\n",
      "Luas = 89001.0\n"
     ]
    }
   ],
   "source": [
    "print('Kalkulator luas persegi panjang\\n')\n",
    "panjang = input('Masukkan panjang: ')\n",
    "lebar = input('Masukkan lebar: ')\n",
    "\n",
    "print('Luas =', float(panjang) * float(lebar))"
   ]
  },
  {
   "cell_type": "markdown",
   "metadata": {},
   "source": [
    "Output atau keluaran (dalam bahasa Indonesia) merupakan setiap nilai atau data atau informasi yang dikirimkan oleh mesin / komputer kepada user (manusia) setelah tahap pemrosesan tertentu\n",
    "\n",
    "Pada python sendiri, output bisa berbagai macam seperti yang telah disebutkan sebelumnya. Akan tetapi yang paling dasar ada 2 jenis yaitu:\n",
    "\n",
    "Output yang ditampilkan di layar (CLI)\n",
    "Dan output yang dikeluarkan (ditulis) dalam bentuk file\n",
    "\n",
    "Untuk membuat output di layar, perintah atau fungsi yang paling dasar digunakan adalah fungsi print()"
   ]
  }
 ],
 "metadata": {
  "kernelspec": {
   "display_name": "Python 3.9.12 ('base')",
   "language": "python",
   "name": "python3"
  },
  "language_info": {
   "codemirror_mode": {
    "name": "ipython",
    "version": 3
   },
   "file_extension": ".py",
   "mimetype": "text/x-python",
   "name": "python",
   "nbconvert_exporter": "python",
   "pygments_lexer": "ipython3",
   "version": "3.9.12"
  },
  "orig_nbformat": 4,
  "vscode": {
   "interpreter": {
    "hash": "fe087a48aed1072ae97c1a59fe03ae759e22e8e25f54db6aadaa73caa8b774a1"
   }
  }
 },
 "nbformat": 4,
 "nbformat_minor": 2
}
