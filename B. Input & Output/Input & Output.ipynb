{
 "cells": [
  {
   "cell_type": "markdown",
   "metadata": {},
   "source": [
    "Input –atau inputan– (dalam konteks pemrograman) merupakan sebuah data, informasi, atau nilai apa pun yang dikirimkan oleh user kepada komputer untuk diproses lebih lanjut. \n",
    "\n",
    "Terkadang Setiap variabel yang kita buat memiliki nilai sesuai dengan yang kita inginkan, tapi tidak seperti yang user inginkan.\n",
    "\n",
    "Maksudnya, bagaimana jika saat kita melakukan Input, Angka yang diinginkan bisa kita ubah atau kita masukkan sesuka kita tanpa terikat dengan variabel yang sudah kita tentukan sebelumnya?"
   ]
  },
  {
   "cell_type": "code",
   "execution_count": 2,
   "metadata": {},
   "outputs": [
    {
     "name": "stdout",
     "output_type": "stream",
     "text": [
      "luas =  50\n"
     ]
    }
   ],
   "source": [
    "#panjang dan lebar telah ditentukan nilainya terlebih dahulu\n",
    "\n",
    "panjang = 10\n",
    "lebar = 5\n",
    "luas = panjang * lebar\n",
    "\n",
    "print(\"luas = \", luas)"
   ]
  },
  {
   "cell_type": "markdown",
   "metadata": {},
   "source": [
    "Lalu bagaimana kalau misal kita ingin menghitung luas persegi panjang selain 10 dan 5?\n",
    "\n",
    "Solusinya adalah\n",
    "\n",
    "Membuat Input Pada Python dari awal"
   ]
  },
  {
   "cell_type": "markdown",
   "metadata": {},
   "source": [
    "Di dalam bahasa pemrograman python, kita bisa membuat sebuah inputan dengan cara memanggil fungsi bawaan python yang bernama fungsi input().\n",
    "\n",
    "Fungsi input() menerima satu buah parameter string, yang mana parameter tersebut akan ditampilkan di layar sebelum user memasukkan sebuah data."
   ]
  },
  {
   "cell_type": "code",
   "execution_count": 3,
   "metadata": {},
   "outputs": [
    {
     "name": "stdout",
     "output_type": "stream",
     "text": [
      "Halo, Jathy .. selamat datang!\n"
     ]
    }
   ],
   "source": [
    "nama = input('Masukkan nama anda: ')        #Input berguna untuk memasukkan data dari sebelum dijalankan\n",
    "\n",
    "print('Halo,', nama, '.. selamat datang!')"
   ]
  },
  {
   "cell_type": "markdown",
   "metadata": {},
   "source": [
    "user bisa memasukkan nilai atau data apa pun. Bisa berupa angka, tanggal lahir, bahkan emoji.\n",
    "\n",
    "Lalu apa tipe data nilai kembalian dari fungsi input()?\n",
    "\n",
    "Tipe data kembaliannya adalah string!"
   ]
  },
  {
   "cell_type": "code",
   "execution_count": 4,
   "metadata": {},
   "outputs": [
    {
     "name": "stdout",
     "output_type": "stream",
     "text": [
      "Variabel nama bertipe data: <class 'str'>\n"
     ]
    }
   ],
   "source": [
    "nama = input('Masukkan nama anda: ')\n",
    "\n",
    "print('Variabel nama bertipe data:', type(nama))"
   ]
  },
  {
   "cell_type": "code",
   "execution_count": 5,
   "metadata": {},
   "outputs": [
    {
     "name": "stdout",
     "output_type": "stream",
     "text": [
      "Kalkulator luas persegi panjang\n",
      "\n"
     ]
    },
    {
     "ename": "TypeError",
     "evalue": "can't multiply sequence by non-int of type 'str'",
     "output_type": "error",
     "traceback": [
      "\u001b[1;31m---------------------------------------------------------------------------\u001b[0m",
      "\u001b[1;31mTypeError\u001b[0m                                 Traceback (most recent call last)",
      "\u001b[1;32mUntitled-1.ipynb Cell 8'\u001b[0m in \u001b[0;36m<cell line: 5>\u001b[1;34m()\u001b[0m\n\u001b[0;32m      <a href='vscode-notebook-cell:Untitled-1.ipynb?jupyter-notebook#ch0000009untitled?line=1'>2</a>\u001b[0m panjang \u001b[39m=\u001b[39m \u001b[39minput\u001b[39m(\u001b[39m'\u001b[39m\u001b[39mMasukkan panjang: \u001b[39m\u001b[39m'\u001b[39m)\n\u001b[0;32m      <a href='vscode-notebook-cell:Untitled-1.ipynb?jupyter-notebook#ch0000009untitled?line=2'>3</a>\u001b[0m lebar \u001b[39m=\u001b[39m \u001b[39minput\u001b[39m(\u001b[39m'\u001b[39m\u001b[39mMasukkan lebar: \u001b[39m\u001b[39m'\u001b[39m)\n\u001b[1;32m----> <a href='vscode-notebook-cell:Untitled-1.ipynb?jupyter-notebook#ch0000009untitled?line=4'>5</a>\u001b[0m \u001b[39mprint\u001b[39m(\u001b[39m'\u001b[39m\u001b[39mLuas =\u001b[39m\u001b[39m'\u001b[39m, panjang \u001b[39m*\u001b[39;49m lebar)\n",
      "\u001b[1;31mTypeError\u001b[0m: can't multiply sequence by non-int of type 'str'"
     ]
    }
   ],
   "source": [
    "print('Kalkulator luas persegi panjang\\n')\n",
    "panjang = input('Masukkan panjang: ')\n",
    "lebar = input('Masukkan lebar: ')\n",
    "\n",
    "print('Luas =', panjang * lebar)"
   ]
  },
  {
   "cell_type": "markdown",
   "metadata": {},
   "source": [
    "Kenapa error? karena kita berusaha mengalikan dua buah nilai yang bertipe data string.\n",
    "\n",
    "Lalu bagaimana solusinya jika kita ingin mengalikan dua buah bilangan hasil dari input user?\n",
    "\n",
    "Caranya adalah dengan mengkonversi tipe data!\n",
    "\n",
    "Kita bisa mengkonversi tipe data string menjadi integer menggunakan fungsi int()."
   ]
  },
  {
   "cell_type": "code",
   "execution_count": 6,
   "metadata": {},
   "outputs": [
    {
     "data": {
      "text/plain": [
       "int"
      ]
     },
     "execution_count": 6,
     "metadata": {},
     "output_type": "execute_result"
    }
   ],
   "source": [
    "type(10)                #Dari integer\n",
    "type('10')              #diubah lagi menjadi string\n",
    "type(int('10'))         #lalu dikonversi lagi menjadi integer"
   ]
  },
  {
   "cell_type": "code",
   "execution_count": 7,
   "metadata": {},
   "outputs": [
    {
     "name": "stdout",
     "output_type": "stream",
     "text": [
      "Kalkulator luas persegi panjang\n",
      "\n",
      "Luas = 8100\n"
     ]
    }
   ],
   "source": [
    "#coba kita terapkan di Program Calculator tadi\n",
    "\n",
    "print('Kalkulator luas persegi panjang\\n')\n",
    "panjang = input('Masukkan panjang: ')\n",
    "lebar = input('Masukkan lebar: ')\n",
    "\n",
    "print('Luas =', int(panjang) * int(lebar))"
   ]
  },
  {
   "cell_type": "markdown",
   "metadata": {},
   "source": [
    "Kalau misal kita ingin tipe datanya adalah float?\n",
    "Caranya gampang, kita tinggal ganti saja fungsi int() menjadi float(), \n",
    "maka tipe data hasil input user yang awalnya adalah string akan berubah menjadi float.\n",
    "\n",
    "Untuk melakukan Konversi2, lanjut ke Notebook Tipe Data Casting"
   ]
  },
  {
   "cell_type": "code",
   "execution_count": 8,
   "metadata": {},
   "outputs": [
    {
     "name": "stdout",
     "output_type": "stream",
     "text": [
      "Kalkulator luas persegi panjang\n",
      "\n",
      "Luas = 89001.0\n"
     ]
    }
   ],
   "source": [
    "print('Kalkulator luas persegi panjang\\n')\n",
    "panjang = input('Masukkan panjang: ')\n",
    "lebar = input('Masukkan lebar: ')\n",
    "\n",
    "print('Luas =', float(panjang) * float(lebar))"
   ]
  },
  {
   "cell_type": "markdown",
   "metadata": {},
   "source": [
    "Output atau keluaran (dalam bahasa Indonesia) merupakan setiap nilai atau data atau informasi yang dikirimkan oleh mesin / komputer kepada user (manusia) setelah tahap pemrosesan tertentu\n",
    "\n",
    "Pada python sendiri, output bisa berbagai macam seperti yang telah disebutkan sebelumnya. Akan tetapi yang paling dasar ada 2 jenis yaitu:\n",
    "\n",
    "Output yang ditampilkan di layar (CLI)\n",
    "Dan output yang dikeluarkan (ditulis) dalam bentuk file\n",
    "\n",
    "Untuk membuat output di layar, perintah atau fungsi yang paling dasar digunakan adalah fungsi print()"
   ]
  },
  {
   "cell_type": "markdown",
   "metadata": {},
   "source": [
    "Cara pertama yaitu cara biasa, hanya menggunakan satu buah string saja.\n",
    "\n",
    "Dan cara kedua yaitu menampilkan lebih dari satu argumen string, dan memisahkan antar string tersebut menggunakan tanda koma."
   ]
  },
  {
   "cell_type": "code",
   "execution_count": 1,
   "metadata": {},
   "outputs": [
    {
     "name": "stdout",
     "output_type": "stream",
     "text": [
      "Andi Budi Tasya Lala\n",
      "Andi_^_Budi_^_Tasya_^_Lala\n"
     ]
    }
   ],
   "source": [
    "print('Andi', 'Budi', 'Tasya', 'Lala')\n",
    "# Andi Budi Tasya Lala\n",
    "\n",
    "print('Andi', 'Budi', 'Tasya', 'Lala', sep='_^_')   #sep = separator\n",
    "# Andi_^_Budi_^_Tasya_^_Lala\n",
    "\n",
    "#Hal itu akan membuat python mengganti karakter pemisah bawaan-nya dengan karakter yang didefinisikan sendiri"
   ]
  },
  {
   "cell_type": "markdown",
   "metadata": {},
   "source": [
    "Jadi secara bawaan, setiap kali kita memanggil fungsi print() untuk mencetak sesuatu, python akan mencetak karakter ganti baris (\\n) di setiap output.\n",
    "\n",
    "Sedangkan dengan parameter end, kita bisa mengganti karakter ganti baris bawaan python dengan karakter lain sesuai keinginan."
   ]
  },
  {
   "cell_type": "code",
   "execution_count": 2,
   "metadata": {},
   "outputs": [
    {
     "name": "stdout",
     "output_type": "stream",
     "text": [
      "Merkurius\n",
      "Venus\n",
      "Bumi\n"
     ]
    }
   ],
   "source": [
    "print('Merkurius')\n",
    "print('Venus')\n",
    "print('Bumi')"
   ]
  },
  {
   "cell_type": "code",
   "execution_count": 4,
   "metadata": {},
   "outputs": [
    {
     "name": "stdout",
     "output_type": "stream",
     "text": [
      "Merkurius*Venus*Bumi*"
     ]
    }
   ],
   "source": [
    "print('Merkurius', end='*')\n",
    "print('Venus', end='*')\n",
    "print('Bumi', end='*')"
   ]
  },
  {
   "cell_type": "code",
   "execution_count": 5,
   "metadata": {},
   "outputs": [
    {
     "name": "stdout",
     "output_type": "stream",
     "text": [
      "1*2*3@1🐢2🐢3🦖\n"
     ]
    }
   ],
   "source": [
    "#bisa juga menggunakan parameter end dan sep secara bersamaan\n",
    "\n",
    "print('1', '2', '3', sep=\"*\", end=\"@\")\n",
    "# 1*2*3@\n",
    "\n",
    "print('1', '2', '3', sep=\"🐢\", end=\"🦖\\n\")#\n",
    "# 1🐢2🐢3🦖\n"
   ]
  },
  {
   "cell_type": "markdown",
   "metadata": {},
   "source": [
    "Fungsi escape karakter \\n pada contoh kedua adalah untuk menampilkan ganti baris. Karena tanpa diakhiri \\n, perintah print selanjutnya tidak akan dimulai dari baris baru"
   ]
  },
  {
   "cell_type": "markdown",
   "metadata": {},
   "source": [
    "Memformat Output\n",
    "Selain dengan operator +, kita juga bisa menyisipkan sebuah variabel atau nilai kedalam sebuah string dengan memanggil fungsi str.format()."
   ]
  },
  {
   "cell_type": "code",
   "execution_count": 6,
   "metadata": {},
   "outputs": [
    {
     "name": "stdout",
     "output_type": "stream",
     "text": [
      "5 + 3 = 8\n",
      "5 + 3 = 8\n"
     ]
    }
   ],
   "source": [
    "a = 5\n",
    "b = 3\n",
    "\n",
    "print(a, '+', b, '=', a + b)\n",
    "# 5 + 3 = 8\n",
    "\n",
    "print('{} + {} = {}'.format(a, b, a + b))\n",
    "# 5 + 3 = 8"
   ]
  },
  {
   "cell_type": "markdown",
   "metadata": {},
   "source": [
    "Format Dengan Index\n",
    "Selain menggunakan {}, kita juga bisa mendifinisikan index supaya yang ditampilkan tidak sesuai urutan parameter."
   ]
  },
  {
   "cell_type": "code",
   "execution_count": 7,
   "metadata": {},
   "outputs": [
    {
     "name": "stdout",
     "output_type": "stream",
     "text": [
      "Jathy dan Zee\n",
      "Zee dan Jathy\n"
     ]
    }
   ],
   "source": [
    "print('{} dan {}'.format('Jathy', 'Zee'))\n",
    "\n",
    "print('{1} dan {0}'.format('Jathy', 'Zee'))"
   ]
  },
  {
   "cell_type": "markdown",
   "metadata": {},
   "source": [
    "Pada contoh di atas, kita menggunakan {} tanpa index, dan juga menggunakan {0} dan {1} yang berupa index dari argumen fungsi format()."
   ]
  },
  {
   "cell_type": "markdown",
   "metadata": {},
   "source": [
    "Format dengan kunci\n",
    "\n",
    "Selain menggunakan index seperti {0} atau {1} dan seterusnya, kita juga bisa menggunakan kunci atau key berupa string."
   ]
  },
  {
   "cell_type": "code",
   "execution_count": 8,
   "metadata": {},
   "outputs": [
    {
     "name": "stdout",
     "output_type": "stream",
     "text": [
      "Halo Agus Priyono\n",
      "Halo Agus Priyono\n"
     ]
    }
   ],
   "source": [
    "print('Halo {namaDepan} {namaBelakang}'.format(namaDepan='Agus', namaBelakang='Priyono'))\n",
    "# Halo Agus Priyono\n",
    "\n",
    "print('Halo {namaDepan} {namaBelakang}'.format(namaBelakang='Priyono', namaDepan='Agus'))\n",
    "# Halo Agus Priyono"
   ]
  },
  {
   "cell_type": "markdown",
   "metadata": {},
   "source": [
    "Dua baris kode pada contoh di atas menghasilkan output yang sama meskipun urutan parameternya berbeda. \n",
    "Itu karena yang kita gunakan adalah format menggunakan kunci"
   ]
  },
  {
   "cell_type": "markdown",
   "metadata": {},
   "source": [
    "Agar kode program tidak terlalu memanjang kesamping, kita bisa ganti baris saat pemanggilan fungsi"
   ]
  },
  {
   "cell_type": "code",
   "execution_count": 9,
   "metadata": {},
   "outputs": [
    {
     "name": "stdout",
     "output_type": "stream",
     "text": [
      "Halo Jathy Hardhiyan\n",
      "Halo Hardhiyan Jathy\n"
     ]
    }
   ],
   "source": [
    "print('Halo {namaDepan} {namaBelakang}'\n",
    "  .format(namaDepan='Jathy', namaBelakang='Hardhiyan'))\n",
    "\n",
    "# begini juga bisa:\n",
    "print('Halo {namaDepan} {namaBelakang}'\n",
    "  .format(\n",
    "    namaBelakang='Hardhiyan',\n",
    "    namaDepan='Jathy'\n",
    "  )\n",
    ")"
   ]
  },
  {
   "cell_type": "markdown",
   "metadata": {},
   "source": [
    "# Formatting String/Literal String"
   ]
  },
  {
   "cell_type": "markdown",
   "metadata": {},
   "source": [
    "The (formatting) f string is also known as the 'literal string' to insert a variable into the string and make it part so instead of doing.\n",
    "\n",
    "Untuk menggunakan formatted string literals, mulailah string dengan f atau F sebelum tanda kutip pembuka atau tanda kutip tiga. Di dalam string ini, Anda bisa menulis ekspresi Python antara karakter { dan } yang dapat merujuk ke variabel atau nilai literal yang telah didefinisikan."
   ]
  },
  {
   "cell_type": "code",
   "execution_count": 1,
   "metadata": {},
   "outputs": [
    {
     "data": {
      "text/plain": [
       "'Results of the 2016 Referendum'"
      ]
     },
     "execution_count": 1,
     "metadata": {},
     "output_type": "execute_result"
    }
   ],
   "source": [
    "year = 2016\n",
    "event = 'Referendum'\n",
    "f'Results of the {year} {event}'"
   ]
  },
  {
   "cell_type": "code",
   "execution_count": 4,
   "metadata": {},
   "outputs": [
    {
     "name": "stdout",
     "output_type": "stream",
     "text": [
      "length = 4 width = 5 area = 20\n",
      "length = 4 width = 5 area = 20\n",
      "length = {l} width = {w} area = {area(l,w)}\n"
     ]
    }
   ],
   "source": [
    "def area(length, width):\n",
    "    return length * width\n",
    "\n",
    "l = 4\n",
    "w = 5\n",
    "\n",
    "print(\"length =\", l, \"width =\", w, \"area =\", area(l, w))  # normal way\n",
    "print(f\"length = {l} width = {w} area = {area(l,w)}\")     # Same output as above\n",
    "print(\"length = {l} width = {w} area = {area(l,w)}\")      # without f prefixed"
   ]
  },
  {
   "cell_type": "code",
   "execution_count": null,
   "metadata": {},
   "outputs": [],
   "source": [
    "args = parser.parser_args()\n",
    "\n",
    "print(f\"Input directory: {args.input_directory}\")\n",
    "print(f\"Output directory: {args.output_directory}\")\n",
    "\n",
    "#is the same as\n",
    "\n",
    "print(\"Input directory: {}\".format(args.input_directory))\n",
    "print(\"Output directory: {}\".format(args.output_directory))\n",
    "\n",
    "#it is also the same as\n",
    "\n",
    "print(\"Input directory: \"+args.input_directory)\n",
    "print(\"Output directory: \"+args.output_directory)"
   ]
  }
 ],
 "metadata": {
  "kernelspec": {
   "display_name": "Python 3.10.4 64-bit",
   "language": "python",
   "name": "python3"
  },
  "language_info": {
   "codemirror_mode": {
    "name": "ipython",
    "version": 3
   },
   "file_extension": ".py",
   "mimetype": "text/x-python",
   "name": "python",
   "nbconvert_exporter": "python",
   "pygments_lexer": "ipython3",
   "version": "3.10.4"
  },
  "orig_nbformat": 4,
  "vscode": {
   "interpreter": {
    "hash": "48ec332f34da26a12a31a27950beb3623cfc914f965794f492d93a6b4d71cf89"
   }
  }
 },
 "nbformat": 4,
 "nbformat_minor": 2
}
