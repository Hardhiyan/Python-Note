{
 "cells": [
  {
   "cell_type": "markdown",
   "metadata": {},
   "source": [
    "Sebelumnya bisa diasumsikan kita telah mengetahui bahwa ada beberapa tipe data pada python. Baik tipe data yang bersifat asli (primitif) mau pun tipe data yang tergolong canggih karena ia merupakan susunan dari tipe data asli lainnya.\n",
    "\n",
    "Dari None, Int, str, float hingga list, tuple, dict, set, dan lainnya.\n",
    "\n",
    "Kita bisa memeriksa jenis tipe data dari variabel yang di definisikan menggunakan fungsi type(). \n",
    "\n",
    "lalu bagaimana jika kita menemukan kasus dimana variabel yang ada saat ini, membutuhkan tipe data yang berbeda dari tipe data yang kita inginkan? jawabanya yaitu dengan melakukan konversi.\n",
    "\n",
    "lalu Apa itu Konversi Tipe Data?\n",
    "\n",
    "Konversi tipe data adalah teknik mengubah nilai yang awalnya dari tipe data a, menjadi tipe data b. Terdapat 2 cara dalam mengkonversi tipe data:\n",
    "\n",
    "- Konversi secara implisit (otomatis)\n",
    "- Konversi secara eksplisit (manual)\n",
    "\n",
    "Kenapa Data Butuh Dikonversi?\n",
    "\n",
    "Jawabannya adalah: tidak semua data itu valid dan tidak semua data itu bisa kita oleh sesuai kebutuhan.\n",
    "\n",
    "Lalu kenapa Data bisa tidak Valid?\n",
    "\n",
    "Contoh, kita meminta user untuk menginputkan data usia. User menuliskan angka usianya. Akan tetapi, python justru menganggap data tersebut sebagai string, bukan integer."
   ]
  },
  {
   "cell_type": "code",
   "execution_count": 1,
   "metadata": {},
   "outputs": [
    {
     "name": "stdout",
     "output_type": "stream",
     "text": [
      "<class 'str'>\n"
     ]
    }
   ],
   "source": [
    "usia = input('Masukkan usia anda: ')        #Usia yang kita masukkan akan otomatis berupa string\n",
    "\n",
    "print(type(usia))"
   ]
  },
  {
   "cell_type": "markdown",
   "metadata": {},
   "source": [
    "Sedangkan jika kita berusaha mengoperasikan (misal perkalian) string dan integer, \n",
    "atau string dan string, maka (secara umum) kita akan mendapatkan error."
   ]
  },
  {
   "cell_type": "code",
   "execution_count": 2,
   "metadata": {},
   "outputs": [
    {
     "ename": "TypeError",
     "evalue": "can't multiply sequence by non-int of type 'str'",
     "output_type": "error",
     "traceback": [
      "\u001b[1;31m---------------------------------------------------------------------------\u001b[0m",
      "\u001b[1;31mTypeError\u001b[0m                                 Traceback (most recent call last)",
      "\u001b[1;32mHardhiyan\\Python-Note\\B. Input & Output\\Casting.ipynb Cell 4'\u001b[0m in \u001b[0;36m<cell line: 4>\u001b[1;34m()\u001b[0m\n\u001b[0;32m      <a href='vscode-notebook-cell://github/Hardhiyan/Python-Note/B.%20Input%20%26%20Output/Casting.ipynb#ch0000002vscode-vfs?line=0'>1</a>\u001b[0m panjang \u001b[39m=\u001b[39m \u001b[39minput\u001b[39m(\u001b[39m'\u001b[39m\u001b[39mMasukkan panjang: \u001b[39m\u001b[39m'\u001b[39m)\n\u001b[0;32m      <a href='vscode-notebook-cell://github/Hardhiyan/Python-Note/B.%20Input%20%26%20Output/Casting.ipynb#ch0000002vscode-vfs?line=1'>2</a>\u001b[0m lebar \u001b[39m=\u001b[39m \u001b[39minput\u001b[39m(\u001b[39m'\u001b[39m\u001b[39mMasukkan lebar: \u001b[39m\u001b[39m'\u001b[39m)\n\u001b[1;32m----> <a href='vscode-notebook-cell://github/Hardhiyan/Python-Note/B.%20Input%20%26%20Output/Casting.ipynb#ch0000002vscode-vfs?line=3'>4</a>\u001b[0m \u001b[39mprint\u001b[39m(\u001b[39m'\u001b[39m\u001b[39mLuas =\u001b[39m\u001b[39m'\u001b[39m, panjang \u001b[39m*\u001b[39;49m lebar)\n",
      "\u001b[1;31mTypeError\u001b[0m: can't multiply sequence by non-int of type 'str'"
     ]
    }
   ],
   "source": [
    "panjang = input('Masukkan panjang: ')\n",
    "lebar = input('Masukkan lebar: ')\n",
    "\n",
    "print('Luas =', panjang * lebar)"
   ]
  },
  {
   "cell_type": "markdown",
   "metadata": {},
   "source": [
    "Karena tidak semua data itu tipe datanya valid, yang mana mengakibatkan tidak bisa diolahnya data tersebut, oleh karena itu mengkonversi tipe data sesuai kebutuhan merupakan sesuatu yang penting"
   ]
  },
  {
   "cell_type": "markdown",
   "metadata": {},
   "source": [
    "Model Konversi implisit adalah proses pengkonversian tipe data yang terjadi secara otomatis dibalik layar, tanpa perlu kita instruksi secara langsung.\n",
    "\n",
    "Seperti hasil dari operasi pembagian antar dua bilangan akan otomatis dikonversi menjadi tipe data float."
   ]
  },
  {
   "cell_type": "code",
   "execution_count": 3,
   "metadata": {},
   "outputs": [
    {
     "name": "stdout",
     "output_type": "stream",
     "text": [
      "<class 'float'>\n",
      "<class 'float'>\n"
     ]
    }
   ],
   "source": [
    "a = 10 / 2\n",
    "print(type(a))\n",
    "\n",
    "b = 1 / 2\n",
    "print(type(b))"
   ]
  },
  {
   "cell_type": "markdown",
   "metadata": {},
   "source": [
    "Hal ini juga berlaku untuk penjumlahan atau perkalian atau pengurangan jika salah satu operan-nya adalah bilangan pecahan"
   ]
  },
  {
   "cell_type": "code",
   "execution_count": 4,
   "metadata": {},
   "outputs": [
    {
     "name": "stdout",
     "output_type": "stream",
     "text": [
      "<class 'int'>\n",
      "<class 'float'>\n",
      "<class 'float'>\n"
     ]
    }
   ],
   "source": [
    "c = 10 + 5 # hasilnya integer\n",
    "print(type(c))\n",
    "\n",
    "d = 10 + 5.0 # hasilnya float\n",
    "print(type(d))\n",
    "\n",
    "e = 10.5 - 3 # hasilnya float\n",
    "print(type(e))"
   ]
  },
  {
   "cell_type": "markdown",
   "metadata": {},
   "source": [
    "Demikian pula dengan perkalian antara string dan integer, ia akan menghasilkan sebuah string:"
   ]
  },
  {
   "cell_type": "code",
   "execution_count": 5,
   "metadata": {},
   "outputs": [
    {
     "name": "stdout",
     "output_type": "stream",
     "text": [
      "Jeruk Jeruk Jeruk Jeruk Jeruk \n",
      "<class 'str'>\n"
     ]
    }
   ],
   "source": [
    "kata = 'Jeruk ' * 5\n",
    "\n",
    "print(kata)\n",
    "print(type(kata))"
   ]
  },
  {
   "cell_type": "markdown",
   "metadata": {},
   "source": [
    "Konversi Tipe Data Secara Eksplisit\n",
    "\n",
    "Kita tahu bahwa tidak semua operasi dari tipe data yang berbeda bisa dikonversi dengan benar oleh python. Beberapa di antaranya justru menghasilkan error jika tidak kita konversi manual. Proses konversi manual ini lah yang dinamakan sebagai tipe data casting secara eksplisit.\n",
    "\n",
    "Dalam python, kita bisa mengkonversi tipe data secara eksplisit dengan memanggil fungsi konstruktor dari masing-masing tipe data.\n",
    "\n",
    "Untuk tipe data primitif, kita bisa memanggil fungsi berikut:\n",
    "\n",
    "- int() - untuk konversi data ke integer\n",
    "- float() - untuk konversi data ke float\n",
    "- bool() - untuk konversi data ke bool\n",
    "- str() - untuk konversi data string (sebagian orang menyebutkan bahwa string adalah tipe data primitif pada python)\n",
    "\n",
    "Dan untuk tipe data lain yang tergolong tipe data canggih (atau buatan), kita juga bisa memanggil masing-masing konstruktornya untuk melakukan tipe data casting, semisal:\n",
    "\n",
    "- list() - untuk list\n",
    "- set() - untuk set\n",
    "- tuple() - untuk tuple"
   ]
  },
  {
   "cell_type": "markdown",
   "metadata": {},
   "source": [
    "String ke Numerik\n",
    "\n",
    "Mari kita mencoba mengkonversi string ke numerik dengan memperbaiki kode program di bawah ini:"
   ]
  },
  {
   "cell_type": "code",
   "execution_count": 6,
   "metadata": {},
   "outputs": [
    {
     "ename": "TypeError",
     "evalue": "can't multiply sequence by non-int of type 'str'",
     "output_type": "error",
     "traceback": [
      "\u001b[1;31m---------------------------------------------------------------------------\u001b[0m",
      "\u001b[1;31mTypeError\u001b[0m                                 Traceback (most recent call last)",
      "\u001b[1;32mHardhiyan\\Python-Note\\B. Input & Output\\Casting.ipynb Cell 14'\u001b[0m in \u001b[0;36m<cell line: 6>\u001b[1;34m()\u001b[0m\n\u001b[0;32m      <a href='vscode-notebook-cell://github/Hardhiyan/Python-Note/B.%20Input%20%26%20Output/Casting.ipynb#ch0000013vscode-vfs?line=2'>3</a>\u001b[0m panjang \u001b[39m=\u001b[39m \u001b[39minput\u001b[39m(\u001b[39m'\u001b[39m\u001b[39mMasukkan panjang: \u001b[39m\u001b[39m'\u001b[39m)\n\u001b[0;32m      <a href='vscode-notebook-cell://github/Hardhiyan/Python-Note/B.%20Input%20%26%20Output/Casting.ipynb#ch0000013vscode-vfs?line=3'>4</a>\u001b[0m lebar \u001b[39m=\u001b[39m \u001b[39minput\u001b[39m(\u001b[39m'\u001b[39m\u001b[39mMasukkan lebar: \u001b[39m\u001b[39m'\u001b[39m)\n\u001b[1;32m----> <a href='vscode-notebook-cell://github/Hardhiyan/Python-Note/B.%20Input%20%26%20Output/Casting.ipynb#ch0000013vscode-vfs?line=5'>6</a>\u001b[0m \u001b[39mprint\u001b[39m(\u001b[39m'\u001b[39m\u001b[39mLuas =\u001b[39m\u001b[39m'\u001b[39m, panjang \u001b[39m*\u001b[39;49m lebar)\n",
      "\u001b[1;31mTypeError\u001b[0m: can't multiply sequence by non-int of type 'str'"
     ]
    }
   ],
   "source": [
    "#Ini akan menghasilkan Error dikarenakan kita tidak bisa 'mengalikan' string dengan string secara langsung\n",
    "\n",
    "panjang = input('Masukkan panjang: ')\n",
    "lebar = input('Masukkan lebar: ')\n",
    "\n",
    "print('Luas =', panjang * lebar)"
   ]
  },
  {
   "cell_type": "markdown",
   "metadata": {},
   "source": [
    "Yang harus kita lakukan adalah mengkonversinya terlebih dahulu, entah ke integer menggunakan fungsi int(), atau ke float menggunakan fungsi float()."
   ]
  },
  {
   "cell_type": "code",
   "execution_count": 10,
   "metadata": {},
   "outputs": [
    {
     "name": "stdout",
     "output_type": "stream",
     "text": [
      "Luas = 1089\n"
     ]
    }
   ],
   "source": [
    "panjang = int(input('Masukkan panjang: '))\n",
    "lebar = float(input('Masukkan lebar: '))\n",
    "\n",
    "print('Luas =', int(panjang * lebar)) #Integer bisa diganti dengan float atau sebaliknya"
   ]
  },
  {
   "cell_type": "markdown",
   "metadata": {},
   "source": [
    "Numerik ke String\n",
    "\n",
    "Sebaliknya, pada saat-saat tertentu kita justru butuh untuk mengkonversi data numerik ke dalam string. Kita bisa dengan mudah menggunakan fungsi konstruktor str()."
   ]
  },
  {
   "cell_type": "code",
   "execution_count": 12,
   "metadata": {},
   "outputs": [
    {
     "name": "stdout",
     "output_type": "stream",
     "text": [
      "Wudi lahir di tahun 2000\n"
     ]
    }
   ],
   "source": [
    "nama = 'Wudi'\n",
    "tahun_lahir = 2000\n",
    "\n",
    "print(nama + ' lahir di tahun ' + str(tahun_lahir)) #akan error jika kita tidak mengubahnya mnjadi string \n",
    "\n",
    "#Karena proses penggabungan string hanya bisa dilakukan oleh 2 buah string, \n",
    "#jika salah satunya numeric (integer / float) maka harus dikonversi terlebih dahulu.\n",
    "\n",
    "#Lebih lanjutnya bisa dibuka manipulasi string "
   ]
  },
  {
   "cell_type": "markdown",
   "metadata": {},
   "source": [
    "Konversi ke Boolean\n",
    "Kita bisa melakukan konversi ke boolean dengan menggunakan fungsi bool().\n",
    "\n",
    "Data yang bernilai “putih” atau kosong akan dianggap dan dikonversi sebagai False, sebaliknya data yang bernilai “hitam” atau tidak kosong akan dianggap dan dikonversi menjadi True."
   ]
  },
  {
   "cell_type": "markdown",
   "metadata": {},
   "source": [
    "Di antara data yang dianggap False:\n",
    "\n",
    "None - kosong\n",
    "\n",
    "0 - integer kosong\n",
    "\n",
    "0.0 - float kosong\n",
    "\n",
    "\"\" - string kosong\n",
    "\n",
    "[] - list kosong\n",
    "\n",
    "() - tuple kosong\n",
    "\n",
    "{} - dictionary kosong\n",
    "\n",
    "Selain dari itu, data-data yang tidak “putih” akan dianggap sebagai True."
   ]
  },
  {
   "cell_type": "code",
   "execution_count": 13,
   "metadata": {},
   "outputs": [
    {
     "name": "stdout",
     "output_type": "stream",
     "text": [
      "<class 'NoneType'> -> False\n",
      "<class 'int'> -> False\n",
      "<class 'float'> -> False\n",
      "<class 'str'> -> False\n",
      "<class 'list'> -> False\n",
      "<class 'tuple'> -> False\n",
      "<class 'dict'> -> False\n",
      "--------------------\n",
      "<class 'int'> -> True\n",
      "<class 'float'> -> True\n",
      "<class 'str'> -> True\n",
      "<class 'list'> -> True\n",
      "<class 'tuple'> -> True\n",
      "<class 'dict'> -> True\n"
     ]
    }
   ],
   "source": [
    "print(type(None), '->', bool(None))\n",
    "print(type(0), '->', bool(0))\n",
    "print(type(0.0), '->', bool(0.0))\n",
    "print(type(\"\"), '->', bool(\"\"))\n",
    "print(type([]), '->', bool([]))\n",
    "print(type(()), '->', bool(()))\n",
    "print(type({}), '->', bool({}))\n",
    "\n",
    "print(\"-\" * 20)\n",
    "\n",
    "print(type(5), '->', bool(5))\n",
    "print(type(-14.5), '->', bool(-14.5))\n",
    "print(type(\"Aku\"), '->', bool(\"Aku\"))\n",
    "print(type([1, 2, 3]), '->', bool([1, 2, 3]))\n",
    "print(type((\"a\", \"b\", False)), '->', bool((\"a\", \"b\", False)))\n",
    "print(type({ 'nama': 'Lendis Fabri' }), '->', bool({ 'nama': 'Lendis Fabri' }))"
   ]
  },
  {
   "cell_type": "markdown",
   "metadata": {},
   "source": [
    "Konversi Dari dan Ke List, Set dan Tuple\n",
    "\n",
    "Untuk tipe data berjenis koleksi, kita juga bisa melakukan konversi satu sama lain dengan fungsi konstruktor dari masing-masing tipe data:\n",
    "\n",
    "fungsi list() untuk list\n",
    "\n",
    "fungsi set() untuk set\n",
    "\n",
    "fungsi tuple() untuk tuple\n"
   ]
  }
 ],
 "metadata": {
  "kernelspec": {
   "display_name": "Python 3.10.4 64-bit",
   "language": "python",
   "name": "python3"
  },
  "language_info": {
   "codemirror_mode": {
    "name": "ipython",
    "version": 3
   },
   "file_extension": ".py",
   "mimetype": "text/x-python",
   "name": "python",
   "nbconvert_exporter": "python",
   "pygments_lexer": "ipython3",
   "version": "3.10.4"
  },
  "orig_nbformat": 4,
  "vscode": {
   "interpreter": {
    "hash": "48ec332f34da26a12a31a27950beb3623cfc914f965794f492d93a6b4d71cf89"
   }
  }
 },
 "nbformat": 4,
 "nbformat_minor": 2
}
