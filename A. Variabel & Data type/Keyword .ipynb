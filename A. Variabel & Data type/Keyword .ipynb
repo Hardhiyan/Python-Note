{
 "cells": [],
 "metadata": {
  "kernelspec": {
   "display_name": "Python 3.10.4 64-bit",
   "language": "python",
   "name": "python3"
  },
  "language_info": {
   "codemirror_mode": {
    "name": "ipython",
    "version": 3
   },
   "file_extension": ".py",
   "mimetype": "text/x-python",
   "name": "python",
   "nbconvert_exporter": "python",
   "pygments_lexer": "ipython3",
   "version": "3.10.4"
  },
  "orig_nbformat": 4,
  "vscode": {
   "interpreter": {
    "hash": "48ec332f34da26a12a31a27950beb3623cfc914f965794f492d93a6b4d71cf89"
   }
  }
 },
 "nbformat": 4,
 "nbformat_minor": 2
}
