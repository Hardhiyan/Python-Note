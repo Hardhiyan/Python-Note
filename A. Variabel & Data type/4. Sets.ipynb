{
 "cells": [
  {
   "cell_type": "code",
   "execution_count": 44,
   "id": "0e2fafab",
   "metadata": {},
   "outputs": [
    {
     "name": "stdout",
     "output_type": "stream",
     "text": [
      "{'Basith', 'Lendis', 'Huda', 'Wahid'}\n",
      "{'apel', 'mangga'}\n",
      "{True, ('A', 'B'), 5, 'hewan', 'manusia'}\n"
     ]
    }
   ],
   "source": [
    "# menggunakan kurung kurawal\n",
    "himpunan_siswa = {'Huda', 'Lendis', 'Wahid', 'Basith'}\n",
    "print(himpunan_siswa)\n",
    "\n",
    "# mengkonversi list ke dalam set\n",
    "himpunan_buah = set(['mangga', 'apel'])\n",
    "print(himpunan_buah)\n",
    "\n",
    "# set dengan tipe data yang berbeda-beda\n",
    "set_campuran = {'manusia', 'hewan', 5, True, ('A', 'B')}\n",
    "print(set_campuran)"
   ]
  },
  {
   "cell_type": "code",
   "execution_count": 45,
   "id": "8a429d1c",
   "metadata": {},
   "outputs": [
    {
     "name": "stdout",
     "output_type": "stream",
     "text": [
      "{'Basith', 'Lendis', 'Huda', 'Wahid'}\n"
     ]
    }
   ],
   "source": [
    "#Bukti bahwa Sets tidak berurut\n",
    "\n",
    "himpunan_siswa = {'Huda', 'Lendis', 'Wahid', 'Basith'}\n",
    "print(himpunan_siswa)"
   ]
  },
  {
   "cell_type": "code",
   "execution_count": 46,
   "id": "fda5a77c",
   "metadata": {},
   "outputs": [
    {
     "ename": "TypeError",
     "evalue": "'set' object is not subscriptable",
     "output_type": "error",
     "traceback": [
      "\u001b[1;31m---------------------------------------------------------------------------\u001b[0m",
      "\u001b[1;31mTypeError\u001b[0m                                 Traceback (most recent call last)",
      "\u001b[1;32mzhathy20\\Python-Note\\Data Structure\\06 Sets Structure.ipynb Cell 3'\u001b[0m in \u001b[0;36m<cell line: 3>\u001b[1;34m()\u001b[0m\n\u001b[0;32m      <a href='vscode-notebook-cell://github/zhathy20/Python-Note/Data%20Structure/06%20Sets%20Structure.ipynb#ch0000002vscode-vfs?line=0'>1</a>\u001b[0m \u001b[39m#Sets tidak bisa diakses menggunakan 'Indeks', karena itulah Sets tidak berurut\u001b[39;00m\n\u001b[0;32m      <a href='vscode-notebook-cell://github/zhathy20/Python-Note/Data%20Structure/06%20Sets%20Structure.ipynb#ch0000002vscode-vfs?line=1'>2</a>\u001b[0m set_ku \u001b[39m=\u001b[39m {\u001b[39m'\u001b[39m\u001b[39ma\u001b[39m\u001b[39m'\u001b[39m}\n\u001b[1;32m----> <a href='vscode-notebook-cell://github/zhathy20/Python-Note/Data%20Structure/06%20Sets%20Structure.ipynb#ch0000002vscode-vfs?line=2'>3</a>\u001b[0m \u001b[39mprint\u001b[39m(set_ku[\u001b[39m0\u001b[39;49m])\n",
      "\u001b[1;31mTypeError\u001b[0m: 'set' object is not subscriptable"
     ]
    }
   ],
   "source": [
    "#Sets tidak bisa diakses menggunakan 'Indeks', karena itulah Sets tidak berurut\n",
    "\n",
    "set_ku = {'a'}\n",
    "print(set_ku[0])"
   ]
  },
  {
   "cell_type": "code",
   "execution_count": null,
   "id": "18f81212",
   "metadata": {},
   "outputs": [
    {
     "name": "stdout",
     "output_type": "stream",
     "text": [
      "{True, 2, 3, 'lemon', 'alpukat', 'mangga'}\n",
      "{0, (7, 8, 9), (1, 2, 3), (4, 5, 6)}\n"
     ]
    }
   ],
   "source": [
    "# anggota set harus dari tipe data yang immutable\n",
    "set_buah = { 'mangga', 'lemon', 'alpukat', True, 1, 2, 3 }\n",
    "\n",
    "# kita bisa menjadikan tuple sebagai anggota\n",
    "# karena ia bersifat immutable\n",
    "papan_ketik = {\n",
    "  (1, 2, 3),\n",
    "  (4, 5, 6),\n",
    "  (7, 8, 9),\n",
    "  (0)\n",
    "}\n",
    "\n",
    "print(set_buah)\n",
    "print(papan_ketik)"
   ]
  },
  {
   "cell_type": "code",
   "execution_count": null,
   "id": "7244238a",
   "metadata": {},
   "outputs": [
    {
     "ename": "TypeError",
     "evalue": "unhashable type: 'list'",
     "output_type": "error",
     "traceback": [
      "\u001b[1;31m---------------------------------------------------------------------------\u001b[0m",
      "\u001b[1;31mTypeError\u001b[0m                                 Traceback (most recent call last)",
      "\u001b[1;32mzhathy20\\Python-Note\\Data Structure\\06 Sets Structure.ipynb Cell 6'\u001b[0m in \u001b[0;36m<cell line: 2>\u001b[1;34m()\u001b[0m\n\u001b[0;32m      <a href='vscode-notebook-cell://github/zhathy20/Python-Note/Data%20Structure/06%20Sets%20Structure.ipynb#ch0000005vscode-vfs?line=0'>1</a>\u001b[0m \u001b[39m#Berbeda dengan List yang bersifat Muuteable\u001b[39;00m\n\u001b[1;32m----> <a href='vscode-notebook-cell://github/zhathy20/Python-Note/Data%20Structure/06%20Sets%20Structure.ipynb#ch0000005vscode-vfs?line=1'>2</a>\u001b[0m x \u001b[39m=\u001b[39m { \u001b[39m35\u001b[39m, \u001b[39m100\u001b[39m, [\u001b[39m'\u001b[39m\u001b[39ma\u001b[39m\u001b[39m'\u001b[39m, \u001b[39m'\u001b[39m\u001b[39mb\u001b[39m\u001b[39m'\u001b[39m] }\n",
      "\u001b[1;31mTypeError\u001b[0m: unhashable type: 'list'"
     ]
    }
   ],
   "source": [
    "#Berbeda dengan List yang bersifat Muuteable\n",
    "x = { 35, 100, ['a', 'b'] }"
   ]
  },
  {
   "cell_type": "code",
   "execution_count": null,
   "id": "9edaad03",
   "metadata": {},
   "outputs": [
    {
     "name": "stdout",
     "output_type": "stream",
     "text": [
      "['pagi', 'ini', 'adalah', 'pagi', 'yang', 'sangat', 'cerah']\n"
     ]
    }
   ],
   "source": [
    "list_kata = [\n",
    "  'pagi', 'ini', 'adalah', 'pagi', 'yang',\n",
    "  'sangat', 'cerah'\n",
    "]\n",
    "\n",
    "print(list_kata)"
   ]
  },
  {
   "cell_type": "code",
   "execution_count": null,
   "id": "0c0e1c16",
   "metadata": {},
   "outputs": [
    {
     "name": "stdout",
     "output_type": "stream",
     "text": [
      "{'sangat', 'ini', 'adalah', 'yang', 'cerah', 'pagi'}\n"
     ]
    }
   ],
   "source": [
    "kata_unik = {\n",
    "  'pagi', 'ini', 'adalah', 'pagi', 'yang',\n",
    "  'sangat', 'cerah'\n",
    "}\n",
    "\n",
    "# atau bisa langsung konversi list_kata menjadi set\n",
    "# supaya lebih ringkas:\n",
    "# kata_unik = set(list_kata)\n",
    "\n",
    "print(kata_unik)"
   ]
  },
  {
   "cell_type": "code",
   "execution_count": null,
   "id": "47bf87d0",
   "metadata": {},
   "outputs": [
    {
     "name": "stdout",
     "output_type": "stream",
     "text": [
      "{'a', 'b', 'c'}\n",
      "{'e', 'c', 'a', 'h', 'i', 'g', 'b', 'd', 'f'}\n"
     ]
    }
   ],
   "source": [
    "himpunan_abjad = {'a', 'b', 'c'}\n",
    "print(himpunan_abjad)\n",
    "\n",
    "# menambah satu-satu\n",
    "himpunan_abjad.add('d')\n",
    "himpunan_abjad.add('e')\n",
    "\n",
    "# menambah lebih dari satu anggota sekaligus\n",
    "himpunan_abjad.update({ 'f', 'g' })\n",
    "# bisa juga pakai list\n",
    "himpunan_abjad.update(['h', 'i'])\n",
    "\n",
    "print(himpunan_abjad)"
   ]
  },
  {
   "cell_type": "code",
   "execution_count": null,
   "id": "8320c0d7",
   "metadata": {},
   "outputs": [
    {
     "name": "stdout",
     "output_type": "stream",
     "text": [
      "{False, True, ('a', 'b'), 100, 'maya', 'budi'}\n"
     ]
    }
   ],
   "source": [
    "himpunan = {'maya', 'budi', 100, ('a', 'b'), False, True}\n",
    "print(himpunan)"
   ]
  },
  {
   "cell_type": "code",
   "execution_count": null,
   "id": "48cd1bfe",
   "metadata": {},
   "outputs": [
    {
     "name": "stdout",
     "output_type": "stream",
     "text": [
      "{False, True, ('a', 'b'), 'maya', 'budi'}\n"
     ]
    }
   ],
   "source": [
    "# akan error jika nilai 100 tidak ada di dalam set\n",
    "himpunan.remove(100)\n",
    "print(himpunan)"
   ]
  },
  {
   "cell_type": "code",
   "execution_count": null,
   "id": "dbf4265b",
   "metadata": {},
   "outputs": [
    {
     "ename": "KeyError",
     "evalue": "100",
     "output_type": "error",
     "traceback": [
      "\u001b[1;31m---------------------------------------------------------------------------\u001b[0m",
      "\u001b[1;31mKeyError\u001b[0m                                  Traceback (most recent call last)",
      "\u001b[1;32mzhathy20\\Python-Note\\Data Structure\\06 Sets Structure.ipynb Cell 11'\u001b[0m in \u001b[0;36m<cell line: 2>\u001b[1;34m()\u001b[0m\n\u001b[0;32m      <a href='vscode-notebook-cell://github/zhathy20/Python-Note/Data%20Structure/06%20Sets%20Structure.ipynb#ch0000010vscode-vfs?line=0'>1</a>\u001b[0m \u001b[39m# akan error jika nilai 100 tidak ada di dalam set\u001b[39;00m\n\u001b[1;32m----> <a href='vscode-notebook-cell://github/zhathy20/Python-Note/Data%20Structure/06%20Sets%20Structure.ipynb#ch0000010vscode-vfs?line=1'>2</a>\u001b[0m himpunan\u001b[39m.\u001b[39;49mremove(\u001b[39m100\u001b[39;49m)\n\u001b[0;32m      <a href='vscode-notebook-cell://github/zhathy20/Python-Note/Data%20Structure/06%20Sets%20Structure.ipynb#ch0000010vscode-vfs?line=2'>3</a>\u001b[0m \u001b[39mprint\u001b[39m(himpunan)\n",
      "\u001b[1;31mKeyError\u001b[0m: 100"
     ]
    }
   ],
   "source": [
    "# akan error jika nilai 100 tidak ada di dalam set\n",
    "himpunan.remove(100)\n",
    "print(himpunan)"
   ]
  },
  {
   "cell_type": "code",
   "execution_count": null,
   "id": "2c5a3959",
   "metadata": {},
   "outputs": [
    {
     "name": "stdout",
     "output_type": "stream",
     "text": [
      "{False, True, 'maya', 'budi'}\n"
     ]
    }
   ],
   "source": [
    "# tidak akan error jika ('a', 'b') tidak ada di dalam set\n",
    "himpunan.discard(('a', 'b'))\n",
    "print(himpunan)"
   ]
  },
  {
   "cell_type": "code",
   "execution_count": null,
   "id": "2625ead4",
   "metadata": {},
   "outputs": [
    {
     "name": "stdout",
     "output_type": "stream",
     "text": [
      "nilaiYangDihapus = False\n",
      "{True, 'maya', 'budi'}\n"
     ]
    }
   ],
   "source": [
    "# remove nilai yang ada di sebelah kiri\n",
    "nilaiYangDihapus = himpunan.pop()\n",
    "print('nilaiYangDihapus =', nilaiYangDihapus)\n",
    "print(himpunan)"
   ]
  },
  {
   "cell_type": "code",
   "execution_count": null,
   "id": "f2767836",
   "metadata": {},
   "outputs": [],
   "source": [
    "# hapus semua nilai\n",
    "himpunan.clear()\n",
    "#print(himpunan)"
   ]
  },
  {
   "cell_type": "code",
   "execution_count": null,
   "id": "c8b56b57",
   "metadata": {},
   "outputs": [
    {
     "name": "stdout",
     "output_type": "stream",
     "text": [
      "{'andi', 'ratna', 'budi', 'sari'}\n",
      "{'andi', 'putri', 'ratna', 'agus'}\n"
     ]
    }
   ],
   "source": [
    "#Keanggotaan pada Python\n",
    "\n",
    "grup_smp = {'andi', 'budi', 'ratna', 'sari'}\n",
    "\n",
    "grup_sma = {'putri', 'ratna', 'andi', 'agus'}\n",
    "\n",
    "print(grup_smp)\n",
    "print(grup_sma)"
   ]
  },
  {
   "cell_type": "code",
   "execution_count": null,
   "id": "73f037af",
   "metadata": {},
   "outputs": [
    {
     "name": "stdout",
     "output_type": "stream",
     "text": [
      "{'sari', 'ratna', 'andi', 'putri', 'budi', 'agus'}\n"
     ]
    }
   ],
   "source": [
    "# cara 1\n",
    "print(grup_smp | grup_sma)"
   ]
  },
  {
   "cell_type": "code",
   "execution_count": null,
   "id": "49531b54",
   "metadata": {},
   "outputs": [
    {
     "name": "stdout",
     "output_type": "stream",
     "text": [
      "{'sari', 'ratna', 'andi', 'putri', 'budi', 'agus'}\n"
     ]
    }
   ],
   "source": [
    "# cara 2\n",
    "print(grup_smp.union(grup_sma))"
   ]
  },
  {
   "cell_type": "code",
   "execution_count": null,
   "id": "947e20e0",
   "metadata": {},
   "outputs": [
    {
     "name": "stdout",
     "output_type": "stream",
     "text": [
      "{1, 2, 3, 4, 5}\n",
      "{4, 5, 6, 7, 8}\n"
     ]
    }
   ],
   "source": [
    "# Membuat set A and B \n",
    "A = {1, 2, 3, 4, 5} \n",
    "B = {4, 5, 6, 7, 8}\n",
    "\n",
    "print(A)\n",
    "print(B)"
   ]
  },
  {
   "cell_type": "code",
   "execution_count": null,
   "id": "ae2d3d9c",
   "metadata": {},
   "outputs": [
    {
     "name": "stdout",
     "output_type": "stream",
     "text": [
      "{1, 2, 3, 4, 5, 6, 7, 8}\n"
     ]
    }
   ],
   "source": [
    "# Gabungan menggunakan operator | palang\n",
    "# output: {1, 2, 3, 4, 5, 6, 7, 8} \n",
    "print(A | B) "
   ]
  },
  {
   "cell_type": "code",
   "execution_count": null,
   "id": "51fbf6cf",
   "metadata": {},
   "outputs": [
    {
     "name": "stdout",
     "output_type": "stream",
     "text": [
      "{1, 2, 3, 4, 5}\n",
      "{4, 5, 6, 7, 8}\n"
     ]
    }
   ],
   "source": [
    "# Membuat set A and B \n",
    "C = {1, 2, 3, 4, 5} \n",
    "D = {4, 5, 6, 7, 8}\n",
    "\n",
    "print(C)\n",
    "print(D)"
   ]
  },
  {
   "cell_type": "code",
   "execution_count": null,
   "id": "2b48a9d0",
   "metadata": {},
   "outputs": [
    {
     "data": {
      "text/plain": [
       "{1, 2, 3, 4, 5, 6, 7, 8}"
      ]
     },
     "execution_count": 25,
     "metadata": {},
     "output_type": "execute_result"
    }
   ],
   "source": [
    "# Menggunakan fungsi union() \n",
    "# output: {1, 2, 3, 4, 5, 6, 7, 8} \n",
    "C.union(D) "
   ]
  },
  {
   "cell_type": "code",
   "execution_count": null,
   "id": "f6512e93",
   "metadata": {},
   "outputs": [
    {
     "name": "stdout",
     "output_type": "stream",
     "text": [
      "{'andi', 'ratna'}\n"
     ]
    }
   ],
   "source": [
    "print(grup_smp & grup_sma) # cara 1"
   ]
  },
  {
   "cell_type": "code",
   "execution_count": null,
   "id": "697e1320",
   "metadata": {},
   "outputs": [
    {
     "name": "stdout",
     "output_type": "stream",
     "text": [
      "{'andi', 'ratna'}\n"
     ]
    }
   ],
   "source": [
    "print(grup_smp.intersection(grup_sma)) # cara 2"
   ]
  },
  {
   "cell_type": "code",
   "execution_count": null,
   "id": "b4321eb8",
   "metadata": {},
   "outputs": [
    {
     "name": "stdout",
     "output_type": "stream",
     "text": [
      "{1, 2, 3, 4, 5}\n",
      "{4, 5, 6, 7, 8}\n"
     ]
    }
   ],
   "source": [
    "# Membuat set A and B \n",
    "A = {1, 2, 3, 4, 5} \n",
    "B = {4, 5, 6, 7, 8} \n",
    "\n",
    "print(A)\n",
    "print(B)"
   ]
  },
  {
   "cell_type": "code",
   "execution_count": null,
   "id": "4a595de5",
   "metadata": {},
   "outputs": [
    {
     "name": "stdout",
     "output_type": "stream",
     "text": [
      "{4, 5}\n"
     ]
    }
   ],
   "source": [
    "# Irisan menggunakan operator & \n",
    "# output: {4,5} \n",
    "print(A & B) "
   ]
  },
  {
   "cell_type": "code",
   "execution_count": null,
   "id": "6c6d3fc4",
   "metadata": {},
   "outputs": [
    {
     "data": {
      "text/plain": [
       "{4, 5}"
      ]
     },
     "execution_count": 30,
     "metadata": {},
     "output_type": "execute_result"
    }
   ],
   "source": [
    "# Menggunakan fungsi intersection() \n",
    "# output: {4,5} \n",
    "A.intersection(B) "
   ]
  },
  {
   "cell_type": "code",
   "execution_count": null,
   "id": "2fae51d4",
   "metadata": {},
   "outputs": [
    {
     "name": "stdout",
     "output_type": "stream",
     "text": [
      "\n",
      "anggota grup smp yang bukan anggota grup sma\n",
      "{'budi', 'sari'}\n",
      "{'budi', 'sari'}\n"
     ]
    }
   ],
   "source": [
    "# difference\n",
    "print('\\nanggota grup smp yang bukan anggota grup sma')\n",
    "print(grup_smp - grup_sma)\n",
    "print(grup_smp.difference(grup_sma))"
   ]
  },
  {
   "cell_type": "code",
   "execution_count": null,
   "id": "0a0eba55",
   "metadata": {},
   "outputs": [
    {
     "name": "stdout",
     "output_type": "stream",
     "text": [
      "\n",
      "dibalik, anggota grup sma yang bukan anggota grup smp:\n",
      "{'agus', 'putri'}\n",
      "{'agus', 'putri'}\n"
     ]
    }
   ],
   "source": [
    "print('\\ndibalik, anggota grup sma yang bukan anggota grup smp:')\n",
    "print(grup_sma - grup_smp)\n",
    "print(grup_sma.difference(grup_smp))"
   ]
  },
  {
   "cell_type": "code",
   "execution_count": null,
   "id": "2bd2bc7e",
   "metadata": {},
   "outputs": [
    {
     "name": "stdout",
     "output_type": "stream",
     "text": [
      "\n",
      "anggota yang hanya ikut satu grup saja:\n",
      "{'sari', 'putri', 'budi', 'agus'}\n"
     ]
    }
   ],
   "source": [
    "# symmetric_difference\n",
    "print('\\nanggota yang hanya ikut satu grup saja:')\n",
    "print(grup_sma.symmetric_difference(grup_smp))"
   ]
  },
  {
   "cell_type": "code",
   "execution_count": null,
   "id": "60909ea5",
   "metadata": {},
   "outputs": [
    {
     "name": "stdout",
     "output_type": "stream",
     "text": [
      "{1, 2, 3, 4, 5}\n",
      "{4, 5, 6, 7, 8}\n"
     ]
    }
   ],
   "source": [
    "# membuat A and B \n",
    "A = {1, 2, 3, 4, 5} \n",
    "B = {4, 5, 6, 7, 8} \n",
    "\n",
    "print(A)\n",
    "print(B)"
   ]
  },
  {
   "cell_type": "code",
   "execution_count": null,
   "id": "2078a1a8",
   "metadata": {},
   "outputs": [
    {
     "name": "stdout",
     "output_type": "stream",
     "text": [
      "{1, 2, 3}\n"
     ]
    }
   ],
   "source": [
    "# Menggunakan operator - pada A \n",
    "# Output: {1, 2, 3} \n",
    "print(A - B) "
   ]
  },
  {
   "cell_type": "code",
   "execution_count": null,
   "id": "3c053bfc",
   "metadata": {},
   "outputs": [
    {
     "data": {
      "text/plain": [
       "{1, 2, 3}"
      ]
     },
     "execution_count": 36,
     "metadata": {},
     "output_type": "execute_result"
    }
   ],
   "source": [
    "# Output: {1, 2, 3} \n",
    "A.difference(B) "
   ]
  },
  {
   "cell_type": "code",
   "execution_count": null,
   "id": "70cfd53d",
   "metadata": {},
   "outputs": [
    {
     "name": "stdout",
     "output_type": "stream",
     "text": [
      "{8, 6, 7}\n"
     ]
    }
   ],
   "source": [
    "# Menggunakan operator - pada B \n",
    "# Output: {8, 6, 7} \n",
    "print(B - A) "
   ]
  },
  {
   "cell_type": "code",
   "execution_count": null,
   "id": "dc7027a0",
   "metadata": {},
   "outputs": [
    {
     "data": {
      "text/plain": [
       "{6, 7, 8}"
      ]
     },
     "execution_count": 38,
     "metadata": {},
     "output_type": "execute_result"
    }
   ],
   "source": [
    "# Output: {8, 6, 7} \n",
    "B.difference(A)\n",
    "\n",
    "#Kok jadi acak ya? ya karna Sets tidak terurut"
   ]
  },
  {
   "cell_type": "code",
   "execution_count": null,
   "id": "1267314b",
   "metadata": {},
   "outputs": [
    {
     "name": "stdout",
     "output_type": "stream",
     "text": [
      "{1, 2, 3, 4, 5}\n",
      "{4, 5, 6, 7, 8}\n"
     ]
    }
   ],
   "source": [
    "# membuat A and B \n",
    "A = {1, 2, 3, 4, 5} \n",
    "B = {4, 5, 6, 7, 8} \n",
    "\n",
    "print(A)\n",
    "print(B)"
   ]
  },
  {
   "cell_type": "code",
   "execution_count": null,
   "id": "bb512bf9",
   "metadata": {},
   "outputs": [
    {
     "name": "stdout",
     "output_type": "stream",
     "text": [
      "{1, 2, 3, 6, 7, 8}\n"
     ]
    }
   ],
   "source": [
    "# Menggunakan operator ^ pada A \n",
    "# Output: {1, 2, 3, 6, 7, 8} \n",
    "print(A ^ B) "
   ]
  },
  {
   "cell_type": "code",
   "execution_count": null,
   "id": "86b8b786",
   "metadata": {},
   "outputs": [
    {
     "data": {
      "text/plain": [
       "{1, 2, 3, 6, 7, 8}"
      ]
     },
     "execution_count": 41,
     "metadata": {},
     "output_type": "execute_result"
    }
   ],
   "source": [
    "# Output: {1, 2, 3, 6, 7, 8} \n",
    "A.symmetric_difference(B) "
   ]
  },
  {
   "cell_type": "code",
   "execution_count": null,
   "id": "45341026",
   "metadata": {},
   "outputs": [
    {
     "name": "stdout",
     "output_type": "stream",
     "text": [
      "{1, 2, 3, 6, 7, 8}\n"
     ]
    }
   ],
   "source": [
    "# Menggunakan operator ^ pada B \n",
    "# Output: {1, 2, 3, 6, 7, 8} \n",
    "print(B ^ A) "
   ]
  },
  {
   "cell_type": "code",
   "execution_count": null,
   "id": "c802edf2",
   "metadata": {},
   "outputs": [
    {
     "data": {
      "text/plain": [
       "{1, 2, 3, 6, 7, 8}"
      ]
     },
     "execution_count": 43,
     "metadata": {},
     "output_type": "execute_result"
    }
   ],
   "source": [
    "# Output: {1, 2, 3, 6, 7, 8} \n",
    "B.symmetric_difference(A) "
   ]
  }
 ],
 "metadata": {
  "kernelspec": {
   "display_name": "Python 3.9.12 ('base')",
   "language": "python",
   "name": "python3"
  },
  "language_info": {
   "codemirror_mode": {
    "name": "ipython",
    "version": 3
   },
   "file_extension": ".py",
   "mimetype": "text/x-python",
   "name": "python",
   "nbconvert_exporter": "python",
   "pygments_lexer": "ipython3",
   "version": "3.9.12"
  },
  "vscode": {
   "interpreter": {
    "hash": "fe087a48aed1072ae97c1a59fe03ae759e22e8e25f54db6aadaa73caa8b774a1"
   }
  }
 },
 "nbformat": 4,
 "nbformat_minor": 5
}
