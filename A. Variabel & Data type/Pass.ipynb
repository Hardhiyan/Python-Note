{
 "cells": [
  {
   "cell_type": "markdown",
   "metadata": {},
   "source": [
    "PASS"
   ]
  },
  {
   "cell_type": "markdown",
   "metadata": {},
   "source": [
    "Kata kunci pass adalah sebuah statemen pada python yang tidak memiliki tugas apa pun. Tidak menginstruksi sistem untuk melakukan satu hal pun. Ia ada, tapi keberadaannya seolah tidak ada.\n",
    "\n",
    "Statemen pass berguna sebagai placeholder untuk suatu fungsi atau suatu class yang belum kita implementasikan secara nyata.\n",
    "\n",
    "Contoh: kita ingin membuat 3 buah fungsi tapi kita masih belum ingin menuliskan semua kode programnya, maka kita bisa memanfaatkan statemen pass.\n",
    "\n",
    "Sintaks pass hanyalah pass. <PASS>\n",
    "\n",
    "Statemen pass bisa kita taruh dalam beberapa tempat,"
   ]
  },
  {
   "cell_type": "code",
   "execution_count": null,
   "metadata": {},
   "outputs": [],
   "source": [
    "#Perulangan\n",
    "\n",
    "for i in range(5):\n",
    "  pass"
   ]
  },
  {
   "cell_type": "code",
   "execution_count": null,
   "metadata": {},
   "outputs": [],
   "source": [
    "#Kita juga bisa meletakkannya di dalam sebuah class:\n",
    "\n",
    "class Contoh:\n",
    "  pass"
   ]
  },
  {
   "cell_type": "code",
   "execution_count": null,
   "metadata": {},
   "outputs": [],
   "source": [
    "#Fungsi\n",
    "\n",
    "def hitung_luas_lingkaran(diameter):\n",
    "  pass"
   ]
  },
  {
   "cell_type": "code",
   "execution_count": null,
   "metadata": {},
   "outputs": [],
   "source": [
    "#If-else\n",
    "\n",
    "if 5 > 2:\n",
    "  pass\n",
    "else:\n",
    "  pass"
   ]
  },
  {
   "cell_type": "code",
   "execution_count": null,
   "metadata": {},
   "outputs": [],
   "source": [
    "#Try-except\n",
    "\n",
    "try:\n",
    "  luas = 10 * '20'\n",
    "except:\n",
    "  pass"
   ]
  },
  {
   "cell_type": "markdown",
   "metadata": {},
   "source": [
    "Banyak blok kode dalam python yang tidak bisa kita biarkan kosong. Kalau kita biarkan kosong interpreter python akan memberikan sebuah error.\n",
    "\n",
    "Untuk mengatasinya, kita bisa meletakkan statemen pass sebagai badan blok kode.\n",
    "\n",
    "Dengan begitu blok kode tersebut tetap tidak melakukan apa-apa, tapi juga tidak menyebabkan error."
   ]
  }
 ],
 "metadata": {
  "kernelspec": {
   "display_name": "Python 3.10.4 64-bit",
   "language": "python",
   "name": "python3"
  },
  "language_info": {
   "name": "python",
   "version": "3.10.4"
  },
  "orig_nbformat": 4,
  "vscode": {
   "interpreter": {
    "hash": "48ec332f34da26a12a31a27950beb3623cfc914f965794f492d93a6b4d71cf89"
   }
  }
 },
 "nbformat": 4,
 "nbformat_minor": 2
}
