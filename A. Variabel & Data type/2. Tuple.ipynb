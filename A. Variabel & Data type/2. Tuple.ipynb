{
 "cells": [
  {
   "cell_type": "code",
   "execution_count": 4,
   "id": "4f5158ce",
   "metadata": {},
   "outputs": [
    {
     "name": "stdout",
     "output_type": "stream",
     "text": [
      "('laki-laki', 'perempuan')\n",
      "('menikah', 'lajang')\n",
      "('lulus', 'tidak lulus')\n"
     ]
    }
   ],
   "source": [
    "#TUPLE STRUCTURE\n",
    "\n",
    "# cara standar\n",
    "tuple_jenis_kelamin = ('laki-laki', 'perempuan')\n",
    "\n",
    "# tanpa kurung\n",
    "tuple_status_perkawinan = 'menikah', 'lajang'\n",
    "\n",
    "# menggunakan fungsi tuple()\n",
    "tuple_lulus = tuple(['lulus', 'tidak lulus'])\n",
    "\n",
    "print(tuple_jenis_kelamin)\n",
    "print(tuple_status_perkawinan)\n",
    "print(tuple_lulus)"
   ]
  },
  {
   "cell_type": "code",
   "execution_count": null,
   "id": "ba7b575c",
   "metadata": {},
   "outputs": [],
   "source": [
    "#Cara yang pertama adalah cara standar dan paling dasar\n",
    "#Cara yang kedua tanpa tanda kurung. Ini mungkin kelihatan agak aneh, tapi yang seperti ini normal di python 😏\n",
    "#Cara yang ketiga adalah dengan menggunakan fungsi tuple() dan melemparkan list sebagai parameternya."
   ]
  },
  {
   "cell_type": "code",
   "execution_count": 6,
   "id": "f78b8aa6",
   "metadata": {},
   "outputs": [
    {
     "name": "stdout",
     "output_type": "stream",
     "text": [
      "()\n"
     ]
    }
   ],
   "source": [
    "#Untuk membuat tuple kosong, kita cukup dengan menuliskan dua tanda kurung seperti berikut:\n",
    "\n",
    "tuple_kosong = ()\n",
    "\n",
    "print(tuple_kosong)"
   ]
  },
  {
   "cell_type": "code",
   "execution_count": 7,
   "id": "0cec35d4",
   "metadata": {},
   "outputs": [
    {
     "name": "stdout",
     "output_type": "stream",
     "text": [
      "(10,)\n"
     ]
    }
   ],
   "source": [
    "#Untuk mendefinisikan tuple yang hanya berisi SATU ITEM, kita tetap diharuskan menulis tanda koma.\n",
    "\n",
    "tuple_tunggal = (10,)\n",
    "\n",
    "print(tuple_tunggal)"
   ]
  },
  {
   "cell_type": "code",
   "execution_count": 9,
   "id": "5dcb857a",
   "metadata": {},
   "outputs": [
    {
     "name": "stdout",
     "output_type": "stream",
     "text": [
      "<class 'int'>\n",
      "<class 'tuple'>\n"
     ]
    }
   ],
   "source": [
    "#Karena jika tidak, maka python akan menganggap tanda kurungnya tidak ada dan hanya akan berupa Integer biasa dan bukan Tuple\n",
    "\n",
    "print(type((10))) # yang ini dianggap integer biasa\n",
    "print(type((10,))) # yang ini dianggap tuple"
   ]
  },
  {
   "cell_type": "code",
   "execution_count": 10,
   "id": "175752fc",
   "metadata": {},
   "outputs": [
    {
     "name": "stdout",
     "output_type": "stream",
     "text": [
      "perempuan\n",
      "laki-laki\n"
     ]
    }
   ],
   "source": [
    "#Indexing\n",
    "\n",
    "tuple_jenis_kelamin = ('laki-laki', 'perempuan')\n",
    "\n",
    "print(tuple_jenis_kelamin[1]) # indeks satu\n",
    "print(tuple_jenis_kelamin[0]) # indeks nol"
   ]
  },
  {
   "cell_type": "code",
   "execution_count": 11,
   "id": "2ed3e4f6",
   "metadata": {},
   "outputs": [
    {
     "name": "stdout",
     "output_type": "stream",
     "text": [
      "laki-laki\n",
      "perempuan\n"
     ]
    }
   ],
   "source": [
    "#Negative Index\n",
    "\n",
    "print(tuple_jenis_kelamin[-2])\n",
    "print(tuple_jenis_kelamin[-1])"
   ]
  },
  {
   "cell_type": "code",
   "execution_count": 12,
   "id": "953ff89f",
   "metadata": {},
   "outputs": [
    {
     "name": "stdout",
     "output_type": "stream",
     "text": [
      "('Pisang',)\n",
      "('Pisang', 'Nanas')\n",
      "('Nanas', 'Melon')\n",
      "('Pisang', 'Nanas', 'Melon')\n",
      "()\n",
      "()\n",
      "('Nanas', 'Melon')\n"
     ]
    }
   ],
   "source": [
    "#Slicing Tuple dengan batas\n",
    "\n",
    "tuple_buah = ('Pisang', 'Nanas', 'Melon', 'Durian')\n",
    "\n",
    "print(tuple_buah[0:1])\n",
    "print(tuple_buah[0:2])\n",
    "print(tuple_buah[1:3])\n",
    "print(tuple_buah[0:-1])\n",
    "print(tuple_buah[-1:-3])\n",
    "print(tuple_buah[-1:3])\n",
    "print(tuple_buah[-3:-1])"
   ]
  },
  {
   "cell_type": "code",
   "execution_count": 13,
   "id": "3aafbb09",
   "metadata": {},
   "outputs": [
    {
     "name": "stdout",
     "output_type": "stream",
     "text": [
      "('Pisang', 'Nanas', 'Melon', 'Durian')\n",
      "('Nanas', 'Melon', 'Durian')\n",
      "('Melon', 'Durian')\n",
      "('Durian',)\n",
      "()\n",
      "('Pisang',)\n",
      "('Pisang', 'Nanas')\n",
      "('Pisang', 'Nanas', 'Melon')\n",
      "('Pisang', 'Nanas', 'Melon', 'Durian')\n"
     ]
    }
   ],
   "source": [
    "#Slicing Tuple tanpa batas\n",
    "\n",
    "tuple_buah = ('Pisang', 'Nanas', 'Melon', 'Durian')\n",
    "\n",
    "print(tuple_buah[0:])\n",
    "print(tuple_buah[1:])\n",
    "print(tuple_buah[2:])\n",
    "print(tuple_buah[3:])\n",
    "print(tuple_buah[:0])\n",
    "print(tuple_buah[:1])\n",
    "print(tuple_buah[:2])\n",
    "print(tuple_buah[:3])\n",
    "print(tuple_buah[:4])"
   ]
  },
  {
   "cell_type": "code",
   "execution_count": 15,
   "id": "1282cfdf",
   "metadata": {},
   "outputs": [
    {
     "ename": "TypeError",
     "evalue": "'tuple' object does not support item assignment",
     "output_type": "error",
     "traceback": [
      "\u001b[1;31m---------------------------------------------------------------------------\u001b[0m",
      "\u001b[1;31mTypeError\u001b[0m                                 Traceback (most recent call last)",
      "Input \u001b[1;32mIn [15]\u001b[0m, in \u001b[0;36m<cell line: 7>\u001b[1;34m()\u001b[0m\n\u001b[0;32m      5\u001b[0m \u001b[38;5;66;03m# mencoba edit data tuple\u001b[39;00m\n\u001b[0;32m      6\u001b[0m tuple_siswa \u001b[38;5;241m=\u001b[39m (\u001b[38;5;124m'\u001b[39m\u001b[38;5;124mAndi\u001b[39m\u001b[38;5;124m'\u001b[39m, \u001b[38;5;124m'\u001b[39m\u001b[38;5;124mBudi\u001b[39m\u001b[38;5;124m'\u001b[39m)\n\u001b[1;32m----> 7\u001b[0m tuple_siswa[\u001b[38;5;241m0\u001b[39m] \u001b[38;5;241m=\u001b[39m \u001b[38;5;124m'\u001b[39m\u001b[38;5;124mArdi\u001b[39m\u001b[38;5;124m'\u001b[39m\n",
      "\u001b[1;31mTypeError\u001b[0m: 'tuple' object does not support item assignment"
     ]
    }
   ],
   "source": [
    "# mencoba edit data list\n",
    "list_siswa = ['Andi', 'Budi']\n",
    "list_siswa[0] = 'Ardi'\n",
    "\n",
    "# mencoba edit data tuple\n",
    "tuple_siswa = ('Andi', 'Budi')\n",
    "tuple_siswa[0] = 'Ardi'\n",
    "\n",
    "#TUPLE tidak bisa diubah, berbeda dengan list"
   ]
  },
  {
   "cell_type": "code",
   "execution_count": 20,
   "id": "bfa28d6c",
   "metadata": {},
   "outputs": [
    {
     "name": "stdout",
     "output_type": "stream",
     "text": [
      "Nama: Jathy Hardhiyan\n",
      "Asal: Magelang\n",
      "Usia: 18\n"
     ]
    }
   ],
   "source": [
    "siswa = ('Jathy Hardhiyan', 'Magelang', 18)\n",
    "\n",
    "# ekstrak data atau juga dinamakan sequence unpacking\n",
    "nama, asal, usia = siswa\n",
    "\n",
    "# setiap variabel di atas akan memiliki nilai dari tiap isi tuple\n",
    "# secara berurutan\n",
    "print('Nama:', nama)\n",
    "print('Asal:', asal)\n",
    "print('Usia:', usia)\n",
    "\n",
    "#Variabel nama memiliki nilai dari siswa[0]\n",
    "#Variabel asal memiliki nilai dari siswa[1]\n",
    "#Variabel usia memiliki nilai dari siswa[2]"
   ]
  },
  {
   "cell_type": "code",
   "execution_count": 23,
   "id": "c431e2d9",
   "metadata": {},
   "outputs": [
    {
     "name": "stdout",
     "output_type": "stream",
     "text": [
      "(1, 2, 3, 50, 60, 70)\n"
     ]
    }
   ],
   "source": [
    "#Menggabungkan 2 Tuple berbeda menjadi 1\n",
    "\n",
    "a = (1, 2, 3)\n",
    "b = (50, 60, 70)\n",
    "\n",
    "Join_Tuple = a + b\n",
    "\n",
    "print(Join_Tuple)"
   ]
  },
  {
   "cell_type": "code",
   "execution_count": 25,
   "id": "a106a2d8",
   "metadata": {},
   "outputs": [
    {
     "name": "stdout",
     "output_type": "stream",
     "text": [
      "1\n",
      "70\n"
     ]
    },
    {
     "data": {
      "text/plain": [
       "6"
      ]
     },
     "execution_count": 25,
     "metadata": {},
     "output_type": "execute_result"
    }
   ],
   "source": [
    "print(min(a))\n",
    "\n",
    "print(max(b))\n",
    "\n",
    "len((Join_Tuple))"
   ]
  },
  {
   "cell_type": "code",
   "execution_count": null,
   "id": "77d90f7f",
   "metadata": {},
   "outputs": [],
   "source": []
  }
 ],
 "metadata": {
  "kernelspec": {
   "display_name": "Python 3 (ipykernel)",
   "language": "python",
   "name": "python3"
  },
  "language_info": {
   "codemirror_mode": {
    "name": "ipython",
    "version": 3
   },
   "file_extension": ".py",
   "mimetype": "text/x-python",
   "name": "python",
   "nbconvert_exporter": "python",
   "pygments_lexer": "ipython3",
   "version": "3.9.12"
  }
 },
 "nbformat": 4,
 "nbformat_minor": 5
}
