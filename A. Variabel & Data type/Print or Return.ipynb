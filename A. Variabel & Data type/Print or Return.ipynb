{
 "cells": [
  {
   "cell_type": "markdown",
   "metadata": {},
   "source": [
    "DIFFERENT BETWEEN \"PRINT\" & \"RETURN\""
   ]
  },
  {
   "cell_type": "markdown",
   "metadata": {},
   "source": [
    "Singkatnya, fungsi print berguna untuk memperlihatkan nilainya kepada manusia.\n",
    "\n",
    "Sementara return adalah keyword khusus untuk mengeluarkan output dari sebuah fungsi (def)"
   ]
  },
  {
   "cell_type": "markdown",
   "metadata": {},
   "source": [
    "Jadi print hanya untuk manusia, sementara return hasilnya sebuah nilai. Yang tentunya nilai itu bisa kita kotak-katik lagi nanti."
   ]
  },
  {
   "cell_type": "code",
   "execution_count": 1,
   "metadata": {},
   "outputs": [],
   "source": [
    "def ini_print():\n",
    "    print('Ululala')"
   ]
  },
  {
   "cell_type": "code",
   "execution_count": 5,
   "metadata": {},
   "outputs": [
    {
     "name": "stdout",
     "output_type": "stream",
     "text": [
      "Ululala\n",
      "Ululala\n"
     ]
    },
    {
     "data": {
      "text/plain": [
       "NoneType"
      ]
     },
     "execution_count": 5,
     "metadata": {},
     "output_type": "execute_result"
    }
   ],
   "source": [
    "ini_print()\n",
    "\n",
    "type(ini_print())"
   ]
  },
  {
   "cell_type": "code",
   "execution_count": 9,
   "metadata": {},
   "outputs": [
    {
     "data": {
      "text/plain": [
       "str"
      ]
     },
     "execution_count": 9,
     "metadata": {},
     "output_type": "execute_result"
    }
   ],
   "source": [
    "def ini_return():\n",
    "    return 'Ululala'\n",
    "\n",
    "type(ini_return())"
   ]
  },
  {
   "cell_type": "code",
   "execution_count": 7,
   "metadata": {},
   "outputs": [
    {
     "data": {
      "text/plain": [
       "'Ululala'"
      ]
     },
     "execution_count": 7,
     "metadata": {},
     "output_type": "execute_result"
    }
   ],
   "source": [
    "ini_return()"
   ]
  },
  {
   "cell_type": "markdown",
   "metadata": {},
   "source": [
    "Print sendiri akan menghasilkan None type sedangkan return merupakan str karena 'return' bisa di gunakan atau otak atik kembali kemudian."
   ]
  }
 ],
 "metadata": {
  "kernelspec": {
   "display_name": "Python 3.9.12 ('base')",
   "language": "python",
   "name": "python3"
  },
  "language_info": {
   "codemirror_mode": {
    "name": "ipython",
    "version": 3
   },
   "file_extension": ".py",
   "mimetype": "text/x-python",
   "name": "python",
   "nbconvert_exporter": "python",
   "pygments_lexer": "ipython3",
   "version": "3.9.12"
  },
  "orig_nbformat": 4,
  "vscode": {
   "interpreter": {
    "hash": "fe087a48aed1072ae97c1a59fe03ae759e22e8e25f54db6aadaa73caa8b774a1"
   }
  }
 },
 "nbformat": 4,
 "nbformat_minor": 2
}
