{
 "cells": [
  {
   "cell_type": "markdown",
   "metadata": {},
   "source": [
    "Question 1"
   ]
  },
  {
   "cell_type": "markdown",
   "metadata": {},
   "source": [
    "Tulis program untuk membuat fungsi kalkulasi() sehingga dapat menerima dua variabel dan menghitung penambahan dan pengurangan. \n",
    "Juga, itu harus mengembalikan penambahan dan pengurangan dalam satu panggilan kembali.\n",
    "\n",
    "perhitungan(40, 10), return yang diharapkan 50,30"
   ]
  },
  {
   "cell_type": "code",
   "execution_count": 4,
   "metadata": {},
   "outputs": [
    {
     "name": "stdout",
     "output_type": "stream",
     "text": [
      "Penambahan 50\n",
      "Pengurangan 30\n"
     ]
    }
   ],
   "source": [
    "def perhitungan(a, b):\n",
    "    penambahan = a + b\n",
    "    pengurangan = a - b\n",
    "    print ('Penambahan', penambahan)\n",
    "    print ('Pengurangan', pengurangan)\n",
    "  \n",
    "perhitungan(40, 10)"
   ]
  },
  {
   "cell_type": "code",
   "execution_count": 3,
   "metadata": {},
   "outputs": [
    {
     "name": "stdout",
     "output_type": "stream",
     "text": [
      "50 30\n"
     ]
    }
   ],
   "source": [
    "def calculation(a, b):\n",
    "    print(a+b, a-b)\n",
    "    return\n",
    "\n",
    "calculation(40, 10)"
   ]
  },
  {
   "cell_type": "markdown",
   "metadata": {},
   "source": [
    "Question 2\n",
    "\n",
    "Tentukan fungsi yang menerima kata-kata huruf kecil(Lowercase) dan mengembalikan/menampilkan kata-kata huruf besar(Uppercase).\n",
    "\n",
    "response('myskill'), hasil yang diharapkan 'MYSKILL'"
   ]
  },
  {
   "cell_type": "code",
   "execution_count": 5,
   "metadata": {},
   "outputs": [
    {
     "name": "stdout",
     "output_type": "stream",
     "text": [
      "MYSKILL\n"
     ]
    }
   ],
   "source": [
    "txt = 'myskill'\n",
    "x = txt.upper()\n",
    "\n",
    "print(x)"
   ]
  },
  {
   "cell_type": "markdown",
   "metadata": {},
   "source": [
    "Question 3\n",
    "\n",
    "Tulis program untuk memeriksa apakah angka yang dimasukkan oleh pengguna genap atau ganjil menggunakan fungsi kondisi if else."
   ]
  },
  {
   "cell_type": "code",
   "execution_count": 7,
   "metadata": {},
   "outputs": [
    {
     "data": {
      "text/plain": [
       "'Genap'"
      ]
     },
     "execution_count": 7,
     "metadata": {},
     "output_type": "execute_result"
    }
   ],
   "source": [
    "def GG(a):\n",
    "    if a % 2 ==0:\n",
    "      res = 'Genap'\n",
    "    else :\n",
    "      res = 'Ganjil'\n",
    "    return res\n",
    "GG(100)\n",
    "\n",
    "#GG(100) merupakan nilai yang akan di return menjadi 'Genap' atau 'Ganjil'"
   ]
  },
  {
   "cell_type": "markdown",
   "metadata": {},
   "source": [
    "Question 4\n",
    "\n",
    "Tulis perulangan(loop) for sehingga setiap item dalam daftar tercetak."
   ]
  },
  {
   "cell_type": "code",
   "execution_count": 8,
   "metadata": {},
   "outputs": [
    {
     "name": "stdout",
     "output_type": "stream",
     "text": [
      "koala\n",
      "kucing\n",
      "rubah\n",
      "panda\n",
      "tupai\n",
      "kemalasan\n",
      "penguin\n",
      "lumba-lumba\n"
     ]
    }
   ],
   "source": [
    "lst=[\"koala\", \"kucing\", \"rubah\", \"panda\", \"tupai\", \"kemalasan\", \"penguin\", \"lumba-lumba\"]\n",
    "\n",
    "for i in lst:\n",
    "  print (i)"
   ]
  },
  {
   "cell_type": "markdown",
   "metadata": {},
   "source": [
    "Question 5\n",
    "\n",
    "Perulangan (Loop) while di bawah mendefinisikan kondisi (x < 10) dan mengulangi instruksi sampai kondisi itu benar."
   ]
  },
  {
   "cell_type": "code",
   "execution_count": 9,
   "metadata": {},
   "outputs": [
    {
     "name": "stdout",
     "output_type": "stream",
     "text": [
      "1\n",
      "2\n",
      "3\n",
      "4\n",
      "5\n",
      "6\n",
      "7\n",
      "8\n",
      "9\n"
     ]
    }
   ],
   "source": [
    "x = 1             #nilai awal\n",
    "while x < 10 :    #syarat yang diperlkan x kurang < dari 10\n",
    "    print (x)     #perintah yang dijalankan\n",
    "    x += 1        #update statement, bisa disesuaikan berdasarkan kebutuhkan"
   ]
  },
  {
   "cell_type": "markdown",
   "metadata": {},
   "source": [
    "Or "
   ]
  },
  {
   "cell_type": "code",
   "execution_count": 10,
   "metadata": {},
   "outputs": [
    {
     "name": "stdout",
     "output_type": "stream",
     "text": [
      "1\n",
      "2\n",
      "3\n",
      "4\n",
      "5\n",
      "6\n",
      "7\n",
      "8\n",
      "9\n"
     ]
    }
   ],
   "source": [
    "x = 1             #nilai awal\n",
    "while x < 10 :    #syarat yang diperlukan x kurang < dari 10\n",
    "    print (x)     #perintah yang dijalankan\n",
    "    x = x+1       #update statement, bisa disesuaikan berdasarkan kebutuhkan"
   ]
  },
  {
   "cell_type": "markdown",
   "metadata": {},
   "source": [
    "Question 6\n",
    "\n",
    "Tulis fungsi lambda yang mengambil z sebagai parameter dan mengembalikan z*11 lalu Tetapkan ke variabel bernama: f."
   ]
  },
  {
   "cell_type": "code",
   "execution_count": 11,
   "metadata": {},
   "outputs": [
    {
     "name": "stdout",
     "output_type": "stream",
     "text": [
      "11\n"
     ]
    }
   ],
   "source": [
    "i = 1\n",
    "\n",
    "f = lambda z : z*11\n",
    "\n",
    "print(f(i))"
   ]
  },
  {
   "cell_type": "markdown",
   "metadata": {},
   "source": [
    "Or"
   ]
  },
  {
   "cell_type": "code",
   "execution_count": 12,
   "metadata": {},
   "outputs": [
    {
     "name": "stdout",
     "output_type": "stream",
     "text": [
      "110\n"
     ]
    }
   ],
   "source": [
    "#Input yang dapat di masukkan sesukanya\n",
    "\n",
    "z = int(input('Nilai z :'))\n",
    "f = lambda z : z*11\n",
    "\n",
    "print(f(z))"
   ]
  },
  {
   "cell_type": "markdown",
   "metadata": {},
   "source": [
    "Question 7\n",
    "\n",
    "Kalikan argumen a dengan argumen b dan kembalikan hasilnya menggunakan lambda"
   ]
  },
  {
   "cell_type": "code",
   "execution_count": 14,
   "metadata": {},
   "outputs": [
    {
     "name": "stdout",
     "output_type": "stream",
     "text": [
      "jumlah perkaliannya adalah  12\n"
     ]
    }
   ],
   "source": [
    "a = 4\n",
    "b = 3\n",
    "\n",
    "x = lambda z : a*b\n",
    "\n",
    "print('jumlah perkaliannya adalah ',x(z))"
   ]
  },
  {
   "cell_type": "markdown",
   "metadata": {},
   "source": [
    "Or"
   ]
  },
  {
   "cell_type": "code",
   "execution_count": 18,
   "metadata": {},
   "outputs": [
    {
     "name": "stdout",
     "output_type": "stream",
     "text": [
      "Jumlahnya a x b adalah  6732\n"
     ]
    }
   ],
   "source": [
    "a = int(input('Nilai a: '))\n",
    "b = int(input('Nilai b: '))\n",
    "\n",
    "x = lambda z : a*b\n",
    "\n",
    "print('Jumlahnya a x b adalah ',x(z))"
   ]
  },
  {
   "cell_type": "markdown",
   "metadata": {},
   "source": [
    "Question 8\n",
    "\n",
    "Bentuklah kondisi while dengan 'break' dengan kondisi Exit dari loop saat ini jika i adalah 3:"
   ]
  },
  {
   "cell_type": "code",
   "execution_count": 19,
   "metadata": {},
   "outputs": [
    {
     "name": "stdout",
     "output_type": "stream",
     "text": [
      "1\n",
      "2\n",
      "END\n"
     ]
    }
   ],
   "source": [
    "i = 0\n",
    "while i >= 0:\n",
    "  i = i+1\n",
    "  if i == 3:\n",
    "    break\n",
    "  print (i)\n",
    "print('END')"
   ]
  },
  {
   "cell_type": "markdown",
   "metadata": {},
   "source": [
    "Question 9\n",
    "\n",
    "Bentuklah konfisi loop dengan fungsi range() dan cetak nomor dari 0 hingga 4"
   ]
  },
  {
   "cell_type": "code",
   "execution_count": 20,
   "metadata": {},
   "outputs": [
    {
     "name": "stdout",
     "output_type": "stream",
     "text": [
      "0\n",
      "1\n",
      "2\n",
      "3\n",
      "4\n"
     ]
    }
   ],
   "source": [
    "i = int(4)\n",
    "for x in range(i+1):\n",
    "  print(x)"
   ]
  },
  {
   "cell_type": "markdown",
   "metadata": {},
   "source": [
    "Or dengan tidak menggunakan batas dan dapat kita definisikan batasnya sendiri"
   ]
  },
  {
   "cell_type": "code",
   "execution_count": 22,
   "metadata": {},
   "outputs": [
    {
     "name": "stdout",
     "output_type": "stream",
     "text": [
      "0\n",
      "1\n",
      "2\n",
      "3\n",
      "4\n",
      "5\n",
      "6\n",
      "7\n",
      "8\n",
      "9\n",
      "10\n"
     ]
    }
   ],
   "source": [
    "i = int(input('Input Range dari 0 sampai = '))\n",
    "for x in range(i+1):\n",
    "  print(x)"
   ]
  },
  {
   "cell_type": "markdown",
   "metadata": {},
   "source": [
    "Question 10\n",
    "\n",
    "Akses Indeks untuk Loop, print list dan indeksnya dengan for loop\n",
    "\n",
    "colors = ['blue','red','green','yellow']\n",
    "\n",
    "output yang di harapkan:\n",
    "\n",
    "#0 blue\n",
    "#1 red\n",
    "#2 green\n",
    "#3 yellow"
   ]
  },
  {
   "cell_type": "code",
   "execution_count": 23,
   "metadata": {},
   "outputs": [
    {
     "ename": "NameError",
     "evalue": "name 'colors' is not defined",
     "output_type": "error",
     "traceback": [
      "\u001b[1;31m---------------------------------------------------------------------------\u001b[0m",
      "\u001b[1;31mNameError\u001b[0m                                 Traceback (most recent call last)",
      "\u001b[1;32mUntitled-1.ipynb Cell 30'\u001b[0m in \u001b[0;36m<cell line: 3>\u001b[1;34m()\u001b[0m\n\u001b[0;32m      <a href='vscode-notebook-cell:Untitled-1.ipynb?jupyter-notebook#ch0000041untitled?line=0'>1</a>\u001b[0m \u001b[39m#Menggunakan Fungsi Enumerate\u001b[39;00m\n\u001b[1;32m----> <a href='vscode-notebook-cell:Untitled-1.ipynb?jupyter-notebook#ch0000041untitled?line=2'>3</a>\u001b[0m \u001b[39mfor\u001b[39;00m idx, x \u001b[39min\u001b[39;00m \u001b[39menumerate\u001b[39m(colors):\n\u001b[0;32m      <a href='vscode-notebook-cell:Untitled-1.ipynb?jupyter-notebook#ch0000041untitled?line=3'>4</a>\u001b[0m   \u001b[39mprint\u001b[39m(idx, x)\n",
      "\u001b[1;31mNameError\u001b[0m: name 'colors' is not defined"
     ]
    }
   ],
   "source": [
    "#Menggunakan Fungsi Enumerate\n",
    "\n",
    "for idx, x in enumerate(colors):\n",
    "  print(idx, x)"
   ]
  },
  {
   "cell_type": "code",
   "execution_count": null,
   "metadata": {},
   "outputs": [],
   "source": []
  }
 ],
 "metadata": {
  "kernelspec": {
   "display_name": "Python 3.9.12 ('base')",
   "language": "python",
   "name": "python3"
  },
  "language_info": {
   "codemirror_mode": {
    "name": "ipython",
    "version": 3
   },
   "file_extension": ".py",
   "mimetype": "text/x-python",
   "name": "python",
   "nbconvert_exporter": "python",
   "pygments_lexer": "ipython3",
   "version": "3.9.12"
  },
  "orig_nbformat": 4,
  "vscode": {
   "interpreter": {
    "hash": "fe087a48aed1072ae97c1a59fe03ae759e22e8e25f54db6aadaa73caa8b774a1"
   }
  }
 },
 "nbformat": 4,
 "nbformat_minor": 2
}
