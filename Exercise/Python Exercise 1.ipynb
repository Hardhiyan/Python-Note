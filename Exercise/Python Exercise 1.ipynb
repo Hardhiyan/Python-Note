{
 "cells": [
  {
   "cell_type": "markdown",
   "metadata": {},
   "source": [
    "Python Exercise 1"
   ]
  },
  {
   "cell_type": "markdown",
   "metadata": {},
   "source": [
    "Question 1\n",
    "\n",
    "Buatlah code dari tipe integer menjadi variable, lalu print .\n",
    "contoh : age = 10 "
   ]
  },
  {
   "cell_type": "code",
   "execution_count": 6,
   "metadata": {},
   "outputs": [
    {
     "name": "stdout",
     "output_type": "stream",
     "text": [
      "2190\n"
     ]
    }
   ],
   "source": [
    "a = 2190\n",
    "\n",
    "print(a)"
   ]
  },
  {
   "cell_type": "markdown",
   "metadata": {},
   "source": [
    "Question 2\n",
    "\n",
    "Konversikan tipe data variabel tersebut menjadi string"
   ]
  },
  {
   "cell_type": "code",
   "execution_count": 7,
   "metadata": {},
   "outputs": [
    {
     "data": {
      "text/plain": [
       "'2190'"
      ]
     },
     "execution_count": 7,
     "metadata": {},
     "output_type": "execute_result"
    }
   ],
   "source": [
    "str(a)"
   ]
  },
  {
   "cell_type": "markdown",
   "metadata": {},
   "source": [
    "Question 3\n",
    "\n",
    "Konversikan tipe data variabel tersebut menjadi float"
   ]
  },
  {
   "cell_type": "code",
   "execution_count": 2,
   "metadata": {},
   "outputs": [
    {
     "data": {
      "text/plain": [
       "2190.0"
      ]
     },
     "execution_count": 2,
     "metadata": {},
     "output_type": "execute_result"
    }
   ],
   "source": [
    "float(a)"
   ]
  },
  {
   "cell_type": "markdown",
   "metadata": {},
   "source": [
    "Question 4\n",
    "\n",
    "Buatlah pemrograman Python untuk menampilkan warna pertama dan terakhir dari tipe data list di bawah"
   ]
  },
  {
   "cell_type": "code",
   "execution_count": 9,
   "metadata": {},
   "outputs": [
    {
     "name": "stdout",
     "output_type": "stream",
     "text": [
      "Pertama:  Red , Terakhir:  Black\n"
     ]
    }
   ],
   "source": [
    "color_list = [\"Red\",\"Green\",\"White\" ,\"Black\"]\n",
    "\n",
    "print('Pertama: ',color_list[0], ', Terakhir: ', color_list[3])  #Mengakses dengan menggunakan Index"
   ]
  },
  {
   "cell_type": "code",
   "execution_count": null,
   "metadata": {},
   "outputs": [],
   "source": [
    "#Atau dengan menggunakan Negative Index Awal [0] dan [-1] untuk mengakses elemen terakhir\n",
    "\n",
    "print('Pertama: ',color_list[0], ', Terakhir: ', color_list[-1])"
   ]
  },
  {
   "cell_type": "markdown",
   "metadata": {},
   "source": [
    "Question 5\n",
    "\n",
    "Cetak secara reverse list yang tersedia\n",
    "\n",
    "Contoh:\n",
    "\n",
    "Input : list = [10, 11, 12, 13, 14, 15]\n",
    "\n",
    "Output : [15, 14, 13, 12, 11, 10]"
   ]
  },
  {
   "cell_type": "code",
   "execution_count": 1,
   "metadata": {},
   "outputs": [
    {
     "name": "stdout",
     "output_type": "stream",
     "text": [
      "list awal:  [1, 5, 10, 15, 20, 25, 30, 35, 40, 45, 50]\n",
      "Hasil List yang di Reverse [50, 45, 40, 35, 30, 25, 20, 15, 10, 5, 1]\n"
     ]
    }
   ],
   "source": [
    "#Dengan memanfaatkan Method Built-in Reverse\n",
    "\n",
    "lst = [1, 5, 10, 15, 20, 25, 30, 35, 40, 45, 50]\n",
    "print('list awal: ', lst)\n",
    "\n",
    "lst.reverse()\n",
    "\n",
    "print('Hasil List yang di Reverse', lst)"
   ]
  },
  {
   "cell_type": "code",
   "execution_count": 5,
   "metadata": {},
   "outputs": [
    {
     "data": {
      "text/plain": [
       "[11, 5, 17, 18, 23, 50]"
      ]
     },
     "execution_count": 5,
     "metadata": {},
     "output_type": "execute_result"
    }
   ],
   "source": [
    "#Dapat juga dengan memanfaatkan Negative Indexing\n",
    "#Kita coba dengan list yang berbeda\n",
    "\n",
    "lst2 = [11, 5, 17, 18, 23, 50]\n",
    "\n",
    "lst2"
   ]
  },
  {
   "cell_type": "code",
   "execution_count": 3,
   "metadata": {},
   "outputs": [
    {
     "name": "stdout",
     "output_type": "stream",
     "text": [
      "Reverse List:  [50, 23, 18, 17, 5, 11]\n"
     ]
    }
   ],
   "source": [
    "lst2 = [11, 5, 17, 18, 23, 50]\n",
    "\n",
    "print('Reverse List: ', lst2[::-1])"
   ]
  },
  {
   "cell_type": "markdown",
   "metadata": {},
   "source": [
    "Question 6\n",
    "\n",
    "Hilangkan elements dari index 1 sampai 4"
   ]
  },
  {
   "cell_type": "code",
   "execution_count": 7,
   "metadata": {},
   "outputs": [
    {
     "name": "stdout",
     "output_type": "stream",
     "text": [
      "list awal:  [1, 5, 10, 15, 20, 25, 30, 35, 40, 45, 50]\n",
      "Angka 5 hingga 20 yang telah hilang\n",
      " [1, 25, 30, 35, 40, 45, 50]\n"
     ]
    }
   ],
   "source": [
    "lst = [1, 5, 10, 15, 20, 25, 30, 35, 40, 45, 50]\n",
    "print('list awal: ', lst)\n",
    "\n",
    "del lst[1:5]\n",
    "\n",
    "print('Angka 5 hingga 20 yang telah hilang\\n',lst)\n",
    "\n",
    "#Urutan 1 sampai sebelum ke-5"
   ]
  },
  {
   "cell_type": "markdown",
   "metadata": {},
   "source": [
    "Question 7\n",
    "\n",
    "Tuliskan Python program untuk menggabungkan dua dictrionary adding values untuk common keys.\n",
    "\n",
    "d1 = {'a': 100, 'b': 200, 'c':300}\n",
    "\n",
    "d2 = {'a': 300, 'b': 200, 'd':400}\n",
    "\n",
    "Sample output: Counter({'a': 400, 'b': 400, 'd': 400, 'c': 300})"
   ]
  },
  {
   "cell_type": "code",
   "execution_count": 9,
   "metadata": {},
   "outputs": [
    {
     "name": "stdout",
     "output_type": "stream",
     "text": [
      "d1 dan d2 yang sudah terupdate {'a': 100, 'b': 200, 'c': 300} {'a': 400, 'b': 400, 'd': 400}\n",
      "{'a': 400, 'b': 400, 'c': 300, 'd': 400}\n"
     ]
    }
   ],
   "source": [
    "#Menggunakan For Loop\n",
    "\n",
    "d1 = {'a': 100, 'b': 200, 'c':300}\n",
    "d2 = {'a': 300, 'b': 200, 'd':400}\n",
    "\n",
    "for key in d2:\n",
    "    if key in d1:\n",
    "        d2[key] = d2[key] + d1[key]\n",
    "        \n",
    "c = {**d1, **d2}                    #Menggunakan Double Asterisk(*) di masing-masing dictionary, artinya jika terdapa key yang sama, \n",
    "                                    #maka value dari key tersebut akan ditambahkan dan akan menggunakan key value yang paling baru/terakhir\n",
    "print('d1 dan d2 yang sudah terupdate', d1, d2)\n",
    "print(c)"
   ]
  },
  {
   "cell_type": "code",
   "execution_count": 13,
   "metadata": {},
   "outputs": [
    {
     "name": "stdout",
     "output_type": "stream",
     "text": [
      "Counter({'a': 400, 'b': 400, 'd': 400, 'c': 300})\n"
     ]
    }
   ],
   "source": [
    "#Dapat juga menggunakan fungsi Counter\n",
    "#Definisi ulang dictionary nya terlebih dahulu\n",
    "\n",
    "d1 = {'a': 100, 'b': 200, 'c':300}\n",
    "d2 = {'a': 300, 'b': 200, 'd':400}\n",
    "\n",
    "from collections import Counter\n",
    "         \n",
    "Cdict = Counter(d1) + Counter(d2)\n",
    "print(Cdict)"
   ]
  },
  {
   "cell_type": "markdown",
   "metadata": {},
   "source": [
    "Question 8\n",
    "\n",
    "Tuliskan Python program untuk menggabungkan dua dictionary Python"
   ]
  },
  {
   "cell_type": "code",
   "execution_count": 14,
   "metadata": {},
   "outputs": [
    {
     "data": {
      "text/plain": [
       "{'a': 100, 'b': 100, 'y': 200}"
      ]
     },
     "execution_count": 14,
     "metadata": {},
     "output_type": "execute_result"
    }
   ],
   "source": [
    "#Jika sebelumnya adalah Menjumlahkan dan Menggabungkan dictionary, maka ini hanya menggabungkan 2 dictionary saja\n",
    "\n",
    "d1 = {'a': 100, 'b': 200}\n",
    "d2 = {'b': 100, 'y': 200}\n",
    "\n",
    "#Dapat menggunakan Syntax yang sama seperti sebelumnya yaitu Double Asterisk(*) atau dengan menggunakan perintah update\n",
    "\n",
    "{**d1, **d2}"
   ]
  },
  {
   "cell_type": "code",
   "execution_count": 16,
   "metadata": {},
   "outputs": [
    {
     "data": {
      "text/plain": [
       "{'a': 100, 'b': 100, 'y': 200}"
      ]
     },
     "execution_count": 16,
     "metadata": {},
     "output_type": "execute_result"
    }
   ],
   "source": [
    "d1.update(d2)\n",
    "\n",
    "d1"
   ]
  },
  {
   "cell_type": "markdown",
   "metadata": {},
   "source": [
    "Question 9\n",
    "\n",
    "Kembalikan item yang sama dari kedua set"
   ]
  },
  {
   "cell_type": "code",
   "execution_count": 17,
   "metadata": {},
   "outputs": [],
   "source": [
    "#karena yang diminta adalah 'item' yang sama maka bisa menggunakan fungsi Intersection, yang merupakan salah satu fungsi ke anggotaan pada python\n",
    "#intersection atau Irisan berfungsi menggabungkan 2 anggota yang sama dari 2 set yang berbeda, dan menghasilkan 1 set yang berisi anggota yang sama\n",
    "#Bisa dengan menggunakan syntax 'intersetion' atau menggunakan logika himpunan yang mana Intersection = '&' / dan\n",
    "\n",
    "set1 = {10, 20, 30, 40, 50}\n",
    "set2 = {30, 40, 50, 60, 70}"
   ]
  },
  {
   "cell_type": "code",
   "execution_count": 18,
   "metadata": {},
   "outputs": [
    {
     "data": {
      "text/plain": [
       "{30, 40, 50}"
      ]
     },
     "execution_count": 18,
     "metadata": {},
     "output_type": "execute_result"
    }
   ],
   "source": [
    "set1.intersection(set2)"
   ]
  },
  {
   "cell_type": "code",
   "execution_count": 19,
   "metadata": {},
   "outputs": [
    {
     "data": {
      "text/plain": [
       "{30, 40, 50}"
      ]
     },
     "execution_count": 19,
     "metadata": {},
     "output_type": "execute_result"
    }
   ],
   "source": [
    "set1 & set2"
   ]
  },
  {
   "cell_type": "markdown",
   "metadata": {},
   "source": [
    "Question 10\n",
    "\n",
    "Reverse tipe data tupel di bawah"
   ]
  },
  {
   "cell_type": "code",
   "execution_count": 24,
   "metadata": {},
   "outputs": [
    {
     "data": {
      "text/plain": [
       "(50, 40, 30, 20, 10)"
      ]
     },
     "execution_count": 24,
     "metadata": {},
     "output_type": "execute_result"
    }
   ],
   "source": [
    "#Dapat langsung menggunakan Negative Indexing atau dengan method Reverse Indexing, \n",
    "#bahkan bisa dengan cara mengconvert tuple tsb ke dalam list, lalu convert lgi ke dalam tuple\n",
    "#bisa juga dengan menggenakan negative Indexing namun di definisikan dalam sebuah function\n",
    "\n",
    "tuple1 = (10, 20, 30, 40, 50)\n",
    "\n",
    "tuple1 [::-1]"
   ]
  },
  {
   "cell_type": "code",
   "execution_count": 23,
   "metadata": {},
   "outputs": [
    {
     "data": {
      "text/plain": [
       "(50, 40, 30, 20, 10)"
      ]
     },
     "execution_count": 23,
     "metadata": {},
     "output_type": "execute_result"
    }
   ],
   "source": [
    "#namun karena ini tuple, harus di definisikan bahwa data tersebut merupakan sebuah tuple\n",
    "#karena setelah di reverse data tersebut akan di anggap sebuah object\n",
    "\n",
    "tuple1 = (10, 20, 30, 40, 50)\n",
    "\n",
    "tuple(reversed(tuple1))\n",
    "\n",
    "#langsung definisikan bahwa ini adalah tuple di depan"
   ]
  }
 ],
 "metadata": {
  "kernelspec": {
   "display_name": "Python 3.9.12 ('base')",
   "language": "python",
   "name": "python3"
  },
  "language_info": {
   "codemirror_mode": {
    "name": "ipython",
    "version": 3
   },
   "file_extension": ".py",
   "mimetype": "text/x-python",
   "name": "python",
   "nbconvert_exporter": "python",
   "pygments_lexer": "ipython3",
   "version": "3.9.12"
  },
  "orig_nbformat": 4,
  "vscode": {
   "interpreter": {
    "hash": "fe087a48aed1072ae97c1a59fe03ae759e22e8e25f54db6aadaa73caa8b774a1"
   }
  }
 },
 "nbformat": 4,
 "nbformat_minor": 2
}
