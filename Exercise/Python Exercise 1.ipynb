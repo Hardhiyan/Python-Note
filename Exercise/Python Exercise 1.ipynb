{
 "cells": [
  {
   "cell_type": "markdown",
   "metadata": {},
   "source": [
    "Python Exercise 1"
   ]
  },
  {
   "cell_type": "markdown",
   "metadata": {},
   "source": [
    "Question 1\n",
    "\n",
    "Buatlah code dari tipe integer menjadi variable, lalu print .\n",
    "contoh : age = 10 "
   ]
  },
  {
   "cell_type": "code",
   "execution_count": 6,
   "metadata": {},
   "outputs": [
    {
     "name": "stdout",
     "output_type": "stream",
     "text": [
      "2190\n"
     ]
    }
   ],
   "source": [
    "a = 2190\n",
    "\n",
    "print(a)"
   ]
  },
  {
   "cell_type": "markdown",
   "metadata": {},
   "source": [
    "Question 2\n",
    "\n",
    "Konversikan tipe data variabel tersebut menjadi string"
   ]
  },
  {
   "cell_type": "code",
   "execution_count": 7,
   "metadata": {},
   "outputs": [
    {
     "data": {
      "text/plain": [
       "'2190'"
      ]
     },
     "execution_count": 7,
     "metadata": {},
     "output_type": "execute_result"
    }
   ],
   "source": [
    "str(a)"
   ]
  },
  {
   "cell_type": "markdown",
   "metadata": {},
   "source": [
    "Question 3\n",
    "\n",
    "Konversikan tipe data variabel tersebut menjadi float"
   ]
  },
  {
   "cell_type": "code",
   "execution_count": 2,
   "metadata": {},
   "outputs": [
    {
     "data": {
      "text/plain": [
       "2190.0"
      ]
     },
     "execution_count": 2,
     "metadata": {},
     "output_type": "execute_result"
    }
   ],
   "source": [
    "float(a)"
   ]
  },
  {
   "cell_type": "markdown",
   "metadata": {},
   "source": [
    "Question 4\n",
    "\n",
    "Buatlah pemrograman Python untuk menampilkan warna pertama dan terakhir dari tipe data list di bawah"
   ]
  },
  {
   "cell_type": "code",
   "execution_count": 9,
   "metadata": {},
   "outputs": [
    {
     "name": "stdout",
     "output_type": "stream",
     "text": [
      "Pertama:  Red , Terakhir:  Black\n"
     ]
    }
   ],
   "source": [
    "color_list = [\"Red\",\"Green\",\"White\" ,\"Black\"]\n",
    "\n",
    "print('Pertama: ',color_list[0], ', Terakhir: ', color_list[3])  #Mengakses dengan menggunakan Index"
   ]
  },
  {
   "cell_type": "code",
   "execution_count": null,
   "metadata": {},
   "outputs": [],
   "source": [
    "#Atau dengan menggunakan Negative Index Awal [0] dan [-1] untuk mengakses elemen terakhir\n",
    "\n",
    "print('Pertama: ',color_list[0], ', Terakhir: ', color_list[-1])"
   ]
  },
  {
   "cell_type": "markdown",
   "metadata": {},
   "source": [
    "Question 5\n",
    "\n",
    "Cetak secara reverse list yang tersedia\n",
    "\n",
    "Contoh:\n",
    "\n",
    "Input : list = [10, 11, 12, 13, 14, 15]\n",
    "\n",
    "Output : [15, 14, 13, 12, 11, 10]"
   ]
  },
  {
   "cell_type": "code",
   "execution_count": 4,
   "metadata": {},
   "outputs": [
    {
     "name": "stdout",
     "output_type": "stream",
     "text": [
      "list:  [1, 5, 10, 15, 20, 25, 30, 35, 40, 45, 50]\n",
      "Hasil List yang di Reverse [50, 45, 40, 35, 30, 25, 20, 15, 10, 5, 1]\n"
     ]
    }
   ],
   "source": [
    "#Dengan memanfaatkan Method Built-in Reverse\n",
    "\n",
    "lst = [1, 5, 10, 15, 20, 25, 30, 35, 40, 45, 50]\n",
    "print('list: ', lst)\n",
    "\n",
    "lst.reverse()\n",
    "\n",
    "print('Hasil List yang di Reverse', lst)"
   ]
  },
  {
   "cell_type": "code",
   "execution_count": 5,
   "metadata": {},
   "outputs": [
    {
     "data": {
      "text/plain": [
       "[11, 5, 17, 18, 23, 50]"
      ]
     },
     "execution_count": 5,
     "metadata": {},
     "output_type": "execute_result"
    }
   ],
   "source": [
    "#Dapat juga dengan memanfaatkan Negative Index\n",
    "#Kita coba dengan list yang berbeda\n",
    "\n",
    "lst2 = [11, 5, 17, 18, 23, 50]\n",
    "\n",
    "lst2"
   ]
  },
  {
   "cell_type": "code",
   "execution_count": null,
   "metadata": {},
   "outputs": [],
   "source": [
    "lst2 = [11, 5, 17, 18, 23, 50]\n",
    "\n",
    "print('Reverse List: ', lst[::-1])"
   ]
  },
  {
   "cell_type": "markdown",
   "metadata": {},
   "source": [
    "Question 6\n",
    "\n",
    "Hilangkan elements dari index 1 sampai 4"
   ]
  }
 ],
 "metadata": {
  "kernelspec": {
   "display_name": "Python 3.9.12 ('base')",
   "language": "python",
   "name": "python3"
  },
  "language_info": {
   "codemirror_mode": {
    "name": "ipython",
    "version": 3
   },
   "file_extension": ".py",
   "mimetype": "text/x-python",
   "name": "python",
   "nbconvert_exporter": "python",
   "pygments_lexer": "ipython3",
   "version": "3.9.12"
  },
  "orig_nbformat": 4,
  "vscode": {
   "interpreter": {
    "hash": "fe087a48aed1072ae97c1a59fe03ae759e22e8e25f54db6aadaa73caa8b774a1"
   }
  }
 },
 "nbformat": 4,
 "nbformat_minor": 2
}
