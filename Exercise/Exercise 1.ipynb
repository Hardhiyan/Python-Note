{
 "cells": [
  {
   "cell_type": "code",
   "execution_count": 1,
   "metadata": {},
   "outputs": [
    {
     "data": {
      "text/plain": [
       "2190"
      ]
     },
     "execution_count": 1,
     "metadata": {},
     "output_type": "execute_result"
    }
   ],
   "source": [
    "# Buatlah code dari tipe integer menjadi variable, lalu print .\n",
    "# contoh : age = 10 \n",
    "a = 2190\n",
    "\n",
    "int(a)"
   ]
  },
  {
   "cell_type": "code",
   "execution_count": 2,
   "metadata": {},
   "outputs": [
    {
     "data": {
      "text/plain": [
       "'2190'"
      ]
     },
     "execution_count": 2,
     "metadata": {},
     "output_type": "execute_result"
    }
   ],
   "source": [
    "#Konversikan tipe data variabel tersebut menjadi string\n",
    "\n",
    "a = 2190\n",
    "\n",
    "str(2190)"
   ]
  },
  {
   "cell_type": "code",
   "execution_count": 3,
   "metadata": {},
   "outputs": [
    {
     "data": {
      "text/plain": [
       "2190.0"
      ]
     },
     "execution_count": 3,
     "metadata": {},
     "output_type": "execute_result"
    }
   ],
   "source": [
    "#Konversikan tipe data variabel tersebut menjadi float\n",
    "\n",
    "a = 2190\n",
    "\n",
    "float(a)"
   ]
  },
  {
   "cell_type": "code",
   "execution_count": 4,
   "metadata": {},
   "outputs": [
    {
     "name": "stdout",
     "output_type": "stream",
     "text": [
      "Red\n",
      "Black\n"
     ]
    }
   ],
   "source": [
    "#Buatlah pemrograman Python untuk menampilkan warna pertama dan terakhir dari tipe data list di bawah\n",
    "color_list = [\"Red\",\"Green\",\"White\" ,\"Black\"]\n",
    "# Type your code here\n",
    "\n",
    "print(color_list[0])\n",
    "print(color_list[-1])\n"
   ]
  },
  {
   "cell_type": "code",
   "execution_count": 5,
   "metadata": {},
   "outputs": [
    {
     "name": "stdout",
     "output_type": "stream",
     "text": [
      "reverse list: [50, 23, 18, 17, 5, 11]\n"
     ]
    }
   ],
   "source": [
    "# Cetak secara reverse list yang tersedia\n",
    "# Contoh:\n",
    "# Input : list = [10, 11, 12, 13, 14, 15]\n",
    "# Output : [15, 14, 13, 12, 11, 10]\n",
    " \n",
    "# membuat list\n",
    "lst = [11, 5, 17, 18, 23, 50]\n",
    "\n",
    "print ('reverse list:', lst[::-1])"
   ]
  },
  {
   "cell_type": "code",
   "execution_count": 6,
   "metadata": {},
   "outputs": [
    {
     "data": {
      "text/plain": [
       "[11, 50]"
      ]
     },
     "execution_count": 6,
     "metadata": {},
     "output_type": "execute_result"
    }
   ],
   "source": [
    "# hilangkan elements dari index 1 sampai 4\n",
    "lst = [11, 5, 17, 18, 23, 50]\n",
    "\n",
    "del lst[1:5]\n",
    "lst"
   ]
  },
  {
   "cell_type": "code",
   "execution_count": 9,
   "metadata": {},
   "outputs": [],
   "source": [
    "# Tuliskan Python program untuk menggabungkan dua dictrionary adding values untuk common keys.\n",
    "# d1 = {'a': 100, 'b': 200, 'c':300}\n",
    "# d2 = {'a': 300, 'b': 200, 'd':400}\n",
    "# Sample output: Counter({'a': 400, 'b': 400, 'd': 400, 'c': 300})\n",
    "\n",
    "d1 = {'a': 100, 'b': 200, 'c':300}\n",
    "d2 = {'a': 300, 'b': 200, 'd':400}"
   ]
  },
  {
   "cell_type": "code",
   "execution_count": 10,
   "metadata": {},
   "outputs": [
    {
     "ename": "NameError",
     "evalue": "name 'Counter' is not defined",
     "output_type": "error",
     "traceback": [
      "\u001b[1;31m---------------------------------------------------------------------------\u001b[0m",
      "\u001b[1;31mNameError\u001b[0m                                 Traceback (most recent call last)",
      "\u001b[1;32mHardhiyan\\Python-Note\\Exercise\\Exercise 1.ipynb Cell 8'\u001b[0m in \u001b[0;36m<cell line: 4>\u001b[1;34m()\u001b[0m\n\u001b[0;32m      <a href='vscode-notebook-cell://github/Hardhiyan/Python-Note/Exercise/Exercise%201.ipynb#ch0000011vscode-vfs?line=0'>1</a>\u001b[0m d1 \u001b[39m=\u001b[39m {\u001b[39m'\u001b[39m\u001b[39ma\u001b[39m\u001b[39m'\u001b[39m: \u001b[39m100\u001b[39m, \u001b[39m'\u001b[39m\u001b[39mb\u001b[39m\u001b[39m'\u001b[39m: \u001b[39m200\u001b[39m, \u001b[39m'\u001b[39m\u001b[39mc\u001b[39m\u001b[39m'\u001b[39m:\u001b[39m300\u001b[39m}\n\u001b[0;32m      <a href='vscode-notebook-cell://github/Hardhiyan/Python-Note/Exercise/Exercise%201.ipynb#ch0000011vscode-vfs?line=1'>2</a>\u001b[0m d2 \u001b[39m=\u001b[39m {\u001b[39m'\u001b[39m\u001b[39ma\u001b[39m\u001b[39m'\u001b[39m: \u001b[39m300\u001b[39m, \u001b[39m'\u001b[39m\u001b[39mb\u001b[39m\u001b[39m'\u001b[39m: \u001b[39m200\u001b[39m, \u001b[39m'\u001b[39m\u001b[39md\u001b[39m\u001b[39m'\u001b[39m:\u001b[39m400\u001b[39m}\n\u001b[1;32m----> <a href='vscode-notebook-cell://github/Hardhiyan/Python-Note/Exercise/Exercise%201.ipynb#ch0000011vscode-vfs?line=3'>4</a>\u001b[0m Total_Counter \u001b[39m=\u001b[39m Counter(d1) \u001b[39m+\u001b[39m Counter(d2)\n\u001b[0;32m      <a href='vscode-notebook-cell://github/Hardhiyan/Python-Note/Exercise/Exercise%201.ipynb#ch0000011vscode-vfs?line=4'>5</a>\u001b[0m \u001b[39mprint\u001b[39m(Total_Counter)\n",
      "\u001b[1;31mNameError\u001b[0m: name 'Counter' is not defined"
     ]
    }
   ],
   "source": [
    "d1 = {'a': 100, 'b': 200, 'c':300}\n",
    "d2 = {'a': 300, 'b': 200, 'd':400}\n",
    "         \n",
    "Total_Counter = Counter(d1) + Counter(d2)\n",
    "\n",
    "print(Total_Counter)"
   ]
  },
  {
   "cell_type": "code",
   "execution_count": 11,
   "metadata": {},
   "outputs": [
    {
     "name": "stdout",
     "output_type": "stream",
     "text": [
      "{'a': 400, 'b': 400, 'c': 300, 'd': 400}\n"
     ]
    }
   ],
   "source": [
    "#Atau menggunakan Looping For\n",
    "\n",
    "for key in d2:\n",
    "    if key in d1:\n",
    "        d2[key] = d2[key] + d1[key]\n",
    "    c = {**d1, **d2}\n",
    "print(c)"
   ]
  },
  {
   "cell_type": "code",
   "execution_count": 12,
   "metadata": {},
   "outputs": [
    {
     "data": {
      "text/plain": [
       "{'a': 100, 'b': 200, 'x': 300, 'y': 200}"
      ]
     },
     "execution_count": 12,
     "metadata": {},
     "output_type": "execute_result"
    }
   ],
   "source": [
    "# Tuliskan Python program untuk menggabungkan dua dictionary Python\n",
    "d1 = {'a': 100, 'b': 200}\n",
    "d2 = {'x': 300, 'y': 200}\n",
    "\n",
    "#Type your Code here\n",
    "d1.update(d2)\n",
    "\n",
    "d1\n"
   ]
  },
  {
   "cell_type": "code",
   "execution_count": 13,
   "metadata": {},
   "outputs": [
    {
     "name": "stdout",
     "output_type": "stream",
     "text": [
      "{'a': 100, 'b': 200, 'x': 300, 'y': 200}\n"
     ]
    }
   ],
   "source": [
    "#Atau menggunakan perintah **\n",
    "\n",
    "d1 = {'a': 100, 'b': 200}\n",
    "d2 = {'x': 300, 'y': 200}\n",
    "\n",
    "Counter = dict(d1,**d2)\n",
    "print (Counter)"
   ]
  },
  {
   "cell_type": "code",
   "execution_count": 14,
   "metadata": {},
   "outputs": [
    {
     "data": {
      "text/plain": [
       "{30, 40, 50}"
      ]
     },
     "execution_count": 14,
     "metadata": {},
     "output_type": "execute_result"
    }
   ],
   "source": [
    "# Kembalikan item yang sama dari kedua set\n",
    "set1 = {10, 20, 30, 40, 50}\n",
    "set2 = {30, 40, 50, 60, 70}\n",
    "\n",
    "# expected output : {40, 50, 30}\n",
    "\n",
    "set1 & set2"
   ]
  },
  {
   "cell_type": "code",
   "execution_count": 15,
   "metadata": {},
   "outputs": [
    {
     "name": "stdout",
     "output_type": "stream",
     "text": [
      "Reverse Tuple: (10, 20, 30, 40, 50)\n"
     ]
    }
   ],
   "source": [
    "# Reverse tipe data tupel di bawah\n",
    "tuple1 = (10, 20, 30, 40, 50)\n",
    "\n",
    "# expected output : (50, 40, 30, 20, 10\n",
    "print ('Reverse Tuple:', tuple1)\n",
    "\n",
    "#tuple(reverse)"
   ]
  }
 ],
 "metadata": {
  "kernelspec": {
   "display_name": "Python 3.9.12 ('base')",
   "language": "python",
   "name": "python3"
  },
  "language_info": {
   "codemirror_mode": {
    "name": "ipython",
    "version": 3
   },
   "file_extension": ".py",
   "mimetype": "text/x-python",
   "name": "python",
   "nbconvert_exporter": "python",
   "pygments_lexer": "ipython3",
   "version": "3.9.12"
  },
  "orig_nbformat": 4,
  "vscode": {
   "interpreter": {
    "hash": "fe087a48aed1072ae97c1a59fe03ae759e22e8e25f54db6aadaa73caa8b774a1"
   }
  }
 },
 "nbformat": 4,
 "nbformat_minor": 2
}
