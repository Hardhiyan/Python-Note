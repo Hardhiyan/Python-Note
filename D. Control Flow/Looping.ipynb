{
 "cells": [
  {
   "cell_type": "markdown",
   "metadata": {},
   "source": [
    "LOOPING"
   ]
  },
  {
   "cell_type": "markdown",
   "metadata": {},
   "source": [
    "Perulangan dalam dunia pemrograman adalah baris kode atau instruksi yang dieksekusi oleh komputer secara berulang-ulang sampai suatu kondisi tertentu terpenuhi [1]. Konsep perulangan ini didukung di semua bahasa pemrograman modern, termasuk di antaranya adalah python.\n",
    "\n",
    "Dengan perulangan, kita bisa mengeksekusi suatu kode program berkali-kali dengan jumlah tertentu, atau selama sebuah kondisi tertentu terpenuhi.\n",
    "\n",
    "Perulangan hampir sama dengan Percabangan pada Pyton. Namun tentu ada perbedaannya\n",
    "\n",
    "• Kalau percabangan, blok kode yang memenuhi kondisi tertentu hanya akan dieksekusi satu kali saja.\n",
    "\n",
    "• Sedangkan perulangan, ia akan dilakukan seterusnya berulang-ulang dengan jumlah tertentu atau selama kondisi tertentu terpenuhi.\n",
    "\n",
    "Di dalam bahasa pemrograman Python pengulangan dibagi menjadi 2 Jenis, yaitu :\n",
    "\n",
    "• For Loop\n",
    "\n",
    "• While Loop\n",
    "\n",
    "Ada juga Fungsi Rekursif, namun hal tersebut akan di bahas dilain Notebook\n"
   ]
  },
  {
   "cell_type": "markdown",
   "metadata": {},
   "source": [
    "FOR LOOP\n",
    "\n",
    "Perulangan for pada python adalah perintah yang digunakan untuk melakukan iterasi dari sebuah nilai sequence atau data koleksi pada python seperti List, Tuple, Set, Dictionary, dan String.\n",
    "\n",
    "Dengan for loop kita dapat mengeksekusi satu set pernyataan, sekali untuk setiap item dalam \n",
    "list, tuple, set dll\n",
    "\n",
    "For pada python memiliki perilaku yang berbeda dengan for pada kebanyakan bahasa pemrograman yang lain, karena pada python ia sangat berkaitan dengan data sequence atau data kolektif(List, Tuple, Set, Dictionary). Mungkin kalau dibandingkan dengan bahasa lain, for pada python lebih dikenal sebagai foreach."
   ]
  },
  {
   "cell_type": "code",
   "execution_count": null,
   "metadata": {},
   "outputs": [],
   "source": [
    "#Blok Kode For Loop\n",
    "\n",
    "    #Nilai ini asalnya dari setiap item yang diekstrak dari sequence yang tentunya bersifat Iterable\n",
    "for nilai in sequence:      #Sequence disini maksudnya akan diisi oleh Object yang ITERABLE seperti List, Tuple dll.\n",
    "    #blok kode for statement    #statemen-statemen atau perintah-perintah tertentu yang akan dieksekusi secara berulang\n"
   ]
  },
  {
   "cell_type": "markdown",
   "metadata": {},
   "source": [
    "FOR dengan LIST"
   ]
  },
  {
   "cell_type": "code",
   "execution_count": 1,
   "metadata": {},
   "outputs": [
    {
     "name": "stdout",
     "output_type": "stream",
     "text": [
      "Jakarta\n",
      "Surabaya\n",
      "Depok\n",
      "Bekasi\n",
      "Solo\n",
      "Jogjakarta\n",
      "Semarang\n",
      "Makassar\n"
     ]
    }
   ],
   "source": [
    "listKota = [\n",
    "  'Jakarta', 'Surabaya', 'Depok', 'Bekasi', 'Solo',\n",
    "  'Jogjakarta', 'Semarang', 'Makassar'\n",
    "]\n",
    "\n",
    "for kota in listKota:\n",
    "  print(kota)"
   ]
  },
  {
   "cell_type": "markdown",
   "metadata": {},
   "source": [
    "Mendefinisikan kelipatan"
   ]
  },
  {
   "cell_type": "code",
   "execution_count": 9,
   "metadata": {},
   "outputs": [
    {
     "name": "stdout",
     "output_type": "stream",
     "text": [
      "i = 2\n",
      "i = 4\n",
      "i = 6\n",
      "i = 8\n",
      "i = 10\n"
     ]
    }
   ],
   "source": [
    "## Bilangan genap kelipatan 2\n",
    "for i in range(2, 12, 2):\n",
    "  print('i =', i)"
   ]
  },
  {
   "cell_type": "code",
   "execution_count": 10,
   "metadata": {},
   "outputs": [
    {
     "name": "stdout",
     "output_type": "stream",
     "text": [
      "1\n",
      "3\n",
      "5\n",
      "7\n",
      "9\n",
      "11\n"
     ]
    }
   ],
   "source": [
    "## Bilangan ganjil kelipatan 2\n",
    "for bilangan_ganjil in range(1, 12, 2):\n",
    "  print(bilangan_ganjil)"
   ]
  },
  {
   "cell_type": "code",
   "execution_count": 2,
   "metadata": {},
   "outputs": [
    {
     "name": "stdout",
     "output_type": "stream",
     "text": [
      "0\n",
      "10\n",
      "20\n",
      "30\n",
      "40\n",
      "50\n",
      "60\n",
      "70\n",
      "80\n",
      "90\n",
      "100\n"
     ]
    }
   ],
   "source": [
    "my_sequence = list(range(0,101,10))    # 0 : dimulai dari, 101: sampai, 10: interval/step\n",
    "\n",
    "for number in my_sequence:  # Create a new for loop over the specified items\n",
    "    print(number)           # Code to execute"
   ]
  },
  {
   "cell_type": "markdown",
   "metadata": {},
   "source": [
    "Mengetahui urutan iterasi for dengan list"
   ]
  },
  {
   "cell_type": "markdown",
   "metadata": {},
   "source": [
    "Mengetahui urutan yang ada pada list bisa menggunakan fungsi Enumerate atau len\n",
    "\n",
    "Fungsi tersebut akan mengekstrak 2 buah nilai:\n",
    "\n",
    "yang pertama adalah index: yaitu urutan iterasi yang ke berapa dan item yang mana itu adalah nilai dari list itu sendiri."
   ]
  },
  {
   "cell_type": "code",
   "execution_count": 3,
   "metadata": {},
   "outputs": [
    {
     "name": "stdout",
     "output_type": "stream",
     "text": [
      "0 Jakarta\n",
      "1 Surabaya\n",
      "2 Depok\n",
      "3 Bekasi\n",
      "4 Solo\n",
      "5 Jogjakarta\n",
      "6 Semarang\n",
      "7 Makassar\n"
     ]
    }
   ],
   "source": [
    "listKota = [\n",
    "  'Jakarta', 'Surabaya', 'Depok', 'Bekasi', 'Solo',\n",
    "  'Jogjakarta', 'Semarang', 'Makassar'\n",
    "]\n",
    "\n",
    "for i, kota in enumerate(listKota):\n",
    "  print(i, kota)\n",
    "  \n",
    "\n",
    "#hanya menambahkan fungsi enumerate() dan mem-passing variabel listKota sebagai parameter. Kita juga mengekstrak dua buah nilai yang kita kasih nama i dan kota"
   ]
  },
  {
   "cell_type": "code",
   "execution_count": 6,
   "metadata": {},
   "outputs": [
    {
     "name": "stdout",
     "output_type": "stream",
     "text": [
      "0 red\n",
      "1 green\n",
      "2 blue\n"
     ]
    }
   ],
   "source": [
    "colors = ['red', 'green', 'blue']\n",
    "for index in range(len(colors)):        #len sendiri untuk menghitung berapa banyak data yang ada pada list yang kita kasih nama colors\n",
    "    print(index, colors[index])         #dengan begitu 2 variabel yang kita kasih nama index dan colors akan mengambil data dari list colors\n",
    "                                        #dan menghasilkan urutan dan list yang tersedia"
   ]
  },
  {
   "cell_type": "markdown",
   "metadata": {},
   "source": [
    "For dengan fungsi range()"
   ]
  },
  {
   "cell_type": "markdown",
   "metadata": {},
   "source": [
    "Selain dengan list, kita juga bisa menggunakan for dengan fungsi range().\n",
    "\n",
    "Dengan fungsi range, kita bisa melakukan perulangan dari 0, sampai KURANG DARI nilai range yang kita definisikan"
   ]
  },
  {
   "cell_type": "code",
   "execution_count": 7,
   "metadata": {},
   "outputs": [
    {
     "name": "stdout",
     "output_type": "stream",
     "text": [
      "Perulangan ke - 0\n",
      "Perulangan ke - 1\n",
      "Perulangan ke - 2\n",
      "Perulangan ke - 3\n",
      "Perulangan ke - 4\n"
     ]
    }
   ],
   "source": [
    "## 0 sampai 4\n",
    "for i in range(5):\n",
    "  print(\"Perulangan ke -\", i)"
   ]
  },
  {
   "cell_type": "code",
   "execution_count": 8,
   "metadata": {},
   "outputs": [
    {
     "name": "stdout",
     "output_type": "stream",
     "text": [
      "Perulangan ke - 0\n",
      "Perulangan ke - 1\n",
      "Perulangan ke - 2\n",
      "Perulangan ke - 3\n",
      "Perulangan ke - 4\n",
      "Perulangan ke - 5\n",
      "Perulangan ke - 6\n"
     ]
    }
   ],
   "source": [
    "for i in range(7):\n",
    "  print(\"Perulangan ke -\", i)"
   ]
  },
  {
   "cell_type": "markdown",
   "metadata": {},
   "source": [
    "For dengan tuple\n",
    "\n",
    "Tuple adalah di antara tipe data yang bersifat iterable, sehingga kita juga bisa memperlakukannya sebagai objek perulangan mengguankan for"
   ]
  },
  {
   "cell_type": "code",
   "execution_count": 11,
   "metadata": {},
   "outputs": [
    {
     "name": "stdout",
     "output_type": "stream",
     "text": [
      "Mangga\n",
      "Jeruk\n",
      "Apel\n",
      "Pepaya\n"
     ]
    }
   ],
   "source": [
    "tupleBuah = ('Mangga', 'Jeruk', 'Apel', 'Pepaya')\n",
    "\n",
    "for buah in tupleBuah:\n",
    "  print(buah)"
   ]
  },
  {
   "cell_type": "markdown",
   "metadata": {},
   "source": [
    "For dengan string\n",
    "\n",
    "String pun demikian, bersifat iterable, sehingga bisa kita jadikan objek perulangan."
   ]
  },
  {
   "cell_type": "code",
   "execution_count": 13,
   "metadata": {},
   "outputs": [
    {
     "name": "stdout",
     "output_type": "stream",
     "text": [
      "I\n",
      "n\n",
      "d\n",
      "o\n",
      "n\n",
      "e\n",
      "s\n",
      "i\n",
      "a\n",
      "🇮\n",
      "🇩\n"
     ]
    }
   ],
   "source": [
    "for karakter in \"Indonesia🇮🇩\":\n",
    "  print(karakter)"
   ]
  },
  {
   "cell_type": "code",
   "execution_count": 14,
   "metadata": {},
   "outputs": [
    {
     "name": "stdout",
     "output_type": "stream",
     "text": [
      "P\n",
      "y\n",
      "t\n",
      "h\n",
      "o\n",
      "n\n"
     ]
    }
   ],
   "source": [
    "S = 'Python'\n",
    "for x in S:\n",
    "    print(x)"
   ]
  },
  {
   "cell_type": "markdown",
   "metadata": {},
   "source": [
    "Break dan continue\n",
    "\n",
    "Pada python, kita bisa menginterupsi dan juga men-skip suatu iterasi pada perulangan."
   ]
  },
  {
   "cell_type": "markdown",
   "metadata": {},
   "source": [
    "Terdapat 2 perintah yang bisa kita gunakan, yaitu:\n",
    "\n",
    "1. break untuk interupsi (memberhentikan paksa) sebuah perulangan\n",
    "\n",
    "2. continue untuk menskip ke iterasi selanjutnya"
   ]
  },
  {
   "cell_type": "code",
   "execution_count": 16,
   "metadata": {},
   "outputs": [
    {
     "name": "stdout",
     "output_type": "stream",
     "text": [
      "10\n",
      "11\n",
      "12\n",
      "13\n",
      "14\n"
     ]
    }
   ],
   "source": [
    "for i in range(10, 20):\n",
    "  # hentikan jika i == 15\n",
    "  if (i == 15):\n",
    "    break               #break untuk menghentikan perulangan, saat i == 15 maka looping akan dipaksa untuk berhenti meskipun angka akhirnya adalah 20\n",
    "  \n",
    "  print(i)"
   ]
  },
  {
   "cell_type": "markdown",
   "metadata": {},
   "source": [
    "Sistem akan memberhentikan perulangan ketika i == 15 dan belum sempat melakukan perintah print()"
   ]
  },
  {
   "cell_type": "code",
   "execution_count": 15,
   "metadata": {},
   "outputs": [
    {
     "name": "stdout",
     "output_type": "stream",
     "text": [
      "10\n",
      "11\n",
      "12\n",
      "13\n",
      "14\n",
      "16\n",
      "17\n",
      "18\n",
      "19\n"
     ]
    }
   ],
   "source": [
    "for i in range(10, 20):\n",
    "  # skip jika i == 15\n",
    "  if (i == 15):\n",
    "    continue            #Karena menggunakan CONTINUE maka jika i == 15 maka akan langsung loncat ke 16, yang artinya angka 15 tidak dicetak\n",
    "  \n",
    "  print(i)"
   ]
  },
  {
   "cell_type": "markdown",
   "metadata": {},
   "source": [
    "Break lainnya"
   ]
  },
  {
   "cell_type": "code",
   "execution_count": 17,
   "metadata": {},
   "outputs": [
    {
     "name": "stdout",
     "output_type": "stream",
     "text": [
      "50\n",
      "60\n",
      "70\n",
      "80\n",
      "90\n",
      "100\n"
     ]
    }
   ],
   "source": [
    "for number in my_sequence:\n",
    "    if number < 50:\n",
    "        continue              # Skip numbers less than 50\n",
    "    print(number) "
   ]
  },
  {
   "cell_type": "markdown",
   "metadata": {},
   "source": [
    "Continue lainnya dari Variabel my_sequence"
   ]
  },
  {
   "cell_type": "code",
   "execution_count": 18,
   "metadata": {},
   "outputs": [
    {
     "name": "stdout",
     "output_type": "stream",
     "text": [
      "0\n",
      "10\n",
      "20\n",
      "30\n",
      "40\n",
      "50\n"
     ]
    }
   ],
   "source": [
    "for number in my_sequence:\n",
    "    if number > 50:\n",
    "        break              # Break out of the loop if number > 50\n",
    "    print(number)     "
   ]
  },
  {
   "cell_type": "markdown",
   "metadata": {},
   "source": [
    "For … else\n",
    "\n",
    "Hampir mirip dengan if ... else.\n",
    "\n",
    "Mirip namun TUGAS nya berbeda.\n",
    "\n",
    "Perulangan for jika ditambahkan blok else, maka perintah yang ada pada blok else hanya akan dieksekusi ketika perulangan selesai secara natural –TANPA interupsi"
   ]
  },
  {
   "cell_type": "code",
   "execution_count": 19,
   "metadata": {},
   "outputs": [
    {
     "name": "stdout",
     "output_type": "stream",
     "text": [
      "Jakarta\n",
      "Surabaya\n",
      "Depok\n",
      "Bekasi\n",
      "Solo\n",
      "Jogjakarta\n",
      "Semarang\n",
      "Makassar\n",
      "Tidak ada lagi item yang tersisa\n"
     ]
    }
   ],
   "source": [
    "listKota = [\n",
    "  'Jakarta', 'Surabaya', 'Depok', 'Bekasi', 'Solo',\n",
    "  'Jogjakarta', 'Semarang', 'Makassar'\n",
    "]\n",
    "\n",
    "for kota in listKota:\n",
    "  print(kota)\n",
    "else:\n",
    "  print('Tidak ada lagi item yang tersisa')"
   ]
  },
  {
   "cell_type": "markdown",
   "metadata": {},
   "source": [
    "For … Else + Break\n",
    "\n",
    "Jika kita gabungkan for ... else dengan break, maka blok else hanya akan dieksekusi jika perintah break tidak dieksekusi.\n",
    "\n",
    "Kita bisa memanfaatkan for ... else + break untuk pencarian sebuah item pada list."
   ]
  },
  {
   "cell_type": "code",
   "execution_count": 21,
   "metadata": {},
   "outputs": [
    {
     "name": "stdout",
     "output_type": "stream",
     "text": [
      "Maaf, kota yang anda cari tidak ada\n"
     ]
    }
   ],
   "source": [
    "listKota = ['Jakarta', 'Surabaya', 'Depok', 'Bekasi', 'Solo', 'Jogjakarta', 'Semarang', 'Makassar']\n",
    "#ingat ini adalah LIST, dimulai dari 0 - N\n",
    "\n",
    "kotaYangDicari = input('Ketik nama kota yang kamu cari: ')  \n",
    "\n",
    "for i, kota in enumerate(listKota):                     # kita ubah katanya ke lowercase agar menjadi case insensitive\n",
    "  if kota.lower() == kotaYangDicari.lower():            # Jadi meskipun kita mengetikkan jakarta, maka akan mencari Jakarta\n",
    "    print('Kota yang anda cari berada pada indeks', i)\n",
    "    break\n",
    "else:\n",
    "  print('Maaf, kota yang anda cari tidak ada')"
   ]
  },
  {
   "cell_type": "markdown",
   "metadata": {},
   "source": [
    "Program di atas akan meminta user untuk menginputkan nama kota yang ingin dicari. Jika kotanya ada maka akan kita kasih info indeks-nya berapa (dalam listKota), dan jika tidak ada maka perintah print() yang ada di blok else akan dieksekusi."
   ]
  },
  {
   "cell_type": "markdown",
   "metadata": {},
   "source": [
    "Nah, harusnya sekarang sudah lebih jelas bagaimana cara for ... else bekerja, dan kapan blok kode else akan dieksekusi. Dia hanya akan dieksekusi ketika perulangan mencapai titik akhirnya (alias sudah tidak ada iterasi lagi yang tersisa).\n",
    "\n",
    "Ada pun jika sebuah perulangan for dihentikan paksa dengan perintah break, maka perintah yang ada pada blok else tidak akan dieksekusi.\n",
    "\n",
    "Kode Program Lengkap"
   ]
  },
  {
   "cell_type": "markdown",
   "metadata": {},
   "source": [
    "LOOPING THROUGH MULTIPLE LISTS"
   ]
  },
  {
   "cell_type": "markdown",
   "metadata": {},
   "source": [
    "Lalu bagaimana jika ada 2 list dan kita ingin melakukan For Loop pada keduanya?"
   ]
  },
  {
   "cell_type": "code",
   "execution_count": 22,
   "metadata": {},
   "outputs": [
    {
     "name": "stdout",
     "output_type": "stream",
     "text": [
      "Bom 20 Single\n",
      "Sam 21 Married\n",
      "Jaka 22 Married\n"
     ]
    }
   ],
   "source": [
    "names = ['Bom', 'Sam', 'Jaka']\n",
    "ages = [20, 21, 22]\n",
    "status = ['Single', 'Married', 'Married']\n",
    "\n",
    "for x, y, z in zip(names, ages, status):\n",
    "  print(x, y, z)"
   ]
  }
 ],
 "metadata": {
  "kernelspec": {
   "display_name": "Python 3.9.12 ('base')",
   "language": "python",
   "name": "python3"
  },
  "language_info": {
   "codemirror_mode": {
    "name": "ipython",
    "version": 3
   },
   "file_extension": ".py",
   "mimetype": "text/x-python",
   "name": "python",
   "nbconvert_exporter": "python",
   "pygments_lexer": "ipython3",
   "version": "3.9.12"
  },
  "orig_nbformat": 4,
  "vscode": {
   "interpreter": {
    "hash": "fe087a48aed1072ae97c1a59fe03ae759e22e8e25f54db6aadaa73caa8b774a1"
   }
  }
 },
 "nbformat": 4,
 "nbformat_minor": 2
}
