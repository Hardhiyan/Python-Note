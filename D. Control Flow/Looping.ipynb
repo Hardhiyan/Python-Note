{
 "cells": [
  {
   "cell_type": "markdown",
   "metadata": {},
   "source": [
    "LOOPING"
   ]
  },
  {
   "cell_type": "markdown",
   "metadata": {},
   "source": [
    "Perulangan dalam dunia pemrograman adalah baris kode atau instruksi yang dieksekusi oleh komputer secara berulang-ulang sampai suatu kondisi tertentu terpenuhi [1]. Konsep perulangan ini didukung di semua bahasa pemrograman modern, termasuk di antaranya adalah python.\n",
    "\n",
    "Dengan perulangan, kita bisa mengeksekusi suatu kode program berkali-kali dengan jumlah tertentu, atau selama sebuah kondisi tertentu terpenuhi.\n",
    "\n",
    "Perulangan hampir sama dengan Percabangan pada Pyton. Namun tentu ada perbedaannya\n",
    "\n",
    "• Kalau percabangan, blok kode yang memenuhi kondisi tertentu hanya akan dieksekusi satu kali saja.\n",
    "\n",
    "• Sedangkan perulangan, ia akan dilakukan seterusnya berulang-ulang dengan jumlah tertentu atau selama kondisi tertentu terpenuhi.\n",
    "\n",
    "Di dalam bahasa pemrograman Python pengulangan dibagi menjadi 2 Jenis, yaitu :\n",
    "\n",
    "• For Loop\n",
    "\n",
    "• While Loop\n",
    "\n",
    "Ada juga Fungsi Rekursif, namun hal tersebut akan di bahas dilain Notebook\n"
   ]
  },
  {
   "cell_type": "markdown",
   "metadata": {},
   "source": [
    "FOR LOOP\n",
    "\n",
    "Perulangan for pada python adalah perintah yang digunakan untuk melakukan iterasi dari sebuah nilai sequence atau data koleksi pada python seperti List, Tuple, Set, Dictionary, dan String.\n",
    "\n",
    "Dengan for loop kita dapat mengeksekusi satu set pernyataan, sekali untuk setiap item dalam \n",
    "list, tuple, set dll\n",
    "\n",
    "For pada python memiliki perilaku yang berbeda dengan for pada kebanyakan bahasa pemrograman yang lain, karena pada python ia sangat berkaitan dengan data sequence atau data kolektif(List, Tuple, Set, Dictionary). Mungkin kalau dibandingkan dengan bahasa lain, for pada python lebih dikenal sebagai foreach."
   ]
  },
  {
   "cell_type": "code",
   "execution_count": null,
   "metadata": {},
   "outputs": [],
   "source": [
    "#Blok Kode For Loop\n",
    "\n",
    "    #Nilai ini asalnya dari setiap item yang diekstrak dari sequence yang tentunya bersifat Iterable\n",
    "for nilai in sequence:      #Sequence disini maksudnya akan diisi oleh Object yang ITERABLE seperti List, Tuple dll.\n",
    "    #blok kode for statement    #statemen-statemen atau perintah-perintah tertentu yang akan dieksekusi secara berulang\n"
   ]
  },
  {
   "cell_type": "markdown",
   "metadata": {},
   "source": [
    "FOR dengan LIST"
   ]
  },
  {
   "cell_type": "code",
   "execution_count": 1,
   "metadata": {},
   "outputs": [
    {
     "name": "stdout",
     "output_type": "stream",
     "text": [
      "Jakarta\n",
      "Surabaya\n",
      "Depok\n",
      "Bekasi\n",
      "Solo\n",
      "Jogjakarta\n",
      "Semarang\n",
      "Makassar\n"
     ]
    }
   ],
   "source": [
    "listKota = [\n",
    "  'Jakarta', 'Surabaya', 'Depok', 'Bekasi', 'Solo',\n",
    "  'Jogjakarta', 'Semarang', 'Makassar'\n",
    "]\n",
    "\n",
    "for kota in listKota:\n",
    "  print(kota)"
   ]
  },
  {
   "cell_type": "markdown",
   "metadata": {},
   "source": [
    "Mendefinisikan kelipatan"
   ]
  },
  {
   "cell_type": "code",
   "execution_count": 9,
   "metadata": {},
   "outputs": [
    {
     "name": "stdout",
     "output_type": "stream",
     "text": [
      "i = 2\n",
      "i = 4\n",
      "i = 6\n",
      "i = 8\n",
      "i = 10\n"
     ]
    }
   ],
   "source": [
    "## Bilangan genap kelipatan 2\n",
    "for i in range(2, 12, 2):\n",
    "  print('i =', i)"
   ]
  },
  {
   "cell_type": "code",
   "execution_count": 10,
   "metadata": {},
   "outputs": [
    {
     "name": "stdout",
     "output_type": "stream",
     "text": [
      "1\n",
      "3\n",
      "5\n",
      "7\n",
      "9\n",
      "11\n"
     ]
    }
   ],
   "source": [
    "## Bilangan ganjil kelipatan 2\n",
    "for bilangan_ganjil in range(1, 12, 2):\n",
    "  print(bilangan_ganjil)"
   ]
  },
  {
   "cell_type": "code",
   "execution_count": 2,
   "metadata": {},
   "outputs": [
    {
     "name": "stdout",
     "output_type": "stream",
     "text": [
      "0\n",
      "10\n",
      "20\n",
      "30\n",
      "40\n",
      "50\n",
      "60\n",
      "70\n",
      "80\n",
      "90\n",
      "100\n"
     ]
    }
   ],
   "source": [
    "my_sequence = list(range(0,101,10))    # 0 : dimulai dari, 101: sampai, 10: interval/step\n",
    "\n",
    "for number in my_sequence:  # Create a new for loop over the specified items\n",
    "    print(number)           # Code to execute"
   ]
  },
  {
   "cell_type": "markdown",
   "metadata": {},
   "source": [
    "Mengetahui urutan iterasi for dengan list"
   ]
  },
  {
   "cell_type": "markdown",
   "metadata": {},
   "source": [
    "Mengetahui urutan yang ada pada list bisa menggunakan fungsi Enumerate atau len\n",
    "\n",
    "Fungsi tersebut akan mengekstrak 2 buah nilai:\n",
    "\n",
    "yang pertama adalah index: yaitu urutan iterasi yang ke berapa dan item yang mana itu adalah nilai dari list itu sendiri."
   ]
  },
  {
   "cell_type": "code",
   "execution_count": 3,
   "metadata": {},
   "outputs": [
    {
     "name": "stdout",
     "output_type": "stream",
     "text": [
      "0 Jakarta\n",
      "1 Surabaya\n",
      "2 Depok\n",
      "3 Bekasi\n",
      "4 Solo\n",
      "5 Jogjakarta\n",
      "6 Semarang\n",
      "7 Makassar\n"
     ]
    }
   ],
   "source": [
    "listKota = [\n",
    "  'Jakarta', 'Surabaya', 'Depok', 'Bekasi', 'Solo',\n",
    "  'Jogjakarta', 'Semarang', 'Makassar'\n",
    "]\n",
    "\n",
    "for i, kota in enumerate(listKota):\n",
    "  print(i, kota)\n",
    "  \n",
    "\n",
    "#hanya menambahkan fungsi enumerate() dan mem-passing variabel listKota sebagai parameter. Kita juga mengekstrak dua buah nilai yang kita kasih nama i dan kota"
   ]
  },
  {
   "cell_type": "code",
   "execution_count": 6,
   "metadata": {},
   "outputs": [
    {
     "name": "stdout",
     "output_type": "stream",
     "text": [
      "0 red\n",
      "1 green\n",
      "2 blue\n"
     ]
    }
   ],
   "source": [
    "colors = ['red', 'green', 'blue']\n",
    "for index in range(len(colors)):        #len sendiri untuk menghitung berapa banyak data yang ada pada list yang kita kasih nama colors\n",
    "    print(index, colors[index])         #dengan begitu 2 variabel yang kita kasih nama index dan colors akan mengambil data dari list colors\n",
    "                                        #dan menghasilkan urutan dan list yang tersedia"
   ]
  },
  {
   "cell_type": "markdown",
   "metadata": {},
   "source": [
    "For dengan fungsi range()"
   ]
  },
  {
   "cell_type": "markdown",
   "metadata": {},
   "source": [
    "Selain dengan list, kita juga bisa menggunakan for dengan fungsi range().\n",
    "\n",
    "Dengan fungsi range, kita bisa melakukan perulangan dari 0, sampai KURANG DARI nilai range yang kita definisikan"
   ]
  },
  {
   "cell_type": "code",
   "execution_count": 7,
   "metadata": {},
   "outputs": [
    {
     "name": "stdout",
     "output_type": "stream",
     "text": [
      "Perulangan ke - 0\n",
      "Perulangan ke - 1\n",
      "Perulangan ke - 2\n",
      "Perulangan ke - 3\n",
      "Perulangan ke - 4\n"
     ]
    }
   ],
   "source": [
    "## 0 sampai 4\n",
    "for i in range(5):\n",
    "  print(\"Perulangan ke -\", i)"
   ]
  },
  {
   "cell_type": "code",
   "execution_count": 8,
   "metadata": {},
   "outputs": [
    {
     "name": "stdout",
     "output_type": "stream",
     "text": [
      "Perulangan ke - 0\n",
      "Perulangan ke - 1\n",
      "Perulangan ke - 2\n",
      "Perulangan ke - 3\n",
      "Perulangan ke - 4\n",
      "Perulangan ke - 5\n",
      "Perulangan ke - 6\n"
     ]
    }
   ],
   "source": [
    "for i in range(7):\n",
    "  print(\"Perulangan ke -\", i)"
   ]
  },
  {
   "cell_type": "markdown",
   "metadata": {},
   "source": [
    "For dengan tuple\n",
    "\n",
    "Tuple adalah di antara tipe data yang bersifat iterable, sehingga kita juga bisa memperlakukannya sebagai objek perulangan mengguankan for"
   ]
  },
  {
   "cell_type": "code",
   "execution_count": 11,
   "metadata": {},
   "outputs": [
    {
     "name": "stdout",
     "output_type": "stream",
     "text": [
      "Mangga\n",
      "Jeruk\n",
      "Apel\n",
      "Pepaya\n"
     ]
    }
   ],
   "source": [
    "tupleBuah = ('Mangga', 'Jeruk', 'Apel', 'Pepaya')\n",
    "\n",
    "for buah in tupleBuah:\n",
    "  print(buah)"
   ]
  },
  {
   "cell_type": "markdown",
   "metadata": {},
   "source": [
    "For dengan string\n",
    "\n",
    "String pun demikian, bersifat iterable, sehingga bisa kita jadikan objek perulangan."
   ]
  },
  {
   "cell_type": "code",
   "execution_count": 13,
   "metadata": {},
   "outputs": [
    {
     "name": "stdout",
     "output_type": "stream",
     "text": [
      "I\n",
      "n\n",
      "d\n",
      "o\n",
      "n\n",
      "e\n",
      "s\n",
      "i\n",
      "a\n",
      "🇮\n",
      "🇩\n"
     ]
    }
   ],
   "source": [
    "for karakter in \"Indonesia🇮🇩\":\n",
    "  print(karakter)"
   ]
  },
  {
   "cell_type": "code",
   "execution_count": 14,
   "metadata": {},
   "outputs": [
    {
     "name": "stdout",
     "output_type": "stream",
     "text": [
      "P\n",
      "y\n",
      "t\n",
      "h\n",
      "o\n",
      "n\n"
     ]
    }
   ],
   "source": [
    "S = 'Python'\n",
    "for x in S:\n",
    "    print(x)"
   ]
  },
  {
   "cell_type": "markdown",
   "metadata": {},
   "source": [
    "Break dan continue\n",
    "\n",
    "Pada python, kita bisa menginterupsi dan juga men-skip suatu iterasi pada perulangan."
   ]
  },
  {
   "cell_type": "markdown",
   "metadata": {},
   "source": [
    "Terdapat 2 perintah yang bisa kita gunakan, yaitu:\n",
    "\n",
    "1. break untuk interupsi (memberhentikan paksa) sebuah perulangan\n",
    "\n",
    "2. continue untuk menskip ke iterasi selanjutnya"
   ]
  },
  {
   "cell_type": "code",
   "execution_count": 16,
   "metadata": {},
   "outputs": [
    {
     "name": "stdout",
     "output_type": "stream",
     "text": [
      "10\n",
      "11\n",
      "12\n",
      "13\n",
      "14\n"
     ]
    }
   ],
   "source": [
    "for i in range(10, 20):\n",
    "  # hentikan jika i == 15\n",
    "  if (i == 15):\n",
    "    break               #break untuk menghentikan perulangan, saat i == 15 maka looping akan dipaksa untuk berhenti meskipun angka akhirnya adalah 20\n",
    "  \n",
    "  print(i)"
   ]
  },
  {
   "cell_type": "markdown",
   "metadata": {},
   "source": [
    "Sistem akan memberhentikan perulangan ketika i == 15 dan belum sempat melakukan perintah print()"
   ]
  },
  {
   "cell_type": "code",
   "execution_count": 15,
   "metadata": {},
   "outputs": [
    {
     "name": "stdout",
     "output_type": "stream",
     "text": [
      "10\n",
      "11\n",
      "12\n",
      "13\n",
      "14\n",
      "16\n",
      "17\n",
      "18\n",
      "19\n"
     ]
    }
   ],
   "source": [
    "for i in range(10, 20):\n",
    "  # skip jika i == 15\n",
    "  if (i == 15):\n",
    "    continue            #Karena menggunakan CONTINUE maka jika i == 15 maka akan langsung loncat ke 16, yang artinya angka 15 tidak dicetak\n",
    "  \n",
    "  print(i)"
   ]
  },
  {
   "cell_type": "markdown",
   "metadata": {},
   "source": [
    "Break lainnya"
   ]
  },
  {
   "cell_type": "code",
   "execution_count": 17,
   "metadata": {},
   "outputs": [
    {
     "name": "stdout",
     "output_type": "stream",
     "text": [
      "50\n",
      "60\n",
      "70\n",
      "80\n",
      "90\n",
      "100\n"
     ]
    }
   ],
   "source": [
    "for number in my_sequence:\n",
    "    if number < 50:\n",
    "        continue              # Skip numbers less than 50\n",
    "    print(number) "
   ]
  },
  {
   "cell_type": "markdown",
   "metadata": {},
   "source": [
    "Continue lainnya dari Variabel my_sequence"
   ]
  },
  {
   "cell_type": "code",
   "execution_count": 18,
   "metadata": {},
   "outputs": [
    {
     "name": "stdout",
     "output_type": "stream",
     "text": [
      "0\n",
      "10\n",
      "20\n",
      "30\n",
      "40\n",
      "50\n"
     ]
    }
   ],
   "source": [
    "for number in my_sequence:\n",
    "    if number > 50:\n",
    "        break              # Break out of the loop if number > 50\n",
    "    print(number)     "
   ]
  },
  {
   "cell_type": "markdown",
   "metadata": {},
   "source": [
    "For … else\n",
    "\n",
    "Hampir mirip dengan if ... else.\n",
    "\n",
    "Mirip namun TUGAS nya berbeda.\n",
    "\n",
    "Perulangan for jika ditambahkan blok else, maka perintah yang ada pada blok else hanya akan dieksekusi ketika perulangan selesai secara natural –TANPA interupsi"
   ]
  },
  {
   "cell_type": "code",
   "execution_count": 19,
   "metadata": {},
   "outputs": [
    {
     "name": "stdout",
     "output_type": "stream",
     "text": [
      "Jakarta\n",
      "Surabaya\n",
      "Depok\n",
      "Bekasi\n",
      "Solo\n",
      "Jogjakarta\n",
      "Semarang\n",
      "Makassar\n",
      "Tidak ada lagi item yang tersisa\n"
     ]
    }
   ],
   "source": [
    "listKota = [\n",
    "  'Jakarta', 'Surabaya', 'Depok', 'Bekasi', 'Solo',\n",
    "  'Jogjakarta', 'Semarang', 'Makassar'\n",
    "]\n",
    "\n",
    "for kota in listKota:\n",
    "  print(kota)\n",
    "else:\n",
    "  print('Tidak ada lagi item yang tersisa')"
   ]
  },
  {
   "cell_type": "markdown",
   "metadata": {},
   "source": [
    "For … Else + Break\n",
    "\n",
    "Jika kita gabungkan for ... else dengan break, maka blok else hanya akan dieksekusi jika perintah break tidak dieksekusi.\n",
    "\n",
    "Kita bisa memanfaatkan for ... else + break untuk pencarian sebuah item pada list."
   ]
  },
  {
   "cell_type": "code",
   "execution_count": 21,
   "metadata": {},
   "outputs": [
    {
     "name": "stdout",
     "output_type": "stream",
     "text": [
      "Maaf, kota yang anda cari tidak ada\n"
     ]
    }
   ],
   "source": [
    "listKota = ['Jakarta', 'Surabaya', 'Depok', 'Bekasi', 'Solo', 'Jogjakarta', 'Semarang', 'Makassar']\n",
    "#ingat ini adalah LIST, dimulai dari 0 - N\n",
    "\n",
    "kotaYangDicari = input('Ketik nama kota yang kamu cari: ')  \n",
    "\n",
    "for i, kota in enumerate(listKota):                     # kita ubah katanya ke lowercase agar menjadi case insensitive\n",
    "  if kota.lower() == kotaYangDicari.lower():            # Jadi meskipun kita mengetikkan jakarta, maka akan mencari Jakarta\n",
    "    print('Kota yang anda cari berada pada indeks', i)\n",
    "    break\n",
    "else:\n",
    "  print('Maaf, kota yang anda cari tidak ada')"
   ]
  },
  {
   "cell_type": "markdown",
   "metadata": {},
   "source": [
    "Program di atas akan meminta user untuk menginputkan nama kota yang ingin dicari. Jika kotanya ada maka akan kita kasih info indeks-nya berapa (dalam listKota), dan jika tidak ada maka perintah print() yang ada di blok else akan dieksekusi."
   ]
  },
  {
   "cell_type": "markdown",
   "metadata": {},
   "source": [
    "Nah, harusnya sekarang sudah lebih jelas bagaimana cara for ... else bekerja, dan kapan blok kode else akan dieksekusi. Dia hanya akan dieksekusi ketika perulangan mencapai titik akhirnya (alias sudah tidak ada iterasi lagi yang tersisa).\n",
    "\n",
    "Ada pun jika sebuah perulangan for dihentikan paksa dengan perintah break, maka perintah yang ada pada blok else tidak akan dieksekusi.\n",
    "\n",
    "Kode Program Lengkap"
   ]
  },
  {
   "cell_type": "markdown",
   "metadata": {},
   "source": [
    "LOOPING THROUGH MULTIPLE LISTS"
   ]
  },
  {
   "cell_type": "markdown",
   "metadata": {},
   "source": [
    "Lalu bagaimana jika ada 2 list dan kita ingin melakukan For Loop pada keduanya?"
   ]
  },
  {
   "cell_type": "code",
   "execution_count": 22,
   "metadata": {},
   "outputs": [
    {
     "name": "stdout",
     "output_type": "stream",
     "text": [
      "Bom 20 Single\n",
      "Sam 21 Married\n",
      "Jaka 22 Married\n"
     ]
    }
   ],
   "source": [
    "names = ['Bom', 'Sam', 'Jaka']\n",
    "ages = [20, 21, 22]\n",
    "status = ['Single', 'Married', 'Married']\n",
    "\n",
    "for x, y, z in zip(names, ages, status):\n",
    "  print(x, y, z)"
   ]
  },
  {
   "cell_type": "markdown",
   "metadata": {},
   "source": [
    "WHILE LOOP"
   ]
  },
  {
   "cell_type": "markdown",
   "metadata": {},
   "source": [
    "Apa Itu Perulangan While Pada Python?\n",
    "\n",
    "Perulangan while pada python adalah proses pengulangan suatu blok kode program selama sebuah kondisi terpenuhi atau benar atau TRUE\n",
    "\n",
    "Singkatnya, perulangan while adalah perulangan yang bersifat indefinite alias tidak pasti, atau bahkan tidak terbatas\n",
    "\n",
    "While loop biasanya dimulai dari \n",
    "keyword while dan dilanjutkan oleh \n",
    "condition statement di dalam kurung \n",
    "while(statement):"
   ]
  },
  {
   "cell_type": "markdown",
   "metadata": {},
   "source": [
    "Sebuah blok kode akan dilakukan terus-menerus selama suatu kondisi terpenuhi. Jika suatu kondisi ternyata tidak terpenuhi pada iterasi ke 10, maka perulangan akan berhenti. Jika kondisi yang sama pada saat yang berbeda ternyata berhenti pada iterasi ke 100, maka perulangan akan berhenti pada jumlah tersebut."
   ]
  },
  {
   "cell_type": "markdown",
   "metadata": {},
   "source": [
    "Terdapat 3 komponen utama:\n",
    "\n",
    "Yang pertama adalah keyword while, ini harus kita isi.\n",
    "\n",
    "Yang kedua adalah <kondisi>: ini bisa berupa variabel boolean atau ekspresi logika.\n",
    "\n",
    "Dan yang terakhir adalah blok (atau kumpulan baris) kode yang akan diulang-ulang sampai kondisi terpenuhi"
   ]
  },
  {
   "cell_type": "markdown",
   "metadata": {},
   "source": [
    "Perulangan while sangat berkaitan dengan variabel boolean, atau logical statement. Karena penentuan kapan suatu blok kode akan diulang-ulang ditinjau dari True or False dari suatu pernyataan logika.\n",
    "\n",
    "Sehingga jika suatu kondisi itu selalu benar, maka perulangannya pun akan selalu di eksekusi."
   ]
  },
  {
   "cell_type": "code",
   "execution_count": null,
   "metadata": {},
   "outputs": [],
   "source": [
    "while (1 + 2 == 3):\n",
    "  print('Halo dunia!') #Infinite Loop"
   ]
  },
  {
   "cell_type": "markdown",
   "metadata": {},
   "source": [
    "Kenapa perulangan di atas dieksekusi terus menerus?\n",
    "\n",
    "Karena kita memerintahkan komputer untuk menulis “Hello World” selama satu ditambah dua sama dengan tiga.\n",
    "\n",
    "Pertanyaannya: apakah satu ditambah dua sama dengan tiga terus-menerus atau tidak?\n",
    "\n",
    "Jawabannya iya! Oleh karena itu sistem melakukan iterasi tak terbatas."
   ]
  },
  {
   "cell_type": "markdown",
   "metadata": {},
   "source": [
    "Lalu bagaimana kita harus menghadapi WHILE INFINITE LOOP?\n",
    "\n",
    "The continue and break statements work inside while loops just like they do in for loops. You can use the break statement to escape a while loop even if the logical expression you supplied is true.\n",
    "\n",
    "Ketika perintah break dipanggil, maka perulangan akan dihentikan secara paksa.\n",
    "\n",
    "Bisa juga dengan menambahkan increment."
   ]
  },
  {
   "cell_type": "code",
   "execution_count": 24,
   "metadata": {},
   "outputs": [
    {
     "name": "stdout",
     "output_type": "stream",
     "text": [
      "Study\n"
     ]
    }
   ],
   "source": [
    "while True:            # True is always true!\n",
    "    print(\"Study\")\n",
    "    break              # But we break out of the loop here"
   ]
  },
  {
   "cell_type": "code",
   "execution_count": 1,
   "metadata": {},
   "outputs": [
    {
     "name": "stdout",
     "output_type": "stream",
     "text": [
      "Bukan Jakarta\n",
      "Bukan Surabaya\n",
      "Bukan Depok\n",
      "Bukan Bekasi\n",
      "Bukan Solo\n",
      "Bukan Jogjakarta\n",
      "Bukan Semarang\n",
      "Bukan Makassar\n"
     ]
    }
   ],
   "source": [
    "listKota = ['Jakarta', 'Surabaya', 'Depok', 'Bekasi', 'Solo', 'Jogjakarta', 'Semarang', 'Makassar']\n",
    "            #   0           1         2         3        4          5           6           7\n",
    "kotaYangDicari = input('Masukkan nama kota yang dicari: ')\n",
    "\n",
    "i = 0\n",
    "while i < len(listKota):\n",
    "  if listKota[i].lower() == kotaYangDicari.lower():\n",
    "    print('Ketemu di index', i)\n",
    "    break\n",
    "\n",
    "  print('Bukan', listKota[i])\n",
    "  i += 1"
   ]
  },
  {
   "cell_type": "markdown",
   "metadata": {},
   "source": [
    "while dengan continue"
   ]
  },
  {
   "cell_type": "markdown",
   "metadata": {},
   "source": [
    "Sama dengan perulangan for, kita juga bisa menggunakan perintah continue pada perulangan while.\n",
    "\n",
    "Apa itu perintah continue?\n",
    "\n",
    "Perintah continue berfungsi untuk men-skip iterasi sekarang ke iterasi selanjutnya."
   ]
  },
  {
   "cell_type": "code",
   "execution_count": 35,
   "metadata": {},
   "outputs": [
    {
     "name": "stdout",
     "output_type": "stream",
     "text": [
      "Jakarta\n",
      "Surabaya\n",
      "skip\n",
      "Bekasi\n",
      "skip\n",
      "Jogjakarta\n",
      "skip\n",
      "Makassar\n",
      "skip\n"
     ]
    }
   ],
   "source": [
    "listKota = ['Jakarta', 'Surabaya', 'Depok', 'Bekasi', 'Solo', 'Jogjakarta', 'Semarang', 'Makassar']\n",
    "            #   0           1         2         3        4          5           6           7\n",
    "# skip jika i adalah bilangan genap\n",
    "# dan i lebih dari 0\n",
    "i = -1\n",
    "while i < len(listKota):\n",
    "  i += 1\n",
    "  if i % 2 == 0 and i > 0:\n",
    "    print('skip')\n",
    "    continue\n",
    "\n",
    "  # tidak dieksekusi ketika continue dipanggil\n",
    "  print(listKota[i])"
   ]
  },
  {
   "cell_type": "markdown",
   "metadata": {},
   "source": [
    "Pada output di atas, ketika i-nya adalah bilangan genap yang lebih dari satu, perintah print(listKota[i]) tidak dieksekusi dan justru di-skip.\n",
    "\n"
   ]
  },
  {
   "cell_type": "markdown",
   "metadata": {},
   "source": [
    "WHILE LOOP \n",
    "\n",
    "dengan Kondisi IF"
   ]
  },
  {
   "cell_type": "code",
   "execution_count": 32,
   "metadata": {},
   "outputs": [
    {
     "name": "stdout",
     "output_type": "stream",
     "text": [
      "6\n",
      "5\n",
      "4\n"
     ]
    }
   ],
   "source": [
    "x = 6\n",
    "while x:\n",
    "    print(x) \n",
    "    x -= 1\n",
    "    if x == 3:\n",
    "        break"
   ]
  },
  {
   "cell_type": "code",
   "execution_count": 25,
   "metadata": {},
   "outputs": [
    {
     "name": "stdout",
     "output_type": "stream",
     "text": [
      "1\n",
      "2\n",
      "3\n",
      "4\n",
      "5\n"
     ]
    }
   ],
   "source": [
    "i = 1\n",
    "\n",
    "while i <= 5:\n",
    "  print(i)\n",
    "  i += 1        #increment i by 1"
   ]
  },
  {
   "cell_type": "markdown",
   "metadata": {},
   "source": [
    "kita buat kondisinya bersifat dinamis (alias bisa berubah-ubah).\n",
    "\n",
    "kita menginstruksikan sistem untuk:\n",
    "\n",
    "Melakukan perulangan selama variabel i kurang dari atau sama dengan 5.\n",
    "\n",
    "Setiap kali iterasi, sistem akan menampilkan nilai dari i.\n",
    "\n",
    "Dan yang terakhir, pada setiap iterasi, sistem akan menambahkan nilai i dengan angka 1."
   ]
  },
  {
   "cell_type": "code",
   "execution_count": 23,
   "metadata": {},
   "outputs": [
    {
     "name": "stdout",
     "output_type": "stream",
     "text": [
      "Study\n",
      "Study\n",
      "Study\n",
      "Study\n",
      "Study\n"
     ]
    }
   ],
   "source": [
    "x = 5\n",
    "y = 0\n",
    "\n",
    "while y < x:      # Execute the contents as long as iters < x\n",
    "    print(\"Study\")\n",
    "    y = y+1   # Increment iters by 1 each time the loop executes"
   ]
  },
  {
   "cell_type": "markdown",
   "metadata": {},
   "source": [
    "Perulangan while untuk LIST"
   ]
  },
  {
   "cell_type": "markdown",
   "metadata": {},
   "source": [
    "Untuk menampilkan Item pada List, perulangan For Loop adalah salah satu cara terbaik.\n",
    "\n",
    "namun bukan berarti while loop tidak bisa melakukannya.\n"
   ]
  },
  {
   "cell_type": "code",
   "execution_count": 28,
   "metadata": {},
   "outputs": [
    {
     "name": "stdout",
     "output_type": "stream",
     "text": [
      "Jakarta\n",
      "Surabaya\n",
      "Depok\n",
      "Bekasi\n",
      "Solo\n",
      "Jogjakarta\n",
      "Semarang\n",
      "Makassar\n"
     ]
    }
   ],
   "source": [
    "listKota = ['Jakarta', 'Surabaya', 'Depok', 'Bekasi', 'Solo','Jogjakarta', 'Semarang', 'Makassar']\n",
    "\n",
    "# bermain index\n",
    "i = 0\n",
    "while i < len(listKota):\n",
    "  print(listKota[i])\n",
    "  i += 1                # Jumlah Increment / langkah yang diinginkan"
   ]
  },
  {
   "cell_type": "code",
   "execution_count": 29,
   "metadata": {},
   "outputs": [
    {
     "name": "stdout",
     "output_type": "stream",
     "text": [
      "Jakarta\n",
      "Surabaya\n",
      "Depok\n",
      "Bekasi\n",
      "Solo\n",
      "Jogjakarta\n",
      "Semarang\n",
      "Makassar\n"
     ]
    }
   ],
   "source": [
    "while listKota:\n",
    "  print(listKota.pop(0))"
   ]
  },
  {
   "cell_type": "code",
   "execution_count": 30,
   "metadata": {},
   "outputs": [
    {
     "name": "stdout",
     "output_type": "stream",
     "text": [
      "blue\n",
      "green\n",
      "red\n"
     ]
    }
   ],
   "source": [
    "o = ['red', 'green', 'blue']\n",
    "while o:\n",
    "    print(o.pop())"
   ]
  },
  {
   "cell_type": "markdown",
   "metadata": {},
   "source": [
    "while dengan inputan\n",
    "\n"
   ]
  },
  {
   "cell_type": "code",
   "execution_count": 34,
   "metadata": {},
   "outputs": [
    {
     "name": "stdout",
     "output_type": "stream",
     "text": [
      "Benar\n"
     ]
    }
   ],
   "source": [
    "a = int(input('Masukkan bilangan ganjil lebih dari 50: '))\n",
    "\n",
    "while a % 2 != 1 or a <= 50:\n",
    "  a = int(input('Salah, masukkan lagi: '))              #Jika User memasukkan bilangan kurang dari 50 maka Inputan akan diulang\n",
    "\n",
    "print('Benar')"
   ]
  },
  {
   "cell_type": "markdown",
   "metadata": {},
   "source": [
    "while … else"
   ]
  },
  {
   "cell_type": "markdown",
   "metadata": {},
   "source": [
    "Sama seperti for, kita juga bisa menggunakan blok kode else pada perulangan while.\n",
    "\n",
    "Tugasnya pun sama: yaitu untuk mendefinisikan suatu tugas yang akan dieksekusi ketika perulangan telah selesai secara natural tanpa dihentikan secara paksa.\n",
    "\n",
    "Kita coba ubah program pencarian kota di atas dengan menambahkan blok kode else"
   ]
  },
  {
   "cell_type": "code",
   "execution_count": 2,
   "metadata": {},
   "outputs": [
    {
     "name": "stdout",
     "output_type": "stream",
     "text": [
      "Bukan  Jakarta\n",
      "Bukan  Surabaya\n",
      "Bukan  Depok\n",
      "Bukan  Bekasi\n",
      "Ketemu di index 4\n"
     ]
    }
   ],
   "source": [
    "listKota = ['Jakarta', 'Surabaya', 'Depok', 'Bekasi', 'Solo', 'Jogjakarta', 'Semarang', 'Makassar']\n",
    "\n",
    "kotaYangDicari = input('Masukkan nama kota yang dicari: ')\n",
    "\n",
    "i = 0\n",
    "while i < len(listKota):\n",
    "  if listKota[i].lower() == kotaYangDicari.lower():\n",
    "    print('Ketemu di index', i)\n",
    "    break\n",
    "\n",
    "  print('Bukan ', listKota[i])\n",
    "  i += 1\n",
    "else:\n",
    "  print('Maaf, kota yang anda cari tidak ditemukan.')"
   ]
  },
  {
   "cell_type": "markdown",
   "metadata": {},
   "source": [
    "Di sini perintah yang ada di blok kode else tidak dieksekusi oleh sistem. Kenapa? Karena perulangannya diberhentikan secara paksa dengan perintah break, bukan karena berhenti secara natural"
   ]
  },
  {
   "cell_type": "markdown",
   "metadata": {},
   "source": [
    "Kapan harus menggunakan for, dan kapan harus menggunakan while?"
   ]
  },
  {
   "cell_type": "markdown",
   "metadata": {},
   "source": [
    "Sebenarnya tidak ada acuan yang sangat baku, karena banyak sekali kasus-kasus yang bisa diselesaikan dengan menggunakan keduanya.\n",
    "\n",
    "Tapi, kalau memang ingin sebuah jawaban:\n",
    "\n",
    "1. Kalian bisa menggunakan for untuk kasus-kasus yang berkaitan dengan data sequence pada python, atau untuk kasus yang sudah jelas jumlah perulangannya berapa.\n",
    "\n",
    "2. Dan kalian bisa menggunakan while jika memang perulangannya tidak jelas akan dilakukan berapa banyak"
   ]
  },
  {
   "cell_type": "markdown",
   "metadata": {},
   "source": [
    "NESTED LOOP / PERULANGAN BERTINGKAT"
   ]
  }
 ],
 "metadata": {
  "kernelspec": {
   "display_name": "Python 3.10.4 64-bit",
   "language": "python",
   "name": "python3"
  },
  "language_info": {
   "codemirror_mode": {
    "name": "ipython",
    "version": 3
   },
   "file_extension": ".py",
   "mimetype": "text/x-python",
   "name": "python",
   "nbconvert_exporter": "python",
   "pygments_lexer": "ipython3",
   "version": "3.10.4"
  },
  "orig_nbformat": 4,
  "vscode": {
   "interpreter": {
    "hash": "48ec332f34da26a12a31a27950beb3623cfc914f965794f492d93a6b4d71cf89"
   }
  }
 },
 "nbformat": 4,
 "nbformat_minor": 2
}
