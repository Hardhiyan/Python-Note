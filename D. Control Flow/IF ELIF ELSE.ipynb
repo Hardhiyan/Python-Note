{
 "cells": [
  {
   "cell_type": "markdown",
   "metadata": {},
   "source": [
    "Although Python is a popular tool for data analysis, it is a general-purpose programming language that wasn't designed specifically for that task. It is important to know some basic Python programming constructs so that you can write custom code and functions to handle situations where built in functions and libraries fall short.\n",
    "\n",
    "When you run code in Python, each statement is executed in the order in which they appear. Programming languages like Python let you change the order in which code executes, allowing you to skip statements or run certain statements over and over again. Programming constructs that let you alter the order in which code executes are known as control flow statements.\n",
    "\n",
    "Secara garis besar, Percabangan digunakan untuk membuat sebuah kode yang cara berjalannya kode ditentukan oleh pengetesan \n",
    "pernyataan bersyarat.\n",
    "\n",
    "Percabangan –dalam dunia pemrograman– adalah proses penentuan keputusan atau dalam bahasa inggris ini biasa disebut sebagai conditional statement\n",
    "\n",
    "Sama seperti fungsi pengecekan pada bollean, pada percabangan ini juga dilakukan dengan memanfaatkan operator \n",
    "pembanding.\n",
    "\n",
    "Premisnya adalah “Jika-Maka”."
   ]
  },
  {
   "cell_type": "markdown",
   "metadata": {},
   "source": [
    "• Conditional merupakan suatu kode untuk \n",
    "menghasilkan kondisi benar atau salah \n",
    "(Boolean)\n",
    "\n",
    "• Biasanya condition menggunakan tiga \n",
    "jenis operator khusus yang bisa \n",
    "menghasilkan nilai Boolean, yaitu \n",
    "comparison operator (==) , identity \n",
    "operator (is), dan logical operator (>) (Cek daftar operator pada notebook ini).\n",
    "\n",
    "• operator biasanya digunakan bersama if \n",
    "else statement untuk menjalankan \n",
    "berbagai kode yang memiliki kondisi \n",
    "tertentu (branching)\n",
    "\n",
    "syntax atau statement yang digunakan untuk melakukan percabangan adalah:\n",
    "\n",
    "if, elif, dan else\n",
    "\n",
    "Di mana if merupakan kondisi utama, sedangkan elif adalah kondisi kedua atau ketiga hingga ke-x, sedangkan else adalah kondisi terakhir di mana semua kondisi sebelumnya tidak ada yang terpenuhi"
   ]
  },
  {
   "cell_type": "markdown",
   "metadata": {},
   "source": [
    "Bisa kita simpulkan, bahwa di setiap program atau aplikasi, baik yang berbasis web, desktop, mobile, maupun CLI tidak akan pernah lepas dari yang namanya percabangan.\n",
    "\n",
    "Sehingga: logika percabangan adalah hal yang sangat dasar dan sangat penting sekali untuk dikuasai ketika kita mempelajari sebuah bahasa pemrograman tertentu."
   ]
  },
  {
   "cell_type": "markdown",
   "metadata": {},
   "source": [
    "Kondisi adalah sebuah variabel / atau nilai yang bertipe data boolean. \n",
    "\n",
    "Baik berupa nilai True/False secara langsung, atau pun sebuah ekspresi logika.\n",
    "\n",
    "Jika kondisi bernilai True, maka statements() akan dieksekusi oleh sistem."
   ]
  },
  {
   "cell_type": "markdown",
   "metadata": {},
   "source": [
    "IF\n",
    "\n",
    "• If digunakan saat terdapat satu pilihan keputusan.\n",
    "\n",
    "• Biasanya akan disertai dengan tiga jenis operator sebelumnya (comparison, identity, logical)\n",
    "\n",
    "• Jika tidak memenuhi kondisi tertentu, baris kode berikutnya yang sejajar indentasinya dengan \n",
    "if (atau tidak  memiliki indentasi) yang akan dijalankan."
   ]
  },
  {
   "cell_type": "code",
   "execution_count": null,
   "metadata": {},
   "outputs": [],
   "source": [
    "if kondisi:             #Bentuk dari kondisi IF di Python\n",
    "  statements()          #Statement yang akan dijalankan jika kondisi benar"
   ]
  },
  {
   "cell_type": "code",
   "execution_count": 1,
   "metadata": {},
   "outputs": [
    {
     "name": "stdout",
     "output_type": "stream",
     "text": [
      "Kode program ini akan dieksekusi\n",
      "Kode program ini akan selalu dieksekusi karena tidak termasuk pada percabangan\n"
     ]
    }
   ],
   "source": [
    "if True:\n",
    "  print('Kode program ini akan dieksekusi')\n",
    "\n",
    "if False:\n",
    "  print('Kode program ini tidak akan dieksekusi')\n",
    "#^Indentasi\n",
    "print('Kode program ini akan selalu dieksekusi karena tidak termasuk pada percabangan')"
   ]
  },
  {
   "cell_type": "markdown",
   "metadata": {},
   "source": [
    "Kenapa?\n",
    "\n",
    "Karena kondisi if yang kedua tidak bernilai True, sehingga statemen yang ada di dalamnya pun tidak akan pernah dieksekusi oleh sistem.\n",
    "\n",
    "Dan print() yang ke-3 akan selalu dieksekusi karena ia berada di luar blok kode if.\n",
    "\n",
    "Ingat bahwa blok kode di dalam python ditentukan oleh indentasi"
   ]
  },
  {
   "cell_type": "code",
   "execution_count": 2,
   "metadata": {},
   "outputs": [
    {
     "name": "stdout",
     "output_type": "stream",
     "text": [
      "x is greater than y\n"
     ]
    }
   ],
   "source": [
    "x = 10                # Assign some variables\n",
    "y = 5                 # Variabel bisa kita definisikan terlebih dahulu\n",
    "\n",
    "if x > y:             # If statement\n",
    "    print(\"x is greater than y\")\n",
    "\n",
    "#Dalam percabangan Python Indentasi akan otomatis terbentuk jika terdapat sebuah kondisi\n",
    "#Ini merupakan salah satu percabangan yang menggunakan expresi logika selain Boolean (True/False)"
   ]
  },
  {
   "cell_type": "code",
   "execution_count": 3,
   "metadata": {},
   "outputs": [
    {
     "name": "stdout",
     "output_type": "stream",
     "text": [
      "Nilai 10 lebih dari 5\n"
     ]
    }
   ],
   "source": [
    "if 5 > 10: # ❌ False\n",
    "  print('Nilai 5 lebih dari 10')\n",
    "\n",
    "if 10 > 5: # ✅ True\n",
    "  print('Nilai 10 lebih dari 5')"
   ]
  },
  {
   "cell_type": "markdown",
   "metadata": {},
   "source": [
    "IF ELSE"
   ]
  },
  {
   "cell_type": "markdown",
   "metadata": {},
   "source": [
    "If-else digunakan saat terdapat dua pilihan keputusan.\n",
    "\n",
    "Biasanya akan disertai dengan tiga jenis operator sebelumnya (comparison, identity, logical)"
   ]
  },
  {
   "cell_type": "code",
   "execution_count": null,
   "metadata": {},
   "outputs": [],
   "source": [
    "if kondisi:             #Bentuk dari kondisi IF di Python\n",
    "    statements          #Statement yang akan dijalankan jika kondisi benar\n",
    "    statements\n",
    "  else\n",
    "    statements\n",
    "    statements\n"
   ]
  },
  {
   "cell_type": "code",
   "execution_count": 5,
   "metadata": {},
   "outputs": [
    {
     "name": "stdout",
     "output_type": "stream",
     "text": [
      "Nilai anda adalah: 50 \n",
      "\n",
      "Maaf, anda tidak lulus.\n"
     ]
    }
   ],
   "source": [
    "nilai = 50\n",
    "\n",
    "print('Nilai anda adalah:', nilai, '\\n')\n",
    "\n",
    "if nilai >= 70:\n",
    "  print('Selamat, anda lulus!')\n",
    "else:\n",
    "  print('Maaf, anda tidak lulus.')"
   ]
  },
  {
   "cell_type": "code",
   "execution_count": 6,
   "metadata": {},
   "outputs": [
    {
     "name": "stdout",
     "output_type": "stream",
     "text": [
      "Nilai anda adalah: 99 \n",
      "\n",
      "Selamat, anda lulus!\n"
     ]
    }
   ],
   "source": [
    "nilai = int(input('Masukkan nilai anda: '))\n",
    "\n",
    "print('Nilai anda adalah:', nilai, '\\n')\n",
    "\n",
    "if nilai >= 70:\n",
    "  print('Selamat, anda lulus!')\n",
    "else:\n",
    "  print('Maaf, anda tidak lulus.')"
   ]
  },
  {
   "cell_type": "code",
   "execution_count": 8,
   "metadata": {},
   "outputs": [
    {
     "name": "stdout",
     "output_type": "stream",
     "text": [
      "y is greater than x\n"
     ]
    }
   ],
   "source": [
    "y = 25\n",
    "x = 10\n",
    "\n",
    "if x > y:\n",
    "    print(\"x is greater than y\")  # ❌ False\n",
    "else:\n",
    "    print(\"y is greater than x\")  # ✅ True\n",
    "    \n",
    "#In this case the logical expression after the if statement is false, \n",
    "#so the print statement after the if block is skipped and the print statement after the else block is executed instead."
   ]
  },
  {
   "cell_type": "markdown",
   "metadata": {},
   "source": [
    "IF ELIF ELSE\n",
    "\n",
    "You can extend this basic if/else construct to perform multiple logical checks in a row by adding one or more \"elif\" (else if) statements between the opening if and closing else. Each elif statement performs an additional logical check and executes its code if the check is true:"
   ]
  },
  {
   "cell_type": "markdown",
   "metadata": {},
   "source": [
    "Kita bisa membuat lebih dari 2 cabang logika. Dan pada python, untuk membuat lebih dari 2 cabang, kita bisa menggunakan blok kode if..elif..else."
   ]
  },
  {
   "cell_type": "code",
   "execution_count": null,
   "metadata": {},
   "outputs": [],
   "source": [
    "if kondisi:             #Bentuk dari kondisi IF di Python\n",
    "    statements          #Statement yang akan dijalankan jika kondisi benar\n",
    "    statements          #Kondisi pertama jika kondisi tsb benar/True\n",
    "  elif\n",
    "    statements          #kondisi kedua jika kondisi pertama tidak benar\n",
    "    statements\n",
    "  else\n",
    "    statements          #false branch\n",
    "    statements          #yang dimana statement ini akan dieksekusi jika tidak ada yang benar\n",
    "  "
   ]
  },
  {
   "cell_type": "code",
   "execution_count": 11,
   "metadata": {},
   "outputs": [
    {
     "name": "stdout",
     "output_type": "stream",
     "text": [
      "y is greater than x\n"
     ]
    }
   ],
   "source": [
    "y = int(input('Masukkan nilai anda: '))\n",
    "x = int(input('Masukkan nilai anda: '))\n",
    "\n",
    "if x > y:\n",
    "    print(\"x is greater than y\")\n",
    "elif x == y:\n",
    "    print(\"x and y are equal!\")\n",
    "else:\n",
    "    print(\"y is greater than x\")"
   ]
  },
  {
   "cell_type": "code",
   "execution_count": 12,
   "metadata": {},
   "outputs": [
    {
     "name": "stdout",
     "output_type": "stream",
     "text": [
      "x is greater than y\n"
     ]
    }
   ],
   "source": [
    "y = 10\n",
    "x = 11\n",
    "\n",
    "if x > y:\n",
    "    print(\"x is greater than y\")\n",
    "elif x == y:\n",
    "    print(\"x and y are equal!\")\n",
    "else:\n",
    "    print(\"y is greater than x\")"
   ]
  },
  {
   "cell_type": "markdown",
   "metadata": {},
   "source": [
    "Contoh yang paling umum digunakan untuk kasus percabangan if..elif..else adalah menentukan grade nilai suatu siswa.\n",
    "\n",
    "Jika nilainya sekian, dia dapat predikat A. Sedangkan jika nilainya sekian maka predikatnya adalah B, dan seterusnya."
   ]
  },
  {
   "cell_type": "markdown",
   "metadata": {},
   "source": [
    "Predikat A untuk nilai >= 90\n",
    "\n",
    "Predikat B untuk nilai >= 80 < 90\n",
    "\n",
    "Predikat C untuk nilai >= 60 < 80\n",
    "\n",
    "Predikat D untuk nilai >= 40 < 60\n",
    "\n",
    "Selain itu, maka predikat E.\n",
    "\n",
    "Dari 5 rule di atas, kita akan menggunakan satu if, 3 elif, dan 1 else."
   ]
  },
  {
   "cell_type": "code",
   "execution_count": 13,
   "metadata": {},
   "outputs": [
    {
     "name": "stdout",
     "output_type": "stream",
     "text": [
      "Predikat A\n"
     ]
    }
   ],
   "source": [
    "nilai = int(input('Masukkan nilai: '))\n",
    "\n",
    "if nilai >= 90:\n",
    "  print('Predikat A')\n",
    "elif nilai >= 80:\n",
    "  print('Predikat B')\n",
    "elif nilai >= 60:\n",
    "  print('Predikat C')\n",
    "elif nilai >= 40:\n",
    "  print('Predikat D')\n",
    "else:\n",
    "  print('Predikat E')"
   ]
  },
  {
   "cell_type": "markdown",
   "metadata": {},
   "source": [
    "Bagimana jika kita hanya membuat 1 pohon percabangan atau hanya 1 kondisi 'IF'? namun dengan banyak kondisi."
   ]
  },
  {
   "cell_type": "code",
   "execution_count": 14,
   "metadata": {},
   "outputs": [
    {
     "name": "stdout",
     "output_type": "stream",
     "text": [
      "Predikat A\n",
      "Predikat B\n",
      "Predikat C\n",
      "Predikat D\n"
     ]
    }
   ],
   "source": [
    "nilai = int(input('Masukkan nilai: '))\n",
    "\n",
    "if nilai >= 90:\n",
    "  print('Predikat A')\n",
    "if nilai >= 80:\n",
    "  print('Predikat B')\n",
    "if nilai >= 60:\n",
    "  print('Predikat C')\n",
    "if nilai >= 40:\n",
    "  print('Predikat D')\n",
    "else:\n",
    "  print('Predikat E')"
   ]
  },
  {
   "cell_type": "markdown",
   "metadata": {},
   "source": [
    "Jawabannya akan sangat banyak, atau semua kondisi terpenuhi."
   ]
  },
  {
   "cell_type": "markdown",
   "metadata": {},
   "source": [
    "Karena dalam pemrograman, pohon percabangan selalu hanya mengeluarkan satu kondisi yang terpenuhi.\n",
    "\n",
    "Jika ada lebih dari satu kondisi yang terpenuhi, maka kondisi yang pertamalah yang akan dieksekusi. Tidak semuanya. hal ini hanya berlaku jika kita membuat 1 pohon dengan banyak cabang.\n",
    "\n",
    "Namun jika kita menggunakan lebih dari 1 IF, maka kita sama saja membuat banyak pohon namun tanpa cabang.\n",
    "\n",
    "berbeda dengan kondisi IF ELSE atau IF ELIF ELSE. yang mana kondisi ini 1 pohon dengan banyak cabang.\n",
    "\n",
    "Di contoh yang kedua, kita sejatinya sedang membuat 4 buah pohon percabangan, oleh karena itu outputnya pun akan berbeda sesuai dengan banyaknya pohon percabangan yang kita buat"
   ]
  },
  {
   "cell_type": "markdown",
   "metadata": {},
   "source": [
    "Pada percabangan if..else, operator logika dan juga tipe data boolean akan sangat sering kita gunakan.\n",
    "\n",
    "Juga dengan Operator keanggotaan/identity."
   ]
  },
  {
   "cell_type": "code",
   "execution_count": 15,
   "metadata": {},
   "outputs": [
    {
     "name": "stdout",
     "output_type": "stream",
     "text": [
      "Buah yang anda cari tidak tersedia!\n"
     ]
    }
   ],
   "source": [
    "buah_yang_tersedia = ['jeruk', 'mangga', 'melon']\n",
    "buah_yang_dicari = input('Masukkan nama buah dalam huruf kecil: ')\n",
    "\n",
    "if (buah_yang_dicari in buah_yang_tersedia):\n",
    "  print('Buah yang anda cari tersedia!')\n",
    "else:\n",
    "  print('Buah yang anda cari tidak tersedia!')"
   ]
  },
  {
   "cell_type": "markdown",
   "metadata": {},
   "source": [
    "Percabangan Bertingkat"
   ]
  },
  {
   "cell_type": "markdown",
   "metadata": {},
   "source": [
    "Percabangan bertingkat adalah sebuah istilah untuk if di dalam if.\n",
    "\n"
   ]
  },
  {
   "cell_type": "code",
   "execution_count": null,
   "metadata": {},
   "outputs": [],
   "source": [
    "nilai = int(input('Masukkan nilai: '))\n",
    "usia = int(input('Masukkan usia: '))\n",
    "\n",
    "if nilai >= 75:\n",
    "  if (usia < 15):\n",
    "    print('Selamat adek, kamu lulus!')\n",
    "  else:\n",
    "    print('Selamat kakak, kamu lulus!')\n",
    "else:\n",
    "  if (usia < 15):\n",
    "    print('Mohon maaf dek, coba lagi ya!')\n",
    "  else:\n",
    "    print('Mohon maaf kak, coba lagi ya!')"
   ]
  },
  {
   "cell_type": "markdown",
   "metadata": {},
   "source": [
    "Blok Nilai akan diperiksa terlebih dahulu apakah yang dimasukkan adalah lulus atau tidak. Setelah itu, program akan memeriksa usia, apakah dia akan disapa dengan “kakak” atau kah dengan “adek”"
   ]
  }
 ],
 "metadata": {
  "kernelspec": {
   "display_name": "Python 3.10.4 64-bit",
   "language": "python",
   "name": "python3"
  },
  "language_info": {
   "codemirror_mode": {
    "name": "ipython",
    "version": 3
   },
   "file_extension": ".py",
   "mimetype": "text/x-python",
   "name": "python",
   "nbconvert_exporter": "python",
   "pygments_lexer": "ipython3",
   "version": "3.10.4"
  },
  "orig_nbformat": 4,
  "vscode": {
   "interpreter": {
    "hash": "48ec332f34da26a12a31a27950beb3623cfc914f965794f492d93a6b4d71cf89"
   }
  }
 },
 "nbformat": 4,
 "nbformat_minor": 2
}
