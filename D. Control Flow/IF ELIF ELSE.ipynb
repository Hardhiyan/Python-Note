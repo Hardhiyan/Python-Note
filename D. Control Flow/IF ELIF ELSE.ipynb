{
 "cells": [
  {
   "cell_type": "markdown",
   "metadata": {},
   "source": [
    "Percabangan digunakan untuk membuat sebuah kode yang cara berjalannya kode ditentukan oleh pengetesan \n",
    "pernyataan bersyarat.\n",
    "\n",
    "Percabangan –dalam dunia pemrograman– adalah proses penentuan keputusan atau dalam bahasa inggris ini biasa disebut sebagai conditional statement\n",
    "\n",
    "Sama seperti fungsi pengecekan pada bollean, pada percabangan ini juga dilakukan dengan memanfaatkan operator \n",
    "pembanding.\n",
    "\n",
    "Premisnya adalah “Jika-Maka”."
   ]
  },
  {
   "cell_type": "markdown",
   "metadata": {},
   "source": [
    "• Conditional merupakan suatu kode untuk \n",
    "menghasilkan kondisi benar atau salah \n",
    "(Boolean)\n",
    "\n",
    "• Biasanya condition menggunakan tiga \n",
    "jenis operator khusus yang bisa \n",
    "menghasilkan nilai Boolean, yaitu \n",
    "comparison operator (==) , identity \n",
    "operator (is), dan logical operator (>) (Cek daftar operator pada notebook ini).\n",
    "\n",
    "• operator biasanya digunakan bersama if \n",
    "else statement untuk menjalankan \n",
    "berbagai kode yang memiliki kondisi \n",
    "tertentu (branching)\n",
    "\n",
    "syntax atau statement yang digunakan untuk melakukan percabangan adalah:\n",
    "\n",
    "if, elif, dan else\n",
    "\n",
    "Di mana if merupakan kondisi utama, sedangkan elif adalah kondisi kedua atau ketiga hingga ke-x, sedangkan else adalah kondisi terakhir di mana semua kondisi sebelumnya tidak ada yang terpenuhi"
   ]
  },
  {
   "cell_type": "markdown",
   "metadata": {},
   "source": [
    "Conditional - If\n",
    "\n",
    "• If digunakan saat terdapat satu pilihan keputusan.\n",
    "\n",
    "• Biasanya akan disertai dengan tiga jenis operator sebelumnya (comparison, identity, logical)\n",
    "\n",
    "• Jika tidak memenuhi kondisi tertentu, baris kode berikutnya yang sejajar indentasinya dengan \n",
    "if (atau tidak  memiliki indentasi) yang akan dijalankan."
   ]
  },
  {
   "cell_type": "code",
   "execution_count": null,
   "metadata": {},
   "outputs": [],
   "source": [
    "if kondisi:     \n",
    "  statements()"
   ]
  },
  {
   "cell_type": "markdown",
   "metadata": {},
   "source": [
    "Kondisi adalah sebuah variabel / atau nilai yang bertipe data boolean. Baik berupa nilai True/False secara langsung, atau pun sebuah ekspresi logika.\n",
    "\n",
    "Jika kondisi bernilai True, maka statements() akan dieksekusi oleh sistem."
   ]
  },
  {
   "cell_type": "code",
   "execution_count": null,
   "metadata": {},
   "outputs": [],
   "source": []
  }
 ],
 "metadata": {
  "kernelspec": {
   "display_name": "Python 3.10.4 64-bit",
   "language": "python",
   "name": "python3"
  },
  "language_info": {
   "name": "python",
   "version": "3.10.4"
  },
  "orig_nbformat": 4,
  "vscode": {
   "interpreter": {
    "hash": "48ec332f34da26a12a31a27950beb3623cfc914f965794f492d93a6b4d71cf89"
   }
  }
 },
 "nbformat": 4,
 "nbformat_minor": 2
}
