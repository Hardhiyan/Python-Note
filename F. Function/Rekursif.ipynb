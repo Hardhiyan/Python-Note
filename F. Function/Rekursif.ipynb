{
 "cells": [
  {
   "cell_type": "markdown",
   "metadata": {},
   "source": [
    "# Fungsi Rekursif"
   ]
  },
  {
   "cell_type": "markdown",
   "metadata": {},
   "source": [
    "Di dalam dunia pemrograman, fungsi rekursif merupakan sebuah metode perulangan yang bersifat non-iterasi.\n",
    "\n",
    "Sebenarnya fungsi rekursif hanyalah sebuah fungsi biasa seperti fungsi def pada umumnya. Dia bisa dipanggil, bisa menerima parameter, bisa mengembalikan nilai, dan lain sebagainya.\n",
    "\n",
    "Fungsi ini memanggil dirinya sendiri sehingga menimbulkan efek perulangan. Perulangan ini bisa berhenti ketika kondisi tertentu tercapai, atau bisa juga bersifat tak terbatas, atau mungkin bahkan bisa menimbulkan error karena pemanggilan fungsi yang tak ada habisnya"
   ]
  },
  {
   "cell_type": "markdown",
   "metadata": {},
   "source": [
    "![Image of Yaktocat](https://ik.imagekit.io/jagongoding/storage/2021/02/python-dasar-fungsi-rekursif/cermin.jpeg)"
   ]
  },
  {
   "cell_type": "code",
   "execution_count": 1,
   "metadata": {},
   "outputs": [
    {
     "name": "stdout",
     "output_type": "stream",
     "text": [
      "0\n",
      "1\n",
      "2\n",
      "3\n",
      "4\n",
      "5\n",
      "6\n",
      "7\n",
      "8\n",
      "9\n"
     ]
    }
   ],
   "source": [
    "# Berawal dari perulangan FOR\n",
    "\n",
    "for i in range(10):\n",
    "  print(i)"
   ]
  },
  {
   "cell_type": "markdown",
   "metadata": {},
   "source": [
    "Kode diatas ada For Loop biasa.\n",
    "\n",
    "Nah, pertanyaannya adalah: bagaimana cara mengubah perulangan di atas menjadi perulangan rekursif?"
   ]
  },
  {
   "cell_type": "markdown",
   "metadata": {},
   "source": [
    "# Dasarnya"
   ]
  },
  {
   "cell_type": "code",
   "execution_count": 2,
   "metadata": {},
   "outputs": [
    {
     "name": "stdout",
     "output_type": "stream",
     "text": [
      "Perulangan ke 1\n",
      "Perulangan ke 2\n",
      "Perulangan ke 3\n"
     ]
    }
   ],
   "source": [
    "def tampilkanAngka (i):\n",
    "  print(f'Perulangan ke {i}')\n",
    "\n",
    "# panggil beberapa kali\n",
    "tampilkanAngka(1)\n",
    "tampilkanAngka(2)\n",
    "tampilkanAngka(3)\n",
    "\n",
    "# Fungsi tampilanAngka() kita panggil 3 kali dengan parameter i yang berbeda-beda."
   ]
  },
  {
   "cell_type": "markdown",
   "metadata": {},
   "source": [
    "# Tentukan batasnya"
   ]
  },
  {
   "cell_type": "markdown",
   "metadata": {},
   "source": [
    "Ubah parameter fungsi tampilkanAngka menjadi 2 parameter:\n",
    "\n",
    "1. batas - Sebagai batas dari perulangan. Ini bersifat wajib diisi.\n",
    "2. i - Ini sebagai penanda iterasi keberapa. Kita jadikan ini parameter ke-2 dan bersifat opsional."
   ]
  },
  {
   "cell_type": "code",
   "execution_count": 3,
   "metadata": {},
   "outputs": [
    {
     "name": "stdout",
     "output_type": "stream",
     "text": [
      "Perulangan ke 1\n",
      "Perulangan ke 2\n",
      "Perulangan ke 3\n"
     ]
    }
   ],
   "source": [
    "def tampilkanAngka (batas, i = 1):\n",
    "  print(f'Perulangan ke {i}')\n",
    "\n",
    "# Panggil beberapa kali untuk mensimulasikan\n",
    "# cara kerja\n",
    "tampilkanAngka(3)\n",
    "tampilkanAngka(3, 2)\n",
    "tampilkanAngka(3, 3)"
   ]
  },
  {
   "cell_type": "markdown",
   "metadata": {},
   "source": [
    "# Rekursifitas! Panggil diri sendiri"
   ]
  },
  {
   "cell_type": "markdown",
   "metadata": {},
   "source": [
    "Dari kode program terakhir, kita jadi tahu bagaimana harusnya fungsi tampilanAngka() dipanggil.\n",
    "\n",
    "Jika kita ingin menampilkan 10x perulangan, itu artinya:\n",
    "\n",
    "1. Parameter batas akan selalu bernilai 10\n",
    "2. Sedangkan parameter i akan bernilai 1 sampai dengan 10.\n",
    "3. Lalu ketika variabel i sudah sama dengan nilai variabel batas, maka perulangan dihentikan alias rekursifitas tidak perlu dilakukan lagi."
   ]
  },
  {
   "cell_type": "code",
   "execution_count": 5,
   "metadata": {},
   "outputs": [
    {
     "name": "stdout",
     "output_type": "stream",
     "text": [
      "Perulangan ke 1\n",
      "Perulangan ke 2\n",
      "Perulangan ke 3\n",
      "Perulangan ke 4\n",
      "Perulangan ke 5\n",
      "Perulangan ke 6\n",
      "Perulangan ke 7\n",
      "Perulangan ke 8\n",
      "Perulangan ke 9\n"
     ]
    }
   ],
   "source": [
    "def tampilkanAngka (batas, i = 1):\n",
    "  print(f'Perulangan ke {i}')\n",
    "\n",
    "  if (i < batas):\n",
    "    # di sini lah rekursifitas itu terjadi\n",
    "    tampilkanAngka(batas, i + 1)   #memanggil 'fungsi' sendiri\n",
    "\n",
    "# memanggil fungsi tampilkanAngka\n",
    "# untuk pertama  kali\n",
    "tampilkanAngka(9)"
   ]
  },
  {
   "cell_type": "markdown",
   "metadata": {},
   "source": [
    "# Perhatikan Alur Perjalanan Program"
   ]
  },
  {
   "cell_type": "markdown",
   "metadata": {},
   "source": [
    "Kita akan coba balik perintah print() dan perintah rekursif. Yang awalnya print() terlebih dulu kemudian proses rekursif, sekarang kita ubah menjadi proses rekursif dahulu baru setelah itu proses print()."
   ]
  },
  {
   "cell_type": "code",
   "execution_count": 6,
   "metadata": {},
   "outputs": [
    {
     "name": "stdout",
     "output_type": "stream",
     "text": [
      "Perulangan ke 10\n",
      "Perulangan ke 9\n",
      "Perulangan ke 8\n",
      "Perulangan ke 7\n",
      "Perulangan ke 6\n",
      "Perulangan ke 5\n",
      "Perulangan ke 4\n",
      "Perulangan ke 3\n",
      "Perulangan ke 2\n",
      "Perulangan ke 1\n"
     ]
    }
   ],
   "source": [
    "def tampilkanAngka (batas, i = 1):\n",
    "  if (i < batas):\n",
    "    # di sini lah rekursifitas itu terjadi\n",
    "    tampilkanAngka(batas, i + 1)\n",
    "\n",
    "  print(f'Perulangan ke {i}')    #posisi print yang dibalik dna ditukar \n",
    "\n",
    "# memanggil fungsi tampilanAngka\n",
    "# untuk pertama  kali\n",
    "tampilkanAngka(10)"
   ]
  },
  {
   "cell_type": "markdown",
   "metadata": {},
   "source": [
    "1. Kita manggil fungsi tampilanAngka(10).\n",
    "\n",
    "2. Lalu fungsi tersebut memanggil dirinya sendiri sebelum melakukan print()\n",
    "\n",
    "3. Dia hanya akan melakukan print() ketika proses rekursif selesai, alias setelah pemanggilan fungsi tampilanAngka() yang kedua selesai.\n",
    "\n",
    "4. Tapi, ternyata ketika memanggil yang kedua kalinya, dia langsung memanggil dirinya sendiri untuk yang ketiga kalinya. Dia hanya akan melakukan perintah print() ketika proses pemanggilan yang ketiga selesai.\n",
    "\n",
    "5. Begitu lah seterusnya hingga proses rekursif berakhir, sehingga perintah print() yang pertama kali dilakukan adalah yang ketiga"
   ]
  },
  {
   "cell_type": "code",
   "execution_count": 8,
   "metadata": {},
   "outputs": [
    {
     "name": "stdout",
     "output_type": "stream",
     "text": [
      "5\n",
      "4\n",
      "3\n",
      "2\n",
      "1\n"
     ]
    }
   ],
   "source": [
    "i = 1\n",
    "batas = 5\n",
    "\n",
    "if i < batas:\n",
    "  iDua = i + 1\n",
    "  if iDua < batas:\n",
    "    iTiga = iDua + 1\n",
    "    if iTiga < batas:\n",
    "      iEmpat = iTiga + 1\n",
    "      if iEmpat < batas:\n",
    "        iLima = iEmpat + 1\n",
    "        # dan seterusnya\n",
    "        print(iLima)\n",
    "      print(iEmpat)\n",
    "    print(iTiga)\n",
    "  print(iDua)\n",
    "print(i)"
   ]
  },
  {
   "cell_type": "markdown",
   "metadata": {},
   "source": [
    "Fungsi yang pertama kali dipanggil, adalah fungsi yang terakhir kali selesai. Dan fungsi yang terakhir kali dipanggil, ia adalah fungsi yang paling pertama selesai."
   ]
  },
  {
   "cell_type": "markdown",
   "metadata": {},
   "source": [
    "Keuntungan Menggunakan Rekursi\n",
    "\n",
    "1. Fungsi rekursi membuat kode terlihat lebih clean dan  elegan\n",
    "\n",
    "2. Fungsi yang rumit bisa dipecah menjadi lebih kecil dengan rekursi\n",
    "\n",
    "3. Membangkitkan data berurut lebih mudah menggunakan rekursi ketimbang menggunakan iterasi bersarang.\n",
    "\n",
    "Kerugian Menggunakan Rekursi\n",
    "\n",
    "1. Terkadang logika dibalik rekursi agak sukar untuk diikuti\n",
    "\n",
    "2. Pemanggilan rekursi kurang efektif karena memakan lebih banyak memori\n",
    "\n",
    "3. Fungsi rekursi lebih sulit untuk didebug"
   ]
  },
  {
   "cell_type": "markdown",
   "metadata": {},
   "source": [
    "Source: \n",
    "\n",
    "https://jagongoding.com/python/dasar/fungsi-rekursif/#:~:text=Program%20Rekursif%20Python-,Pengertian%20Fungsi%20Rekursif,mengembalikan%20nilai%2C%20dan%20lain%20sebagainya.\n",
    "\n",
    "https://www.pythonindo.com/fungsi-lanjut-python/"
   ]
  }
 ],
 "metadata": {
  "kernelspec": {
   "display_name": "Python 3.9.12 ('base')",
   "language": "python",
   "name": "python3"
  },
  "language_info": {
   "codemirror_mode": {
    "name": "ipython",
    "version": 3
   },
   "file_extension": ".py",
   "mimetype": "text/x-python",
   "name": "python",
   "nbconvert_exporter": "python",
   "pygments_lexer": "ipython3",
   "version": "3.9.12"
  },
  "orig_nbformat": 4,
  "vscode": {
   "interpreter": {
    "hash": "fe087a48aed1072ae97c1a59fe03ae759e22e8e25f54db6aadaa73caa8b774a1"
   }
  }
 },
 "nbformat": 4,
 "nbformat_minor": 2
}
